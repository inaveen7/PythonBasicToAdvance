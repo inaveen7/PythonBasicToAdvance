{
 "cells": [
  {
   "cell_type": "code",
   "execution_count": 1,
   "metadata": {},
   "outputs": [
    {
     "name": "stdout",
     "output_type": "stream",
     "text": [
      "15\n"
     ]
    }
   ],
   "source": [
    "# Python Operators:-\n",
    "\n",
    "'''\n",
    "-> Operators are used to perform operations on variables and values.\n",
    "\n",
    "-> In the below example, we use '+' operator to add together two values.\n",
    "\n",
    "'''\n",
    "\n",
    "# Example \n",
    "print(10+5)   # we operated + on two values"
   ]
  },
  {
   "cell_type": "code",
   "execution_count": null,
   "metadata": {},
   "outputs": [],
   "source": []
  },
  {
   "cell_type": "code",
   "execution_count": 2,
   "metadata": {},
   "outputs": [
    {
     "name": "stdout",
     "output_type": "stream",
     "text": [
      "15\n"
     ]
    }
   ],
   "source": [
    "a,b = 10, 5\n",
    "print(a+b)     # we operated + on two varibales 'a' and 'b'"
   ]
  },
  {
   "cell_type": "code",
   "execution_count": null,
   "metadata": {},
   "outputs": [],
   "source": []
  },
  {
   "cell_type": "code",
   "execution_count": 3,
   "metadata": {},
   "outputs": [
    {
     "name": "stdout",
     "output_type": "stream",
     "text": [
      "8\n",
      "2\n",
      "15\n",
      "1.6666666666666667\n",
      "2\n",
      "125\n"
     ]
    }
   ],
   "source": [
    "# Python Devides the operators into following groups\n",
    "\n",
    "'''\n",
    "1. Arithmetic  Operators\n",
    "\n",
    "2. Assignment  Operators\n",
    "\n",
    "3. Comparision Operators\n",
    "\n",
    "4. Logical     Operators\n",
    "\n",
    "5. Identity    Operators\n",
    "\n",
    "6. Membership  Operators\n",
    "\n",
    "7. Bitwise     Operators\n",
    "\n",
    "'''\n",
    "\n",
    "\n",
    "# 1. Python Arithmetic operators:-\n",
    "'''\n",
    " -> Arithmetic Operators are used with numeric values to perform common mathematical operations.\n",
    "'''\n",
    "\n",
    "# Examples:- \n",
    "x = 5 \n",
    "y = 3 \n",
    "\n",
    "# Addition \n",
    "print(x + y)\n",
    "\n",
    "\n",
    "\n",
    "# Subtraction\n",
    "print(x - y)\n",
    "\n",
    "\n",
    "\n",
    "# Multiplication\n",
    "print(x * y)\n",
    "\n",
    "\n",
    "\n",
    "# Division\n",
    "print(x / y)\n",
    "\n",
    "\n",
    "\n",
    "# Modulus\n",
    "print(x % y)        # modulus gives the reminder\n",
    "\n",
    "\n",
    "\n",
    "# Exponentiation \n",
    "print(x ** y)      # Exponetiation gives power value (2"
   ]
  },
  {
   "cell_type": "code",
   "execution_count": null,
   "metadata": {},
   "outputs": [],
   "source": []
  },
  {
   "cell_type": "code",
   "execution_count": null,
   "metadata": {},
   "outputs": [],
   "source": []
  },
  {
   "cell_type": "code",
   "execution_count": 5,
   "metadata": {},
   "outputs": [
    {
     "name": "stdout",
     "output_type": "stream",
     "text": [
      "8\n",
      "2\n",
      "15\n",
      "1.6666666666666667\n",
      "2\n",
      "125\n",
      "1\n"
     ]
    }
   ],
   "source": [
    "# Examples:- \n",
    "x = 5 \n",
    "y = 3 \n",
    "\n",
    "# Addition \n",
    "print(x + y)\n",
    "\n",
    "\n",
    "\n",
    "# Subtraction\n",
    "print(x - y)\n",
    "\n",
    "\n",
    "\n",
    "# Multiplication\n",
    "print(x * y)\n",
    "\n",
    "\n",
    "\n",
    "# Division\n",
    "print(x / y)\n",
    "\n",
    "\n",
    "\n",
    "# Modulus\n",
    "print(x % y)        # modulus gives the reminder\n",
    "\n",
    "\n",
    "\n",
    "# Exponentiation \n",
    "print(x ** y)      # Exponetiation gives power value (5^3 = 5*5*5 = 125)\n",
    "\n",
    "\n",
    "\n",
    "# Floor Division\n",
    "print(x // y)     ## the floor division // rounds the result down to the nearest whole number ( 5/3 =1.6, but 5//3 = 1)\n"
   ]
  },
  {
   "cell_type": "code",
   "execution_count": null,
   "metadata": {},
   "outputs": [],
   "source": []
  },
  {
   "cell_type": "code",
   "execution_count": 6,
   "metadata": {},
   "outputs": [
    {
     "name": "stdout",
     "output_type": "stream",
     "text": [
      "7\n"
     ]
    }
   ],
   "source": [
    "print(15 //2 )"
   ]
  },
  {
   "cell_type": "code",
   "execution_count": 7,
   "metadata": {},
   "outputs": [
    {
     "name": "stdout",
     "output_type": "stream",
     "text": [
      "7.5\n"
     ]
    }
   ],
   "source": [
    "print(15/2)"
   ]
  },
  {
   "cell_type": "code",
   "execution_count": null,
   "metadata": {},
   "outputs": [],
   "source": []
  },
  {
   "cell_type": "code",
   "execution_count": null,
   "metadata": {},
   "outputs": [],
   "source": []
  },
  {
   "cell_type": "code",
   "execution_count": null,
   "metadata": {},
   "outputs": [],
   "source": []
  },
  {
   "cell_type": "code",
   "execution_count": null,
   "metadata": {},
   "outputs": [],
   "source": []
  },
  {
   "cell_type": "code",
   "execution_count": 9,
   "metadata": {},
   "outputs": [],
   "source": [
    "# Python Assignment Operators\n",
    "\n",
    "# Refer the following links\n",
    "\n",
    "# basic           :- https://www.w3schools.com/python/python_operators.asp\n",
    "\n",
    "# intermediate    :- https://www.geeksforgeeks.org/python-operators/\n"
   ]
  },
  {
   "cell_type": "code",
   "execution_count": null,
   "metadata": {},
   "outputs": [],
   "source": []
  },
  {
   "cell_type": "code",
   "execution_count": null,
   "metadata": {},
   "outputs": [],
   "source": []
  },
  {
   "cell_type": "code",
   "execution_count": null,
   "metadata": {},
   "outputs": [],
   "source": []
  },
  {
   "cell_type": "code",
   "execution_count": 10,
   "metadata": {},
   "outputs": [
    {
     "name": "stdout",
     "output_type": "stream",
     "text": [
      "False\n"
     ]
    }
   ],
   "source": [
    "# Python Comparision Operators:- Comaprision operators are used to compare two values\n",
    "\n",
    "\n",
    "# Equal (==) :- if x == y retuns true, else returns false\n",
    "\n",
    "x = 5\n",
    "y = 3\n",
    "\n",
    "print(x==y)  \n",
    "\n",
    "\n",
    "\n"
   ]
  },
  {
   "cell_type": "code",
   "execution_count": null,
   "metadata": {},
   "outputs": [],
   "source": []
  },
  {
   "cell_type": "code",
   "execution_count": 11,
   "metadata": {},
   "outputs": [
    {
     "name": "stdout",
     "output_type": "stream",
     "text": [
      "True\n"
     ]
    }
   ],
   "source": [
    "# Not equal (!=) :- returns True if 'x' 'is not equls to 'y' , else returns Flase\n",
    "\n",
    "x = 5\n",
    "y = 3\n",
    "\n",
    "print(x != y)"
   ]
  },
  {
   "cell_type": "code",
   "execution_count": null,
   "metadata": {},
   "outputs": [],
   "source": []
  },
  {
   "cell_type": "code",
   "execution_count": 12,
   "metadata": {},
   "outputs": [
    {
     "name": "stdout",
     "output_type": "stream",
     "text": [
      "True\n"
     ]
    }
   ],
   "source": [
    "# Grater than ( > ) :- Returns True if left side value is grater than left side value, else returns False.\n",
    "\n",
    "x = 5 \n",
    "y = 3\n",
    "\n",
    "print(x > y)\n",
    "\n"
   ]
  },
  {
   "cell_type": "code",
   "execution_count": null,
   "metadata": {},
   "outputs": [],
   "source": []
  },
  {
   "cell_type": "code",
   "execution_count": 13,
   "metadata": {},
   "outputs": [
    {
     "name": "stdout",
     "output_type": "stream",
     "text": [
      "False\n"
     ]
    }
   ],
   "source": [
    "# Less than ( < ) :- Returns true if left side value is less than the right side value, else returns False.\n",
    "\n",
    "x = 5\n",
    "y = 3\n",
    "\n",
    "print(x < y)"
   ]
  },
  {
   "cell_type": "code",
   "execution_count": null,
   "metadata": {},
   "outputs": [],
   "source": []
  },
  {
   "cell_type": "code",
   "execution_count": 14,
   "metadata": {},
   "outputs": [
    {
     "name": "stdout",
     "output_type": "stream",
     "text": [
      "True\n"
     ]
    }
   ],
   "source": [
    "# Grater than or equal to ( >= ) :-Returns True in left side value is either grater than or equal to right side value, else false.\n",
    "\n",
    "x = 5 \n",
    "y = 3\n",
    "\n",
    "print(x >= 3)        # returns True because five is greater, or equal, to 3\n"
   ]
  },
  {
   "cell_type": "code",
   "execution_count": null,
   "metadata": {},
   "outputs": [],
   "source": []
  },
  {
   "cell_type": "code",
   "execution_count": 16,
   "metadata": {},
   "outputs": [
    {
     "name": "stdout",
     "output_type": "stream",
     "text": [
      "False\n"
     ]
    }
   ],
   "source": [
    "# Less than or equal to ( <= ) :- Returns True in left side value is either less than or equal to right side value, else false. \n",
    "\n",
    "x = 5\n",
    "y = 3\n",
    "\n",
    "print(x <= y)     # returns False because 5 is neither less than or equal to 3"
   ]
  },
  {
   "cell_type": "code",
   "execution_count": null,
   "metadata": {},
   "outputs": [],
   "source": []
  },
  {
   "cell_type": "code",
   "execution_count": null,
   "metadata": {},
   "outputs": [],
   "source": []
  },
  {
   "cell_type": "code",
   "execution_count": null,
   "metadata": {},
   "outputs": [],
   "source": []
  },
  {
   "cell_type": "code",
   "execution_count": 19,
   "metadata": {},
   "outputs": [
    {
     "name": "stdout",
     "output_type": "stream",
     "text": [
      "False\n"
     ]
    }
   ],
   "source": [
    "# python Logical operators :- Logical operators are used to combine conditional statements\n",
    "\n",
    "# and :- Returns true only if both the statements are true.\n",
    "\n",
    "x = 3 \n",
    "\n",
    "print( x > 5 and x < 3)      # returns True because 5 is greater than 3 AND 5 is less than 10\n",
    "\n"
   ]
  },
  {
   "cell_type": "code",
   "execution_count": null,
   "metadata": {},
   "outputs": [],
   "source": []
  },
  {
   "cell_type": "code",
   "execution_count": 20,
   "metadata": {},
   "outputs": [
    {
     "name": "stdout",
     "output_type": "stream",
     "text": [
      "True\n"
     ]
    }
   ],
   "source": [
    "\n",
    "# or :- Returns True if one of the statements is true\n",
    "\n",
    "x = 5\n",
    "\n",
    "print(x > 3 or x < 4)    # returns True because one of the conditions are true (5 is greater than 3, but 5 is not less than 4)\n"
   ]
  },
  {
   "cell_type": "code",
   "execution_count": null,
   "metadata": {},
   "outputs": [],
   "source": []
  },
  {
   "cell_type": "code",
   "execution_count": null,
   "metadata": {},
   "outputs": [],
   "source": []
  },
  {
   "cell_type": "code",
   "execution_count": 21,
   "metadata": {},
   "outputs": [
    {
     "name": "stdout",
     "output_type": "stream",
     "text": [
      "False\n"
     ]
    }
   ],
   "source": [
    "# not :- Reverse the result, returns False if the result is true\n",
    "\n",
    "x = 5\n",
    "\n",
    "print(not(x > 3 and x < 10))  # returns False because not is used to reverse the result\n",
    "\n"
   ]
  },
  {
   "cell_type": "code",
   "execution_count": null,
   "metadata": {},
   "outputs": [],
   "source": []
  },
  {
   "cell_type": "code",
   "execution_count": null,
   "metadata": {},
   "outputs": [],
   "source": []
  },
  {
   "cell_type": "code",
   "execution_count": null,
   "metadata": {},
   "outputs": [],
   "source": []
  },
  {
   "cell_type": "code",
   "execution_count": 22,
   "metadata": {},
   "outputs": [
    {
     "name": "stdout",
     "output_type": "stream",
     "text": [
      "True\n",
      "False\n",
      "True\n"
     ]
    }
   ],
   "source": [
    "# Python Identity Operators:- \n",
    "\n",
    "'''\n",
    "\n",
    "Identity operators are used to compare the objects, not if they are equal, \n",
    "but if they are actually the same object, with the same memory location:\n",
    "\n",
    "'''\n",
    "\n",
    "# is :- Returns True if the both variables are the same Object\n",
    "\n",
    "# x is y\n",
    "\n",
    "\n",
    "\n",
    "x = [\"apple\", \"banana\"]\n",
    "y = [\"apple\", \"banana\"]\n",
    "z = x\n",
    "\n",
    "print(x is z)     # returns True because z is the same object as x\n",
    "\n",
    "print(x is y)     # returns False because x is not the same object as y, even if they have the same content\n",
    "\n",
    "print(x == y)     # to demonstrate the difference betweeen \"is\" and \"==\": this comparison returns True because x is equal to y\n"
   ]
  },
  {
   "cell_type": "code",
   "execution_count": null,
   "metadata": {},
   "outputs": [],
   "source": []
  },
  {
   "cell_type": "code",
   "execution_count": null,
   "metadata": {},
   "outputs": [],
   "source": []
  },
  {
   "cell_type": "code",
   "execution_count": 23,
   "metadata": {},
   "outputs": [
    {
     "name": "stdout",
     "output_type": "stream",
     "text": [
      "False\n",
      "True\n",
      "False\n"
     ]
    }
   ],
   "source": [
    "# is not :- Returns True if both variables are not the same object.\n",
    "\n",
    "# x is not y\n",
    "\n",
    "\n",
    "\n",
    "\n",
    "x = [\"apple\", \"banana\"]\n",
    "y = [\"apple\", \"banana\"]\n",
    "z = x\n",
    "\n",
    "print(x is not z)\n",
    "\n",
    "# returns False because z is the same object as x\n",
    "\n",
    "print(x is not y)\n",
    "\n",
    "# returns True because x is not the same object as y, even if they have the same content\n",
    "\n",
    "print(x != y)\n",
    "\n",
    "# to demonstrate the difference betweeen \"is not\" and \"!=\": this comparison returns False because x is equal to y\n"
   ]
  },
  {
   "cell_type": "code",
   "execution_count": null,
   "metadata": {},
   "outputs": [],
   "source": []
  },
  {
   "cell_type": "code",
   "execution_count": null,
   "metadata": {},
   "outputs": [],
   "source": []
  },
  {
   "cell_type": "code",
   "execution_count": null,
   "metadata": {},
   "outputs": [],
   "source": []
  },
  {
   "cell_type": "code",
   "execution_count": 1,
   "metadata": {},
   "outputs": [
    {
     "name": "stdout",
     "output_type": "stream",
     "text": [
      "True\n"
     ]
    }
   ],
   "source": [
    "# Pythom Memebership Operators :- Membership operators are used to test if a sequence is present in an object \n",
    "\n",
    "# in :- Returns True if a sequence with the specified value is present in the object. (x in y)\n",
    "\n",
    "# Example :- \n",
    "\n",
    "x = ['apple','banana']\n",
    "print('banana' in x)    # returns True because a sequence with the value \"banana\" is in the list\n",
    "\n"
   ]
  },
  {
   "cell_type": "code",
   "execution_count": null,
   "metadata": {},
   "outputs": [],
   "source": []
  },
  {
   "cell_type": "code",
   "execution_count": null,
   "metadata": {},
   "outputs": [],
   "source": []
  },
  {
   "cell_type": "code",
   "execution_count": 2,
   "metadata": {},
   "outputs": [
    {
     "name": "stdout",
     "output_type": "stream",
     "text": [
      "False\n"
     ]
    }
   ],
   "source": [
    "# not in :- Returns true if a sequence with the specified value is not present in the object. (x not in y)\n",
    "\n",
    "# Example :- \n",
    "x = ['apple','banana']\n",
    "print('pineapple' in x)    # returns True because a sequence with the value \"pineapple\" is not in the list"
   ]
  },
  {
   "cell_type": "code",
   "execution_count": null,
   "metadata": {},
   "outputs": [],
   "source": []
  },
  {
   "cell_type": "code",
   "execution_count": null,
   "metadata": {},
   "outputs": [],
   "source": []
  },
  {
   "cell_type": "code",
   "execution_count": null,
   "metadata": {},
   "outputs": [],
   "source": []
  },
  {
   "cell_type": "code",
   "execution_count": null,
   "metadata": {},
   "outputs": [],
   "source": [
    "#Python Bitwise Operators :- Bitwise operators are used to compare (binary) numbers:\n",
    "\n",
    "\n",
    "Operator       Name                           Description\n",
    "&           \tAND                         \tSets each bit to 1 if both bits are 1\n",
    "|           \tOR                          \tSets each bit to 1 if one of two bits is 1\n",
    " ^          \tXOR                         \tSets each bit to 1 if only one of two bits is 1\n",
    "~           \tNOT                         \tInverts all the bits\n",
    "<<          \tZero fill left shift        \tShift left by pushing zeros in from the right and let the leftmost bits fall off\n",
    ">>          \tSigned right shift          \tShift right by pushing copies of the leftmost bit in from the left, and let the rightmost bits fall off\n"
   ]
  }
 ],
 "metadata": {
  "kernelspec": {
   "display_name": "Python 3",
   "language": "python",
   "name": "python3"
  },
  "language_info": {
   "codemirror_mode": {
    "name": "ipython",
    "version": 3
   },
   "file_extension": ".py",
   "mimetype": "text/x-python",
   "name": "python",
   "nbconvert_exporter": "python",
   "pygments_lexer": "ipython3",
   "version": "3.7.6"
  }
 },
 "nbformat": 4,
 "nbformat_minor": 4
}
