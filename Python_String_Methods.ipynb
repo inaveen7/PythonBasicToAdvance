{
 "cells": [
  {
   "cell_type": "code",
   "execution_count": null,
   "metadata": {},
   "outputs": [],
   "source": [
    "# Python String Methods :- 44\n",
    "\n",
    "'''\n",
    "Method                      \t                  Description\n",
    "\n",
    "capitalize()                \t   Converts the first character to upper case\n",
    "\n",
    "casefold()                  \t   Converts string into lower case\n",
    "\n",
    "center()                    \t   Returns a centered string\n",
    "\n",
    "count()                     \t   Returns the number of times a specified value occurs in a string\n",
    "\n",
    "encode()                    \t   Returns an encoded version of the string\n",
    "\n",
    "endswith()                  \t   Returns true if the string ends with the specified value\n",
    "\n",
    "expandtabs()                \t   Sets the tab size of the string\n",
    "\n",
    "find()                      \t   Searches the string for a specified value and returns the position of where it was found\n",
    "\n",
    "format()                    \t   Formats specified values in a string\n",
    "\n",
    "format_map()                \t   Formats specified values in a string\n",
    "\n",
    "index()                     \t   Searches the string for a specified value and returns the position of where it was found\n",
    "\n",
    "isalnum()                   \t   Returns True if all characters in the string are alphanumeric\n",
    "\n",
    "isalpha()                   \t   Returns True if all characters in the string are in the alphabet\n",
    "\n",
    "isdecimal()                 \t   Returns True if all characters in the string are decimals\n",
    "\n",
    "isdigit()                   \t   Returns True if all characters in the string are digits\n",
    "\n",
    "isidentifier()              \t   Returns True if the string is an identifier\n",
    "\n",
    "islower()                   \t   Returns True if all characters in the string are lower case\n",
    "\n",
    "isnumeric()                 \t   Returns True if all characters in the string are numeric\n",
    "\n",
    "isprintable()               \t   Returns True if all characters in the string are printable\n",
    "\n",
    "isspace()                   \t   Returns True if all characters in the string are whitespaces\n",
    "\n",
    "istitle()                   \t   Returns True if the string follows the rules of a title\n",
    "\n",
    "isupper()                   \t   Returns True if all characters in the string are upper case\n",
    "\n",
    "join()                      \t   Joins the elements of an iterable to the end of the string\n",
    "\n",
    "ljust()                     \t   Returns a left justified version of the string\n",
    "\n",
    "lower()                     \t   Converts a string into lower case\n",
    "\n",
    "\n",
    "lstrip()                    \t   Returns a left trim version of the string\n",
    "maketrans()                 \t   Returns a translation table to be used in translations\n",
    "\n",
    "partition()                 \t   Returns a tuple where the string is parted into three parts\n",
    "\n",
    "replace()                   \t   Returns a string where a specified value is replaced with a specified value\n",
    "\n",
    "rfind()                     \t   Searches the string for a specified value and returns the last position of where it was found\n",
    "\n",
    "rindex()                    \t   Searches the string for a specified value and returns the last position of where it was found\n",
    "\n",
    "rjust()                     \t   Returns a right justified version of the string\n",
    "\n",
    "rpartition()                \t   Returns a tuple where the string is parted into three parts\n",
    "\n",
    "rsplit()                    \t   Splits the string at the specified separator, and returns a list\n",
    "\n",
    "rstrip()                    \t   Returns a right trim version of the string\n",
    "\n",
    "split()                     \t   Splits the string at the specified separator, and returns a list\n",
    "\n",
    "splitlines()                \t   Splits the string at line breaks and returns a list\n",
    "\n",
    "startswith()                \t   Returns true if the string starts with the specified value\n",
    "\n",
    "strip()                     \t   Returns a trimmed version of the string\n",
    "\n",
    "swapcase()                  \t   Swaps cases, lower case becomes upper case and vice versa\n",
    "\n",
    "title()                     \t   Converts the first character of each word to upper case\n",
    "\n",
    "translate()                 \t   Returns a translated string\n",
    "\n",
    "upper()                     \t   Converts a string into upper case\n",
    "\n",
    "zfill()                     \t   Fills the string with a specified number of 0 values at the beginning\n",
    "\n",
    "\n",
    "\n",
    "'''"
   ]
  },
  {
   "cell_type": "code",
   "execution_count": 2,
   "metadata": {},
   "outputs": [],
   "source": [
    "# Let's explore all the String methods with examples"
   ]
  },
  {
   "cell_type": "code",
   "execution_count": 14,
   "metadata": {},
   "outputs": [
    {
     "name": "stdout",
     "output_type": "stream",
     "text": [
      "Kiran, welcome to python world\n"
     ]
    }
   ],
   "source": [
    "# capitalize() :\n",
    "\n",
    "'''\n",
    "    The capitalize() method returns a string where the first character is upper case.\n",
    "'''\n",
    "\n",
    "txt = 'kiran, welcome to python World'\n",
    "\n",
    "txt = txt.capitalize()\n",
    "\n",
    "print(txt)\n",
    "\n"
   ]
  },
  {
   "cell_type": "code",
   "execution_count": null,
   "metadata": {},
   "outputs": [],
   "source": []
  },
  {
   "cell_type": "code",
   "execution_count": null,
   "metadata": {},
   "outputs": [],
   "source": []
  },
  {
   "cell_type": "code",
   "execution_count": 4,
   "metadata": {},
   "outputs": [
    {
     "name": "stdout",
     "output_type": "stream",
     "text": [
      "hello!, and welcome to my world\n"
     ]
    }
   ],
   "source": [
    "# casefold() :\n",
    "\n",
    "'''\n",
    "The casefold() method returns a string where all the characters are lower case.\n",
    "\n",
    "This method is similar to the lower() method, but the casefold() method is stronger, more aggressive, \n",
    "meaning that it will convert more characters into lower case, \n",
    "and will find more matches when comparing two strings and both are converted using the casefold() method.\n",
    "\n",
    "'''\n",
    "\n",
    "txt = 'Hello!, And Welcome TO My World'\n",
    "\n",
    "txt = txt.casefold()     # casefold() method will return the entire string in lower case and is similar to and efficient than \n",
    "                         # lower() method in python\n",
    "\n",
    "print(txt)"
   ]
  },
  {
   "cell_type": "code",
   "execution_count": null,
   "metadata": {},
   "outputs": [],
   "source": []
  },
  {
   "cell_type": "code",
   "execution_count": 5,
   "metadata": {},
   "outputs": [
    {
     "name": "stdout",
     "output_type": "stream",
     "text": [
      "       banana       \n"
     ]
    }
   ],
   "source": [
    "# center() :\n",
    "\n",
    "'''\n",
    "The center() method will center align the string, using a specified character (space is default) as the fill character.\n",
    "\n",
    "Syntax:- string.center(length, character)\n",
    "\n",
    "Parameter Values:\n",
    "\n",
    "Parameter   \t    Description\n",
    "length      \t    Required. The length of the returned string\n",
    "character   \t    Optional. The character to fill the missing space on each side. Default is \" \" (space)\n",
    "\n",
    "\n",
    "'''\n",
    "# Syntax:-  string.center(length, character)\n",
    "\n",
    "# Example:- print the word 'banana' taking up the spaces of 20 characters, with the \"banana\" in the middle \n",
    "\n",
    "txt = 'banana'\n",
    "\n",
    "txt = txt.center(20)\n",
    "\n",
    "print(txt)\n"
   ]
  },
  {
   "cell_type": "code",
   "execution_count": null,
   "metadata": {},
   "outputs": [],
   "source": []
  },
  {
   "cell_type": "code",
   "execution_count": null,
   "metadata": {},
   "outputs": [],
   "source": []
  },
  {
   "cell_type": "code",
   "execution_count": 6,
   "metadata": {},
   "outputs": [
    {
     "name": "stdout",
     "output_type": "stream",
     "text": [
      "#######banana#######\n"
     ]
    }
   ],
   "source": [
    "#Syntax:-  string.center(length, character)\n",
    "\n",
    "txt = 'banana'\n",
    "\n",
    "txt = txt.center(20,'#')\n",
    "\n",
    "print(txt)"
   ]
  },
  {
   "cell_type": "code",
   "execution_count": null,
   "metadata": {},
   "outputs": [],
   "source": []
  },
  {
   "cell_type": "code",
   "execution_count": null,
   "metadata": {},
   "outputs": [],
   "source": []
  },
  {
   "cell_type": "code",
   "execution_count": null,
   "metadata": {},
   "outputs": [],
   "source": [
    "# count\n",
    "\n",
    "''' ->The count method returns the number of times a specified value appears in the String\n",
    "'''\n",
    "\n",
    "#Syntax :- string.count(value, start, end)\n",
    "\n",
    "#Parameter Values :\n",
    "'''\n",
    "Parameter   \t   Description\n",
    "\n",
    "value       \t   Required. A String. The string to value to search for\n",
    "start       \t   Optional. An Integer. The position to start the search. Default is 0\n",
    "end         \t   Optional. An Integer. The position to end the search. Default is the end of the string\n",
    "\n",
    "'''"
   ]
  },
  {
   "cell_type": "code",
   "execution_count": 8,
   "metadata": {},
   "outputs": [
    {
     "name": "stdout",
     "output_type": "stream",
     "text": [
      "2\n"
     ]
    }
   ],
   "source": [
    "# Example :- Return the number of times the value \"apple\" appears in the String \n",
    "\n",
    "txt = 'I love apples, apple are my favorite fruit'\n",
    "\n",
    "x= txt.count(\"apple\")\n",
    "\n",
    "print(x)"
   ]
  },
  {
   "cell_type": "code",
   "execution_count": 9,
   "metadata": {},
   "outputs": [
    {
     "name": "stdout",
     "output_type": "stream",
     "text": [
      "1\n"
     ]
    }
   ],
   "source": [
    "# Example :- Search from position 10 to 24:\n",
    "\n",
    "txt = \"I love apples, apple are my favorite friut\"\n",
    "\n",
    "#Syntax :- string.count(value, start, end)\n",
    "\n",
    "x = txt.count(\"apple\", 10, 24)\n",
    "\n",
    "print(x)\n",
    "\n"
   ]
  },
  {
   "cell_type": "code",
   "execution_count": null,
   "metadata": {},
   "outputs": [],
   "source": []
  },
  {
   "cell_type": "code",
   "execution_count": null,
   "metadata": {},
   "outputs": [],
   "source": []
  },
  {
   "cell_type": "code",
   "execution_count": null,
   "metadata": {},
   "outputs": [],
   "source": [
    "# encode() \n",
    "\n",
    "'''-> The \"encode()\" method encodes the string, using specified encoding. if no encoding is specified, UTF-8 will be used. \n",
    "\n",
    "\n",
    "Syntax:- string.encode(encoding=encoding, errors=errors)\n",
    "\n",
    "\n",
    "Parameter Values:\n",
    "Parameter               \t  Description\n",
    "\n",
    "encoding                \t  Optional. A String specifying the encoding to use. Default is UTF-8\n",
    "\n",
    "errors                  \t  Optional. A String specifying the error method. \n",
    "\n",
    "\n",
    "\n",
    "Legal values are:\n",
    "\n",
    "'backslashreplace'      \t  uses a backslash instead of the character that could not be encoded\n",
    "\n",
    "'ignore'                \t  ignores the characters that cannot be encoded\n",
    "\n",
    "'namereplace'           \t  replaces the character with a text explaining the character\n",
    "\n",
    "'strict'                \t  Default, raises an error on failure\n",
    "\n",
    "'replace'               \t  replaces the character with a questionmark\n",
    "\n",
    "'xmlcharrefreplace'     \t  replaces the character with an xml character\n",
    "\n",
    "'''\n",
    "\n",
    "\n",
    "\n"
   ]
  },
  {
   "cell_type": "code",
   "execution_count": 11,
   "metadata": {},
   "outputs": [
    {
     "name": "stdout",
     "output_type": "stream",
     "text": [
      "b'Naveen\\\\N{CLAPPING HANDS SIGN}'\n",
      "b'Naveen\\\\U0001f44f'\n",
      "b'Naveen'\n",
      "b'Naveen?'\n",
      "b'Naveen&#128079;'\n"
     ]
    }
   ],
   "source": [
    "# Example \n",
    "\n",
    "txt = \"Naveen👏\"\n",
    "\n",
    "print(txt.encode(encoding = 'ASCII', errors='namereplace'))\n",
    "print(txt.encode(encoding = 'ASCII', errors='backslashreplace'))\n",
    "print(txt.encode(encoding = 'ASCII', errors='ignore'))\n",
    "#print(txt.encode(encoding = 'ASCII', errors='strict'))\n",
    "print(txt.encode(encoding = 'ASCII', errors='replace'))\n",
    "print(txt.encode(encoding = 'ASCII', errors='xmlcharrefreplace'))"
   ]
  },
  {
   "cell_type": "code",
   "execution_count": null,
   "metadata": {},
   "outputs": [],
   "source": []
  },
  {
   "cell_type": "code",
   "execution_count": 12,
   "metadata": {},
   "outputs": [
    {
     "name": "stdout",
     "output_type": "stream",
     "text": [
      "b'Naveen\\xf0\\x9f\\x91\\x8f'\n"
     ]
    }
   ],
   "source": [
    "print(txt.encode(encoding = 'UTF-8', errors='strict'))"
   ]
  },
  {
   "cell_type": "code",
   "execution_count": null,
   "metadata": {},
   "outputs": [],
   "source": []
  },
  {
   "cell_type": "code",
   "execution_count": 13,
   "metadata": {},
   "outputs": [
    {
     "ename": "UnicodeEncodeError",
     "evalue": "'ascii' codec can't encode character '\\U0001f44f' in position 6: ordinal not in range(128)",
     "output_type": "error",
     "traceback": [
      "\u001b[1;31m---------------------------------------------------------------------------\u001b[0m",
      "\u001b[1;31mUnicodeEncodeError\u001b[0m                        Traceback (most recent call last)",
      "\u001b[1;32m<ipython-input-13-a37b22386932>\u001b[0m in \u001b[0;36m<module>\u001b[1;34m\u001b[0m\n\u001b[0;32m      1\u001b[0m \u001b[0mtxt\u001b[0m \u001b[1;33m=\u001b[0m \u001b[1;34m\"Naveen👏\"\u001b[0m\u001b[1;33m\u001b[0m\u001b[1;33m\u001b[0m\u001b[0m\n\u001b[0;32m      2\u001b[0m \u001b[1;33m\u001b[0m\u001b[0m\n\u001b[1;32m----> 3\u001b[1;33m \u001b[0mprint\u001b[0m\u001b[1;33m(\u001b[0m\u001b[0mtxt\u001b[0m\u001b[1;33m.\u001b[0m\u001b[0mencode\u001b[0m\u001b[1;33m(\u001b[0m\u001b[0mencoding\u001b[0m\u001b[1;33m=\u001b[0m\u001b[1;34m'ASCII'\u001b[0m\u001b[1;33m)\u001b[0m\u001b[1;33m)\u001b[0m\u001b[1;33m\u001b[0m\u001b[1;33m\u001b[0m\u001b[0m\n\u001b[0m",
      "\u001b[1;31mUnicodeEncodeError\u001b[0m: 'ascii' codec can't encode character '\\U0001f44f' in position 6: ordinal not in range(128)"
     ]
    }
   ],
   "source": [
    "txt = \"Naveen👏\"\n",
    "\n",
    "print(txt.encode(encoding='ASCII'))"
   ]
  },
  {
   "cell_type": "code",
   "execution_count": null,
   "metadata": {},
   "outputs": [],
   "source": []
  },
  {
   "cell_type": "code",
   "execution_count": 15,
   "metadata": {},
   "outputs": [
    {
     "name": "stdout",
     "output_type": "stream",
     "text": [
      "b'Naveen\\xf0\\x9f\\x91\\x8f'\n"
     ]
    }
   ],
   "source": [
    "txt = \"Naveen👏\"\n",
    "\n",
    "print(txt.encode(encoding='UTF-8'))"
   ]
  },
  {
   "cell_type": "code",
   "execution_count": null,
   "metadata": {},
   "outputs": [],
   "source": []
  },
  {
   "cell_type": "code",
   "execution_count": null,
   "metadata": {},
   "outputs": [],
   "source": []
  },
  {
   "cell_type": "code",
   "execution_count": null,
   "metadata": {},
   "outputs": [],
   "source": []
  },
  {
   "cell_type": "code",
   "execution_count": 16,
   "metadata": {},
   "outputs": [
    {
     "name": "stdout",
     "output_type": "stream",
     "text": [
      "True\n"
     ]
    }
   ],
   "source": [
    "# endswith() \n",
    "\n",
    "'''-> The endswith() method returns True if the String ends with the specified value, Otherwise False.\n",
    "'''\n",
    "#Example:-\n",
    "\n",
    "txt = \"Hello, welcome to my world.\"\n",
    "\n",
    "print(txt.endswith('.')) # here, we are checking the string ends with the specified value, '.'"
   ]
  },
  {
   "cell_type": "code",
   "execution_count": null,
   "metadata": {},
   "outputs": [],
   "source": []
  },
  {
   "cell_type": "code",
   "execution_count": 17,
   "metadata": {},
   "outputs": [
    {
     "name": "stdout",
     "output_type": "stream",
     "text": [
      "True\n"
     ]
    }
   ],
   "source": [
    "#Syntax :- string.endswith(value, start, end)\n",
    "\n",
    "'''\n",
    "Parameter Values:\n",
    "    \n",
    "Parameter       \t    Description\n",
    "\n",
    "value           \t    Required. The value to check if the string ends with\n",
    "start           \t    Optional. An Integer specifying at which position to start the search\n",
    "end             \t    Optional. An Integer specifying at which position to end the search\n",
    "\n",
    "'''\n",
    "\n",
    "# Example :- Check if the Strings ends with the phrase \"my world.\"\n",
    "\n",
    "txt = 'Hello, welcome to my world.'\n",
    "\n",
    "print(txt.endswith('my world.'))"
   ]
  },
  {
   "cell_type": "code",
   "execution_count": null,
   "metadata": {},
   "outputs": [],
   "source": []
  },
  {
   "cell_type": "code",
   "execution_count": null,
   "metadata": {},
   "outputs": [],
   "source": []
  },
  {
   "cell_type": "code",
   "execution_count": 18,
   "metadata": {},
   "outputs": [
    {
     "name": "stdout",
     "output_type": "stream",
     "text": [
      "False\n"
     ]
    }
   ],
   "source": [
    "# Example :- check if the the position 5 to 11 ends with the phrase \"my world.\"\n",
    "\n",
    "txt = 'Hello, welcome to my world.'\n",
    "\n",
    "print(txt.endswith('my world.', 5, 11))"
   ]
  },
  {
   "cell_type": "code",
   "execution_count": null,
   "metadata": {},
   "outputs": [],
   "source": []
  },
  {
   "cell_type": "code",
   "execution_count": null,
   "metadata": {},
   "outputs": [],
   "source": []
  },
  {
   "cell_type": "code",
   "execution_count": null,
   "metadata": {},
   "outputs": [],
   "source": []
  },
  {
   "cell_type": "code",
   "execution_count": 25,
   "metadata": {},
   "outputs": [
    {
     "name": "stdout",
     "output_type": "stream",
     "text": [
      "H e l l o\n"
     ]
    }
   ],
   "source": [
    "# expandtabs() \n",
    "\n",
    "'''-> The expandtabs() method sets the Tabsize to specified number of White spaces.\n",
    "'''\n",
    "# Syntax:- string.expandtabs(tabsize)\n",
    "\n",
    "#Example :- Expand the tabsize to 2 white spaces\n",
    "\n",
    "txt = \"H\\te\\tl\\tl\\to\"\n",
    "#print(txt)                     # Default tab size will be 8 spaces\n",
    "print(txt.expandtabs(2))\n",
    "\n"
   ]
  },
  {
   "cell_type": "code",
   "execution_count": null,
   "metadata": {},
   "outputs": [],
   "source": []
  },
  {
   "cell_type": "code",
   "execution_count": 32,
   "metadata": {},
   "outputs": [
    {
     "name": "stdout",
     "output_type": "stream",
     "text": [
      "H\te\tl\tl\to\n",
      "H       e       l       l       o\n",
      "H e l l o\n",
      "H   e   l   l   o\n",
      "H         e         l         l         o\n"
     ]
    }
   ],
   "source": [
    "'''\n",
    "Parameter Values:\n",
    "    \n",
    "Parameter           \t  Description\n",
    "\n",
    "tabsize             \t  Optional. A number specifying the tabsize. Default tabsize is 8\n",
    "\n",
    "'''\n",
    "\n",
    "\n",
    "# Example \n",
    "\n",
    "txt = \"H\\te\\tl\\tl\\to\"\n",
    "\n",
    "print(txt)                  # default size will be 8\n",
    "print(txt.expandtabs())\n",
    "print(txt.expandtabs(2))    # default size will be 8\n",
    "print(txt.expandtabs(4))\n",
    "print(txt.expandtabs(10))\n",
    "\n"
   ]
  },
  {
   "cell_type": "code",
   "execution_count": null,
   "metadata": {},
   "outputs": [],
   "source": []
  },
  {
   "cell_type": "code",
   "execution_count": null,
   "metadata": {},
   "outputs": [],
   "source": []
  },
  {
   "cell_type": "code",
   "execution_count": 34,
   "metadata": {},
   "outputs": [
    {
     "name": "stdout",
     "output_type": "stream",
     "text": [
      "-1\n"
     ]
    },
    {
     "ename": "ValueError",
     "evalue": "substring not found",
     "output_type": "error",
     "traceback": [
      "\u001b[1;31m---------------------------------------------------------------------------\u001b[0m",
      "\u001b[1;31mValueError\u001b[0m                                Traceback (most recent call last)",
      "\u001b[1;32m<ipython-input-34-c846b08a1b0f>\u001b[0m in \u001b[0;36m<module>\u001b[1;34m\u001b[0m\n\u001b[0;32m     18\u001b[0m \u001b[1;33m\u001b[0m\u001b[0m\n\u001b[0;32m     19\u001b[0m \u001b[0mprint\u001b[0m\u001b[1;33m(\u001b[0m\u001b[0mtxt\u001b[0m\u001b[1;33m.\u001b[0m\u001b[0mfind\u001b[0m\u001b[1;33m(\u001b[0m\u001b[1;34m'q'\u001b[0m\u001b[1;33m)\u001b[0m\u001b[1;33m)\u001b[0m\u001b[1;33m\u001b[0m\u001b[1;33m\u001b[0m\u001b[0m\n\u001b[1;32m---> 20\u001b[1;33m \u001b[0mprint\u001b[0m\u001b[1;33m(\u001b[0m\u001b[0mtxt\u001b[0m\u001b[1;33m.\u001b[0m\u001b[0mindex\u001b[0m\u001b[1;33m(\u001b[0m\u001b[1;34m'q'\u001b[0m\u001b[1;33m)\u001b[0m\u001b[1;33m)\u001b[0m\u001b[1;33m\u001b[0m\u001b[1;33m\u001b[0m\u001b[0m\n\u001b[0m",
      "\u001b[1;31mValueError\u001b[0m: substring not found"
     ]
    }
   ],
   "source": [
    "# find()\n",
    "\n",
    "'''\n",
    "   -> The find method Search the string for a specified value and returns the position where it was found.\n",
    "\n",
    "   -> The find() method finds the first occurrence of the specified value.\n",
    "   \n",
    "   -> The find method retuns -1 if the specified value is not found.\n",
    "   \n",
    "   -> The find() method is almost the same as the index() method, \n",
    "       the only difference is that the index() method raises an exception if the value is not found. (See example below)\n",
    "'''\n",
    "\n",
    "#Example \n",
    "# If the value is not found, the find() method returns -1, but the index() method will raise an exception:\n",
    "\n",
    "txt = 'Hello, welcome to my world.'\n",
    "\n",
    "print(txt.find('q'))\n",
    "print(txt.index('q'))\n"
   ]
  },
  {
   "cell_type": "code",
   "execution_count": null,
   "metadata": {},
   "outputs": [],
   "source": []
  },
  {
   "cell_type": "code",
   "execution_count": 36,
   "metadata": {},
   "outputs": [
    {
     "name": "stdout",
     "output_type": "stream",
     "text": [
      "1\n"
     ]
    }
   ],
   "source": [
    "#Syntax:-   string.find(value, start, end)\n",
    "\n",
    "#Parameter Values:\n",
    "\n",
    "'''\n",
    "    \n",
    "Parameter               \t    Description\n",
    "\n",
    "value                   \t    Required. The value to search for\n",
    "start                   \t    Optional. Where to start the search. Default is 0\n",
    "end                     \t    Optional. Where to end the search. Default is to the end of the string\n",
    "\n",
    "'''\n",
    "\n",
    "#Example :- What is the first occurance of the letter 'e' in the text txt.\n",
    "\n",
    "txt = 'Hello, welcome to my world.'\n",
    "\n",
    "x = txt.find('e')\n",
    "\n",
    "print(x)\n"
   ]
  },
  {
   "cell_type": "code",
   "execution_count": null,
   "metadata": {},
   "outputs": [],
   "source": []
  },
  {
   "cell_type": "code",
   "execution_count": 37,
   "metadata": {},
   "outputs": [
    {
     "name": "stdout",
     "output_type": "stream",
     "text": [
      "8\n"
     ]
    }
   ],
   "source": [
    "#Example:- What is the first occurance of 'e' in the text txt. When you only search between position 5 and 10.?\n",
    "\n",
    "txt = 'Hello, Welcome to my world.'\n",
    "\n",
    "x = txt.find('e', 5, 10)     # string.find(value, start, end)\n",
    "\n",
    "print(x)"
   ]
  },
  {
   "cell_type": "code",
   "execution_count": null,
   "metadata": {},
   "outputs": [],
   "source": []
  },
  {
   "cell_type": "code",
   "execution_count": null,
   "metadata": {},
   "outputs": [],
   "source": []
  },
  {
   "cell_type": "code",
   "execution_count": null,
   "metadata": {},
   "outputs": [],
   "source": []
  },
  {
   "cell_type": "code",
   "execution_count": 41,
   "metadata": {},
   "outputs": [
    {
     "name": "stdout",
     "output_type": "stream",
     "text": [
      "For only 49.00 dollars!\n"
     ]
    }
   ],
   "source": [
    "# format()\n",
    "\n",
    "'''\n",
    "->  The format() method Formats the specified values in a String \n",
    "\n",
    "->  The format() method formats the specified value(s) and insert them inside the string's placeholder.\n",
    "\n",
    "->  The placeholder is defined using curly brackets: {}. Read more about the placeholders in the Placeholder section below.\n",
    "\n",
    "->  The format() method returns the formatted string.\n",
    "'''\n",
    "\n",
    "#Example :- Insert the price inside the placeholder, the price should be in fixed point, two-decimal format:\n",
    "\n",
    "txt = \"For only {price:.2f} dollars!\"\n",
    "\n",
    "print(txt.format(price = 49))"
   ]
  },
  {
   "cell_type": "code",
   "execution_count": null,
   "metadata": {},
   "outputs": [],
   "source": []
  },
  {
   "cell_type": "code",
   "execution_count": null,
   "metadata": {},
   "outputs": [],
   "source": [
    "#Syntax:- string.format(value1, value2...)\n",
    "\n",
    "#Parameter Values:\n",
    "\n",
    "\n",
    "'''\n",
    "Parameter           \t      Description\n",
    "\n",
    "value1, value2...   \t      Required. One or more values that should be formatted and inserted in the string.\n",
    "\n",
    "The values are either a list of values separated by commas, a key=value list, or a combination of both.\n",
    "\n",
    "The values can be of any data type.\n",
    "\n",
    "'''\n",
    "\n",
    "\n"
   ]
  },
  {
   "cell_type": "code",
   "execution_count": 44,
   "metadata": {},
   "outputs": [
    {
     "name": "stdout",
     "output_type": "stream",
     "text": [
      "My name is Naveen and I'm 23 Old.\n",
      "My name  is Naveen and I'm 23 Old.\n",
      "My name is Naveen and I'm 23 Old\n"
     ]
    }
   ],
   "source": [
    "#The Placeholders:- \n",
    "'''The placeholders can be identified using named indexes {price}, numbered indexes {0}, or even empty placeholders {}.'''\n",
    "\n",
    "# Example:\n",
    "\n",
    "txt1 = \"My name is {name} and I'm {age} Old.\" . format(name = \"Naveen\", age = 23)       # Named indexes \n",
    "\n",
    "txt2 = \"My name  is {0} and I'm {1} Old.\" . format(\"Naveen\", 23)                       # Numbered indexes \n",
    "\n",
    "txt3 = \"My name is {} and I'm {} Old\" .format(\"Naveen\",23)                            # Empty place holders\n",
    "\n",
    "\n",
    "#Displaying the formatted Strings\n",
    "\n",
    "print(txt1)\n",
    "print(txt2)\n",
    "print(txt3)\n"
   ]
  },
  {
   "cell_type": "code",
   "execution_count": null,
   "metadata": {},
   "outputs": [],
   "source": []
  },
  {
   "cell_type": "code",
   "execution_count": null,
   "metadata": {},
   "outputs": [],
   "source": []
  },
  {
   "cell_type": "code",
   "execution_count": 45,
   "metadata": {},
   "outputs": [
    {
     "name": "stdout",
     "output_type": "stream",
     "text": [
      "We have 49       chickens.\n"
     ]
    }
   ],
   "source": [
    "#Left aligns the result (within the available space)\n",
    "\n",
    "#To demonstrate, we insert the number 8 to set the available space for the value to 8 characters.\n",
    "\n",
    "#Use \"<\" to left-align the value:\n",
    "\n",
    "txt = \"We have {:<8} chickens.\"\n",
    "print(txt.format(49))\n"
   ]
  },
  {
   "cell_type": "code",
   "execution_count": null,
   "metadata": {},
   "outputs": [],
   "source": []
  },
  {
   "cell_type": "code",
   "execution_count": null,
   "metadata": {},
   "outputs": [],
   "source": []
  },
  {
   "cell_type": "code",
   "execution_count": 46,
   "metadata": {},
   "outputs": [
    {
     "name": "stdout",
     "output_type": "stream",
     "text": [
      "We have       49 chickens.\n"
     ]
    }
   ],
   "source": [
    "#Right aligns the result (within the available space)\n",
    "\n",
    "#To demonstrate, we insert the number 8 to set the available space for the value to 8 characters.\n",
    "\n",
    "#Use \">\" to right-align the value:\n",
    "\n",
    "txt = \"We have {:>8} chickens.\"\n",
    "print(txt.format(49))"
   ]
  },
  {
   "cell_type": "code",
   "execution_count": null,
   "metadata": {},
   "outputs": [],
   "source": []
  },
  {
   "cell_type": "code",
   "execution_count": null,
   "metadata": {},
   "outputs": [],
   "source": []
  },
  {
   "cell_type": "code",
   "execution_count": 47,
   "metadata": {},
   "outputs": [
    {
     "name": "stdout",
     "output_type": "stream",
     "text": [
      "We have    49    chickens.\n"
     ]
    }
   ],
   "source": [
    "#Center aligns the result (within the available space)\n",
    "\n",
    "#To demonstrate, we insert the number 8 to set the available space for the value to 8 characters.\n",
    "\n",
    "#Use \"^\" to center-align the value:\n",
    "\n",
    "txt = \"We have {:^8} chickens.\"\n",
    "print(txt.format(49))\n"
   ]
  },
  {
   "cell_type": "code",
   "execution_count": null,
   "metadata": {},
   "outputs": [],
   "source": []
  },
  {
   "cell_type": "code",
   "execution_count": null,
   "metadata": {},
   "outputs": [],
   "source": []
  },
  {
   "cell_type": "code",
   "execution_count": 48,
   "metadata": {},
   "outputs": [
    {
     "name": "stdout",
     "output_type": "stream",
     "text": [
      "The temperature is -      5 degrees celsius.\n"
     ]
    }
   ],
   "source": [
    "#To demonstrate, we insert the number 8 to specify the available space for the value.\n",
    "\n",
    "#Use \"=\" to place the plus/minus sign at the left most position:\n",
    "\n",
    "txt = \"The temperature is {:=8} degrees celsius.\"\n",
    "\n",
    "print(txt.format(-5))\n"
   ]
  },
  {
   "cell_type": "code",
   "execution_count": null,
   "metadata": {},
   "outputs": [],
   "source": []
  },
  {
   "cell_type": "code",
   "execution_count": null,
   "metadata": {},
   "outputs": [],
   "source": []
  },
  {
   "cell_type": "code",
   "execution_count": 49,
   "metadata": {},
   "outputs": [
    {
     "name": "stdout",
     "output_type": "stream",
     "text": [
      "The temperature is between -3 and +7 degrees celsius.\n"
     ]
    }
   ],
   "source": [
    "# Use a plus sign to indicate if the result is positive or negative\n",
    "\n",
    "#Use \"+\" to always indicate if the number is positive or negative:\n",
    "\n",
    "txt = \"The temperature is between {:+} and {:+} degrees celsius.\"\n",
    "\n",
    "print(txt.format(-3, 7))\n"
   ]
  },
  {
   "cell_type": "code",
   "execution_count": null,
   "metadata": {},
   "outputs": [],
   "source": []
  },
  {
   "cell_type": "code",
   "execution_count": null,
   "metadata": {},
   "outputs": [],
   "source": []
  },
  {
   "cell_type": "code",
   "execution_count": 50,
   "metadata": {},
   "outputs": [
    {
     "name": "stdout",
     "output_type": "stream",
     "text": [
      "The temperature is between -3 and 7 degrees celsius.\n"
     ]
    }
   ],
   "source": [
    "# Use a minus sign for negative values only\n",
    "\n",
    "#Use \"-\" to always indicate if the number is negative (positive numbers are displayed without any sign):\n",
    "\n",
    "txt = \"The temperature is between {:-} and {:-} degrees celsius.\"\n",
    "\n",
    "print(txt.format(-3, 7))\n"
   ]
  },
  {
   "cell_type": "code",
   "execution_count": null,
   "metadata": {},
   "outputs": [],
   "source": []
  },
  {
   "cell_type": "code",
   "execution_count": null,
   "metadata": {},
   "outputs": [],
   "source": []
  },
  {
   "cell_type": "code",
   "execution_count": 51,
   "metadata": {},
   "outputs": [
    {
     "name": "stdout",
     "output_type": "stream",
     "text": [
      "The temperature is between -3 and  7 degrees celsius.\n"
     ]
    }
   ],
   "source": [
    "# Use a space to insert an extra space before positive numbers (and a minus sign before negative numbers)\n",
    "\n",
    "#Use \" \" (a space) to insert a space before positive numbers and a minus sign before negative numbers:\n",
    "\n",
    "txt = \"The temperature is between {: } and {: } degrees celsius.\"\n",
    "\n",
    "print(txt.format(-3, 7))\n",
    "\n"
   ]
  },
  {
   "cell_type": "code",
   "execution_count": null,
   "metadata": {},
   "outputs": [],
   "source": []
  },
  {
   "cell_type": "code",
   "execution_count": null,
   "metadata": {},
   "outputs": [],
   "source": []
  },
  {
   "cell_type": "code",
   "execution_count": 52,
   "metadata": {},
   "outputs": [
    {
     "name": "stdout",
     "output_type": "stream",
     "text": [
      "The universe is 13,800,000,000 years old.\n"
     ]
    }
   ],
   "source": [
    "# Use a comma as a thousand separator\n",
    "\n",
    "#Use \",\" to add a comma as a thousand separator:\n",
    "\n",
    "txt = \"The universe is {:,} years old.\"\n",
    "\n",
    "print(txt.format(13800000000))"
   ]
  },
  {
   "cell_type": "code",
   "execution_count": null,
   "metadata": {},
   "outputs": [],
   "source": []
  },
  {
   "cell_type": "code",
   "execution_count": null,
   "metadata": {},
   "outputs": [],
   "source": []
  },
  {
   "cell_type": "code",
   "execution_count": 53,
   "metadata": {},
   "outputs": [
    {
     "name": "stdout",
     "output_type": "stream",
     "text": [
      "The universe is 13_800_000_000 years old.\n"
     ]
    }
   ],
   "source": [
    "# Use an underscore as a thousand separator\n",
    "\n",
    "#Use \"_\" to add a underscore character as a thousand separator:\n",
    "\n",
    "txt = \"The universe is {:_} years old.\"\n",
    "\n",
    "print(txt.format(13800000000))\n"
   ]
  },
  {
   "cell_type": "code",
   "execution_count": null,
   "metadata": {},
   "outputs": [],
   "source": []
  },
  {
   "cell_type": "code",
   "execution_count": null,
   "metadata": {},
   "outputs": [],
   "source": []
  },
  {
   "cell_type": "code",
   "execution_count": 54,
   "metadata": {},
   "outputs": [
    {
     "name": "stdout",
     "output_type": "stream",
     "text": [
      "The binary version of 5 is 101\n"
     ]
    }
   ],
   "source": [
    "# Binary format\n",
    "\n",
    "#Use \"b\" to convert the number into binary format:\n",
    "\n",
    "txt = \"The binary version of {0} is {0:b}\"\n",
    "\n",
    "print(txt.format(5))\n"
   ]
  },
  {
   "cell_type": "code",
   "execution_count": null,
   "metadata": {},
   "outputs": [],
   "source": []
  },
  {
   "cell_type": "code",
   "execution_count": null,
   "metadata": {},
   "outputs": [],
   "source": []
  },
  {
   "cell_type": "code",
   "execution_count": 63,
   "metadata": {},
   "outputs": [
    {
     "name": "stdout",
     "output_type": "stream",
     "text": [
      "We have 4 chickens.\n"
     ]
    }
   ],
   "source": [
    "#Decimal format\n",
    "\n",
    "#Use \"d\" to convert a number, in this case a binary number, into decimal number format:\n",
    "\n",
    "txt = \"We have {:d} chickens.\"\n",
    "print(txt.format(0b100))\n"
   ]
  },
  {
   "cell_type": "code",
   "execution_count": 64,
   "metadata": {},
   "outputs": [
    {
     "name": "stdout",
     "output_type": "stream",
     "text": [
      "We have 5 chickens.\n"
     ]
    }
   ],
   "source": [
    "txt = \"We have {:d} chickens.\"\n",
    "print(txt.format(0b101))\n"
   ]
  },
  {
   "cell_type": "code",
   "execution_count": null,
   "metadata": {},
   "outputs": [],
   "source": []
  },
  {
   "cell_type": "code",
   "execution_count": 68,
   "metadata": {},
   "outputs": [
    {
     "name": "stdout",
     "output_type": "stream",
     "text": [
      "We have 7 chickens.\n"
     ]
    }
   ],
   "source": [
    "txt = \"We have {:d} chickens.\"\n",
    "print(txt.format(0b111))\n"
   ]
  },
  {
   "cell_type": "code",
   "execution_count": null,
   "metadata": {},
   "outputs": [],
   "source": []
  },
  {
   "cell_type": "code",
   "execution_count": null,
   "metadata": {},
   "outputs": [],
   "source": []
  },
  {
   "cell_type": "code",
   "execution_count": null,
   "metadata": {},
   "outputs": [],
   "source": []
  },
  {
   "cell_type": "code",
   "execution_count": 69,
   "metadata": {},
   "outputs": [
    {
     "name": "stdout",
     "output_type": "stream",
     "text": [
      "We have 5.000000e+00 chickens.\n"
     ]
    }
   ],
   "source": [
    "#Scientific format, with a lower case e\n",
    "\n",
    "#Use \"e\" to convert a number into scientific number format (with a lower-case e):\n",
    "\n",
    "txt = \"We have {:e} chickens.\"\n",
    "print(txt.format(5))"
   ]
  },
  {
   "cell_type": "code",
   "execution_count": null,
   "metadata": {},
   "outputs": [],
   "source": []
  },
  {
   "cell_type": "code",
   "execution_count": null,
   "metadata": {},
   "outputs": [],
   "source": []
  },
  {
   "cell_type": "code",
   "execution_count": 70,
   "metadata": {},
   "outputs": [
    {
     "name": "stdout",
     "output_type": "stream",
     "text": [
      "We have 5.000000E+00 chickens.\n"
     ]
    }
   ],
   "source": [
    "# Scientific format, with an upper case E\n",
    "\n",
    "#Use \"E\" to convert a number into scientific number format (with an upper-case E):\n",
    "\n",
    "txt = \"We have {:E} chickens.\"\n",
    "print(txt.format(5))\n"
   ]
  },
  {
   "cell_type": "code",
   "execution_count": null,
   "metadata": {},
   "outputs": [],
   "source": []
  },
  {
   "cell_type": "code",
   "execution_count": null,
   "metadata": {},
   "outputs": [],
   "source": []
  },
  {
   "cell_type": "code",
   "execution_count": 71,
   "metadata": {},
   "outputs": [
    {
     "name": "stdout",
     "output_type": "stream",
     "text": [
      "The price is 45.00 dollars.\n"
     ]
    }
   ],
   "source": [
    "# Fix point number format\n",
    "\n",
    "#Use \"f\" to convert a number into a fixed point number, \n",
    "#default with 6 decimals, but use a period followed by a number to specify the number of decimals:\n",
    "\n",
    "txt = \"The price is {:.2f} dollars.\"\n",
    "print(txt.format(45))\n",
    "\n",
    "\n"
   ]
  },
  {
   "cell_type": "code",
   "execution_count": null,
   "metadata": {},
   "outputs": [],
   "source": []
  },
  {
   "cell_type": "code",
   "execution_count": 72,
   "metadata": {},
   "outputs": [
    {
     "name": "stdout",
     "output_type": "stream",
     "text": [
      "The price is 45.000000 dollars.\n"
     ]
    }
   ],
   "source": [
    "#without the \".2\" inside the placeholder, this number will be displayed like this:\n",
    "\n",
    "txt = \"The price is {:f} dollars.\"       # as we haven't specified the number of dec, default 6 decimals will be printed\n",
    "print(txt.format(45))"
   ]
  },
  {
   "cell_type": "code",
   "execution_count": null,
   "metadata": {},
   "outputs": [],
   "source": []
  },
  {
   "cell_type": "code",
   "execution_count": null,
   "metadata": {},
   "outputs": [],
   "source": []
  },
  {
   "cell_type": "code",
   "execution_count": 73,
   "metadata": {},
   "outputs": [
    {
     "name": "stdout",
     "output_type": "stream",
     "text": [
      "The price is INF dollars.\n"
     ]
    }
   ],
   "source": [
    "# Fix point number format, in uppercase format (show inf and nan as INF and NAN)\n",
    "\n",
    "#Use \"F\" to convert a number into a fixed point number, but display inf and nan as INF and NAN:\n",
    "\n",
    "x = float('inf')\n",
    "\n",
    "txt = \"The price is {:F} dollars.\"\n",
    "print(txt.format(x))\n",
    "\n"
   ]
  },
  {
   "cell_type": "code",
   "execution_count": 74,
   "metadata": {},
   "outputs": [
    {
     "name": "stdout",
     "output_type": "stream",
     "text": [
      "The price is inf dollars.\n"
     ]
    }
   ],
   "source": [
    "#same example, but with a lower case f:\n",
    "\n",
    "txt = \"The price is {:f} dollars.\"\n",
    "print(txt.format(x))"
   ]
  },
  {
   "cell_type": "code",
   "execution_count": null,
   "metadata": {},
   "outputs": [],
   "source": []
  },
  {
   "cell_type": "code",
   "execution_count": 75,
   "metadata": {},
   "outputs": [
    {
     "name": "stdout",
     "output_type": "stream",
     "text": [
      "The price is NAN dollars.\n"
     ]
    }
   ],
   "source": [
    "x = float('nan')\n",
    "\n",
    "txt = \"The price is {:F} dollars.\"\n",
    "print(txt.format(x))"
   ]
  },
  {
   "cell_type": "code",
   "execution_count": 76,
   "metadata": {},
   "outputs": [
    {
     "name": "stdout",
     "output_type": "stream",
     "text": [
      "The price is nan dollars.\n"
     ]
    }
   ],
   "source": [
    "#same example, but with a lower case f:\n",
    "\n",
    "txt = \"The price is {:f} dollars.\"\n",
    "print(txt.format(x))"
   ]
  },
  {
   "cell_type": "code",
   "execution_count": null,
   "metadata": {},
   "outputs": [],
   "source": []
  },
  {
   "cell_type": "code",
   "execution_count": null,
   "metadata": {},
   "outputs": [],
   "source": []
  },
  {
   "cell_type": "code",
   "execution_count": null,
   "metadata": {},
   "outputs": [],
   "source": []
  },
  {
   "cell_type": "code",
   "execution_count": 77,
   "metadata": {},
   "outputs": [
    {
     "name": "stdout",
     "output_type": "stream",
     "text": [
      "The octal version of 10 is 12\n"
     ]
    }
   ],
   "source": [
    "# Octal format\n",
    "\n",
    "#Use \"o\" to convert the number into octal format:\n",
    "\n",
    "txt = \"The octal version of {0} is {0:o}\"\n",
    "\n",
    "print(txt.format(10))"
   ]
  },
  {
   "cell_type": "code",
   "execution_count": null,
   "metadata": {},
   "outputs": [],
   "source": []
  },
  {
   "cell_type": "code",
   "execution_count": null,
   "metadata": {},
   "outputs": [],
   "source": []
  },
  {
   "cell_type": "code",
   "execution_count": 78,
   "metadata": {},
   "outputs": [
    {
     "name": "stdout",
     "output_type": "stream",
     "text": [
      "The Hexadecimal version of 255 is ff\n"
     ]
    }
   ],
   "source": [
    "# Hex format, lower case\n",
    "\n",
    "#Use \"x\" to convert the number into Hex format:\n",
    "\n",
    "txt = \"The Hexadecimal version of {0} is {0:x}\"\n",
    "\n",
    "print(txt.format(255))"
   ]
  },
  {
   "cell_type": "code",
   "execution_count": null,
   "metadata": {},
   "outputs": [],
   "source": []
  },
  {
   "cell_type": "code",
   "execution_count": null,
   "metadata": {},
   "outputs": [],
   "source": []
  },
  {
   "cell_type": "code",
   "execution_count": 79,
   "metadata": {},
   "outputs": [
    {
     "name": "stdout",
     "output_type": "stream",
     "text": [
      "The Hexadecimal version of 255 is FF\n"
     ]
    }
   ],
   "source": [
    "# Hex format, upper case\n",
    "\n",
    "#Use \"X\" to convert the number into upper-case Hex format:\n",
    "\n",
    "txt = \"The Hexadecimal version of {0} is {0:X}\"\n",
    "\n",
    "print(txt.format(255))\n"
   ]
  },
  {
   "cell_type": "code",
   "execution_count": null,
   "metadata": {},
   "outputs": [],
   "source": []
  },
  {
   "cell_type": "code",
   "execution_count": null,
   "metadata": {},
   "outputs": [],
   "source": []
  },
  {
   "cell_type": "code",
   "execution_count": 80,
   "metadata": {},
   "outputs": [
    {
     "name": "stdout",
     "output_type": "stream",
     "text": [
      "You scored 25.000000%\n"
     ]
    }
   ],
   "source": [
    "# Percentage format\n",
    "\n",
    "#Use \"%\" to convert the number into a percentage format:\n",
    "\n",
    "txt = \"You scored {:%}\"\n",
    "print(txt.format(0.25))\n",
    "\n"
   ]
  },
  {
   "cell_type": "code",
   "execution_count": 81,
   "metadata": {},
   "outputs": [
    {
     "name": "stdout",
     "output_type": "stream",
     "text": [
      "You scored 25%\n"
     ]
    }
   ],
   "source": [
    "#Or, without any decimals:\n",
    "\n",
    "txt = \"You scored {:.0%}\"\n",
    "print(txt.format(0.25))"
   ]
  },
  {
   "cell_type": "code",
   "execution_count": null,
   "metadata": {},
   "outputs": [],
   "source": []
  },
  {
   "cell_type": "code",
   "execution_count": null,
   "metadata": {},
   "outputs": [],
   "source": []
  },
  {
   "cell_type": "code",
   "execution_count": null,
   "metadata": {},
   "outputs": [],
   "source": []
  },
  {
   "cell_type": "code",
   "execution_count": null,
   "metadata": {},
   "outputs": [],
   "source": []
  },
  {
   "cell_type": "code",
   "execution_count": null,
   "metadata": {},
   "outputs": [],
   "source": []
  },
  {
   "cell_type": "code",
   "execution_count": null,
   "metadata": {},
   "outputs": [],
   "source": []
  },
  {
   "cell_type": "code",
   "execution_count": null,
   "metadata": {},
   "outputs": [],
   "source": []
  },
  {
   "cell_type": "code",
   "execution_count": null,
   "metadata": {},
   "outputs": [],
   "source": []
  },
  {
   "cell_type": "code",
   "execution_count": 82,
   "metadata": {},
   "outputs": [
    {
     "name": "stdout",
     "output_type": "stream",
     "text": [
      "4 -5\n",
      "4 -5 0\n"
     ]
    }
   ],
   "source": [
    "# format_map()  :- Formats specified values in a string\n",
    "\n",
    "'''The format_map(mapping) is similar to str.format(**mapping) method.\n",
    "\n",
    "The only difference is that str.format(**mapping) copies the dict \n",
    "whereas str.format_map(mapping) makes a new dictionary during method call. \n",
    "This can be useful if you are working with a dict subclass.\n",
    "\n",
    "The syntax of format_map() is\n",
    "\n",
    "str.format_map(mapping)\n",
    "format_map Parameter            : format_map() takes a single argument mapping(dictionary).\n",
    "\n",
    "Return Value from format_map()  : format_map() formats the given string and returns it.\n",
    "\n",
    "'''\n",
    "\n",
    "# Example 1: How format_map() works?\n",
    "point = {'x':4,'y':-5}\n",
    "print('{x} {y}'.format_map(point))\n",
    "\n",
    "point = {'x':4,'y':-5, 'z': 0}\n",
    "print('{x} {y} {z}'.format_map(point))\n"
   ]
  },
  {
   "cell_type": "code",
   "execution_count": null,
   "metadata": {},
   "outputs": [],
   "source": [
    "\n"
   ]
  },
  {
   "cell_type": "code",
   "execution_count": 84,
   "metadata": {},
   "outputs": [
    {
     "name": "stdout",
     "output_type": "stream",
     "text": [
      "(6, y)\n",
      "(x, 5)\n",
      "(6, 5)\n"
     ]
    }
   ],
   "source": [
    "#Example 2: How format_map() works with dict subclass?\n",
    "\n",
    "class Coordinate(dict):\n",
    "    def __missing__(self, key):\n",
    "      return key\n",
    "\n",
    "\n",
    "print('({x}, {y})'.format_map(Coordinate(x='6')))\n",
    "print('({x}, {y})'.format_map(Coordinate(y='5')))\n",
    "print('({x}, {y})'.format_map(Coordinate(x='6', y='5')))\n",
    "\n",
    "\n",
    "# Note :- format_map(mapping) is more flexible than format(**mapping) as you can have missing keys."
   ]
  },
  {
   "cell_type": "code",
   "execution_count": null,
   "metadata": {},
   "outputs": [],
   "source": []
  },
  {
   "cell_type": "code",
   "execution_count": null,
   "metadata": {},
   "outputs": [],
   "source": []
  },
  {
   "cell_type": "code",
   "execution_count": null,
   "metadata": {},
   "outputs": [],
   "source": []
  },
  {
   "cell_type": "code",
   "execution_count": 85,
   "metadata": {},
   "outputs": [
    {
     "name": "stdout",
     "output_type": "stream",
     "text": [
      "7\n"
     ]
    }
   ],
   "source": [
    "# index() :- Searches the string for a specified value and returns the position of where it was found\n",
    "\n",
    "'''\n",
    "\n",
    "The index() method finds the first occurrence of the specified value.\n",
    "\n",
    "The index() method raises an exception if the value is not found.\n",
    "\n",
    "The index() method is almost the same as the find() method, \n",
    "the only difference is that the find() method returns -1 if the value is not found. (See example below)\n",
    "\n",
    "'''\n",
    "\n",
    "#Example:- Where in the text is the word \"welcome\"?:\n",
    "\n",
    "txt = 'Hello, Welcome to my world'\n",
    "\n",
    "x = txt.index(\"Welcome\")\n",
    "\n",
    "print(x)\n",
    "\n"
   ]
  },
  {
   "cell_type": "code",
   "execution_count": null,
   "metadata": {},
   "outputs": [],
   "source": []
  },
  {
   "cell_type": "code",
   "execution_count": 86,
   "metadata": {},
   "outputs": [
    {
     "name": "stdout",
     "output_type": "stream",
     "text": [
      "1\n"
     ]
    }
   ],
   "source": [
    "# Syntax :- string.index(value, start, end)\n",
    "\n",
    "#Parameter Values:\n",
    "\n",
    "'''\n",
    "    \n",
    "Parameter           \t      Description\n",
    "\n",
    "value               \t      Required. The value to search for\n",
    "start               \t      Optional. Where to start the search. Default is 0\n",
    "end                 \t      Optional. Where to end the search. Default is to the end of the string\n",
    "\n",
    "'''\n",
    "\n",
    "# Example:- What is the first occurance of the letter 'e' in the text txt.\n",
    "\n",
    "txt = \"Hello, welcome to my world.\"\n",
    "\n",
    "x = txt.index('e')\n",
    "\n",
    "print(x)"
   ]
  },
  {
   "cell_type": "code",
   "execution_count": null,
   "metadata": {},
   "outputs": [],
   "source": []
  },
  {
   "cell_type": "code",
   "execution_count": 87,
   "metadata": {},
   "outputs": [
    {
     "name": "stdout",
     "output_type": "stream",
     "text": [
      "8\n"
     ]
    }
   ],
   "source": [
    "#Example:- Where in the text is the first occurrence of the letter \"e\" when you only search between position 5 and 10?:\n",
    "\n",
    "txt = \"Hello, welcome to my world.\"\n",
    "\n",
    "x = txt.index('e', 5, 10)\n",
    "\n",
    "print(x)"
   ]
  },
  {
   "cell_type": "code",
   "execution_count": null,
   "metadata": {},
   "outputs": [],
   "source": []
  },
  {
   "cell_type": "code",
   "execution_count": 88,
   "metadata": {},
   "outputs": [
    {
     "name": "stdout",
     "output_type": "stream",
     "text": [
      "-1\n"
     ]
    },
    {
     "ename": "ValueError",
     "evalue": "substring not found",
     "output_type": "error",
     "traceback": [
      "\u001b[1;31m---------------------------------------------------------------------------\u001b[0m",
      "\u001b[1;31mValueError\u001b[0m                                Traceback (most recent call last)",
      "\u001b[1;32m<ipython-input-88-7dcaf6db4b62>\u001b[0m in \u001b[0;36m<module>\u001b[1;34m\u001b[0m\n\u001b[0;32m      4\u001b[0m \u001b[1;33m\u001b[0m\u001b[0m\n\u001b[0;32m      5\u001b[0m \u001b[0mprint\u001b[0m\u001b[1;33m(\u001b[0m\u001b[0mtxt\u001b[0m\u001b[1;33m.\u001b[0m\u001b[0mfind\u001b[0m\u001b[1;33m(\u001b[0m\u001b[1;34m'q'\u001b[0m\u001b[1;33m)\u001b[0m\u001b[1;33m)\u001b[0m\u001b[1;33m\u001b[0m\u001b[1;33m\u001b[0m\u001b[0m\n\u001b[1;32m----> 6\u001b[1;33m \u001b[0mprint\u001b[0m\u001b[1;33m(\u001b[0m\u001b[0mtxt\u001b[0m\u001b[1;33m.\u001b[0m\u001b[0mindex\u001b[0m\u001b[1;33m(\u001b[0m\u001b[1;34m'q'\u001b[0m\u001b[1;33m)\u001b[0m\u001b[1;33m)\u001b[0m\u001b[1;33m\u001b[0m\u001b[1;33m\u001b[0m\u001b[0m\n\u001b[0m",
      "\u001b[1;31mValueError\u001b[0m: substring not found"
     ]
    }
   ],
   "source": [
    "#Example: value is not found, the find() method returns -1, but the index() method will raise an exception:\n",
    "\n",
    "txt = \"Hello, welcome to my world.\"\n",
    "\n",
    "print(txt.find('q'))\n",
    "print(txt.index('q'))"
   ]
  },
  {
   "cell_type": "code",
   "execution_count": null,
   "metadata": {},
   "outputs": [],
   "source": []
  },
  {
   "cell_type": "code",
   "execution_count": null,
   "metadata": {},
   "outputs": [],
   "source": []
  },
  {
   "cell_type": "code",
   "execution_count": null,
   "metadata": {},
   "outputs": [],
   "source": []
  },
  {
   "cell_type": "code",
   "execution_count": 90,
   "metadata": {},
   "outputs": [
    {
     "name": "stdout",
     "output_type": "stream",
     "text": [
      "True\n"
     ]
    }
   ],
   "source": [
    "# isalnum() :- Returns True if all characters in the string are alphanumeric\n",
    "\n",
    "#Example :- Check if all the characters in the text are alphanumeric:\n",
    "\n",
    "txt = 'Agency17'\n",
    "\n",
    "x = txt.isalnum()\n",
    "\n",
    "print(x)\n",
    "\n"
   ]
  },
  {
   "cell_type": "code",
   "execution_count": 91,
   "metadata": {},
   "outputs": [
    {
     "name": "stdout",
     "output_type": "stream",
     "text": [
      "False\n"
     ]
    }
   ],
   "source": [
    "'''\n",
    "-> The isalnum() method returns True if all the characters are alphanumeric, \n",
    "   meaning alphabet letter (a-z) and numbers (0-9).\n",
    "\n",
    "-> Example of characters that are not alphanumeric: (space)!#%&? etc.\n",
    "\n",
    "'''\n",
    "\n",
    "# Syntax:- string.isalnum()\n",
    "\n",
    "# Example:- Check if all the characters in the text are alphanumeric\n",
    "\n",
    "txt = \"Agency17?\"          # Since the character '?' is not the alphanumeric, we will get the result as False\n",
    "\n",
    "x = txt.isalnum()\n",
    "\n",
    "print(x)\n"
   ]
  },
  {
   "cell_type": "code",
   "execution_count": null,
   "metadata": {},
   "outputs": [],
   "source": []
  },
  {
   "cell_type": "code",
   "execution_count": null,
   "metadata": {},
   "outputs": [],
   "source": []
  },
  {
   "cell_type": "code",
   "execution_count": null,
   "metadata": {},
   "outputs": [],
   "source": []
  },
  {
   "cell_type": "code",
   "execution_count": 92,
   "metadata": {},
   "outputs": [
    {
     "name": "stdout",
     "output_type": "stream",
     "text": [
      "True\n"
     ]
    }
   ],
   "source": [
    "# isalpha() :- Returns true if all the characters in the String are Alphabets\n",
    "\n",
    "# Example :- Check if all the characters in the text are Alphabets\n",
    "\n",
    "txt = \"CompanyX\"\n",
    "\n",
    "x = txt.isalpha()\n",
    "\n",
    "print(x)"
   ]
  },
  {
   "cell_type": "code",
   "execution_count": null,
   "metadata": {},
   "outputs": [],
   "source": []
  },
  {
   "cell_type": "code",
   "execution_count": 93,
   "metadata": {},
   "outputs": [
    {
     "name": "stdout",
     "output_type": "stream",
     "text": [
      "False\n"
     ]
    }
   ],
   "source": [
    "#Definition and Usage:\n",
    "\n",
    "'''\n",
    "The isalpha() method returns True if all the characters are alphabet letters (a-z).\n",
    "\n",
    "Example of characters that are not alphabet letters: (space)!#%&? etc.\n",
    "\n",
    "'''\n",
    "\n",
    "#Syntax:- string.isalpha()\n",
    "\n",
    "#Example :- Check if all the characters in the given String are Alphabets.?\n",
    "\n",
    "txt = \"Company17\"        # Returns false as the string contains numeric characters\n",
    "\n",
    "print(txt.isalpha())\n",
    "\n"
   ]
  },
  {
   "cell_type": "code",
   "execution_count": null,
   "metadata": {},
   "outputs": [],
   "source": []
  },
  {
   "cell_type": "code",
   "execution_count": null,
   "metadata": {},
   "outputs": [],
   "source": []
  },
  {
   "cell_type": "code",
   "execution_count": null,
   "metadata": {},
   "outputs": [],
   "source": []
  },
  {
   "cell_type": "code",
   "execution_count": 94,
   "metadata": {},
   "outputs": [
    {
     "name": "stdout",
     "output_type": "stream",
     "text": [
      "True\n"
     ]
    }
   ],
   "source": [
    "# isdecimal() :- Returns true if all the characters in the String are Decimals.\n",
    "\n",
    "#Example:\n",
    "\n",
    "txt =\"\\u0033\"  # unicode for 3\n",
    "\n",
    "x = txt.isdecimal()\n",
    "\n",
    "print(x)"
   ]
  },
  {
   "cell_type": "code",
   "execution_count": null,
   "metadata": {},
   "outputs": [],
   "source": []
  },
  {
   "cell_type": "code",
   "execution_count": 97,
   "metadata": {},
   "outputs": [
    {
     "name": "stdout",
     "output_type": "stream",
     "text": [
      "True\n",
      "False\n"
     ]
    }
   ],
   "source": [
    "#Definition and Usage:\n",
    "\n",
    "'''\n",
    "-> The isdecimal() method returns True if all the characters are decimals (0-9).\n",
    "\n",
    "-> This method is used on unicode objects.\n",
    "\n",
    "'''\n",
    "\n",
    "# Syntax: string.isdecimal()\n",
    "\n",
    "# Example:\n",
    "\n",
    "a = \"\\u0030\"  # unicode for 0\n",
    "b = \"\\u0047\"  # unicode for G\n",
    "\n",
    "print(a.isdecimal())\n",
    "print(b.isdecimal())\n"
   ]
  },
  {
   "cell_type": "code",
   "execution_count": null,
   "metadata": {},
   "outputs": [],
   "source": []
  },
  {
   "cell_type": "code",
   "execution_count": null,
   "metadata": {},
   "outputs": [],
   "source": []
  },
  {
   "cell_type": "code",
   "execution_count": null,
   "metadata": {},
   "outputs": [],
   "source": []
  },
  {
   "cell_type": "code",
   "execution_count": 98,
   "metadata": {},
   "outputs": [
    {
     "name": "stdout",
     "output_type": "stream",
     "text": [
      "True\n"
     ]
    }
   ],
   "source": [
    "# isdigit():- Returns true if all the characters in the String are Digits\n",
    "\n",
    "# Example:\n",
    "\n",
    "txt = \"50800\"\n",
    "\n",
    "x = txt.isdigit()\n",
    "\n",
    "print(x)"
   ]
  },
  {
   "cell_type": "code",
   "execution_count": null,
   "metadata": {},
   "outputs": [],
   "source": []
  },
  {
   "cell_type": "code",
   "execution_count": 99,
   "metadata": {},
   "outputs": [
    {
     "name": "stdout",
     "output_type": "stream",
     "text": [
      "True\n",
      "True\n"
     ]
    }
   ],
   "source": [
    "#Definition and Usage:\n",
    "\n",
    "'''\n",
    "-> The isdigit() method returns True if all the characters are digits, otherwise False.\n",
    "\n",
    "-> Exponents, like ², are also considered to be a digit. #square\n",
    "\n",
    "'''\n",
    "\n",
    "#Syntax:- string.isdigit()\n",
    "\n",
    "# Example:- Check if all the characters in the string are digits\n",
    "\n",
    "a = \"\\u0030\"   # unicode for 0\n",
    "\n",
    "b = \"\\u00B2\"   # unicode for ²\\\n",
    "\n",
    "print(a.isdigit())\n",
    "print(b.isdigit())\n"
   ]
  },
  {
   "cell_type": "code",
   "execution_count": null,
   "metadata": {},
   "outputs": [],
   "source": []
  },
  {
   "cell_type": "code",
   "execution_count": null,
   "metadata": {},
   "outputs": [],
   "source": []
  },
  {
   "cell_type": "code",
   "execution_count": null,
   "metadata": {},
   "outputs": [],
   "source": []
  },
  {
   "cell_type": "code",
   "execution_count": 100,
   "metadata": {},
   "outputs": [
    {
     "name": "stdout",
     "output_type": "stream",
     "text": [
      "True\n"
     ]
    }
   ],
   "source": [
    "# isidentifier() :- Returns True if the string is an identifier\n",
    "\n",
    "# Example\n",
    "#Check if the string is a valid identifier\n",
    "\n",
    "txt = \"Demo\"\n",
    "\n",
    "print(txt.isidentifier())\n",
    "\n"
   ]
  },
  {
   "cell_type": "code",
   "execution_count": null,
   "metadata": {},
   "outputs": [],
   "source": []
  },
  {
   "cell_type": "code",
   "execution_count": 103,
   "metadata": {},
   "outputs": [
    {
     "name": "stdout",
     "output_type": "stream",
     "text": [
      "True\n",
      "True\n",
      "True\n",
      "False\n",
      "False\n"
     ]
    }
   ],
   "source": [
    "#Definition and Usage:\n",
    "\n",
    "'''\n",
    "The isidentifier() method returns True if the string is a valid identifier, otherwise False.\n",
    "\n",
    "A string is considered a valid identifier if it only contains alphanumeric letters (a-z) and (0-9), or underscores (_).\n",
    "A valid identifier cannot start with a number, or contain any spaces.\n",
    "\n",
    "'''\n",
    "\n",
    "# Syntax :- string.isidentifier()\n",
    "\n",
    "# Example:- Check if the strings ate valid idenfiers.\n",
    "\n",
    "a = \"MyFolder\"\n",
    "\n",
    "b = \"Demo002\"\n",
    "\n",
    "c = \"my_demo\" \n",
    "\n",
    "d = \"2bring\"      # A valid identifier can not start with a number.\n",
    "\n",
    "e = \"my demo\"    # A valid identifier can not contain spaces.\n",
    "\n",
    "\n",
    "print(a.isidentifier())\n",
    "print(b.isidentifier())\n",
    "print(c.isidentifier())\n",
    "print(d.isidentifier())\n",
    "print(e.isidentifier())"
   ]
  },
  {
   "cell_type": "code",
   "execution_count": null,
   "metadata": {},
   "outputs": [],
   "source": []
  },
  {
   "cell_type": "code",
   "execution_count": null,
   "metadata": {},
   "outputs": [],
   "source": []
  },
  {
   "cell_type": "code",
   "execution_count": null,
   "metadata": {},
   "outputs": [],
   "source": []
  },
  {
   "cell_type": "code",
   "execution_count": 104,
   "metadata": {},
   "outputs": [
    {
     "name": "stdout",
     "output_type": "stream",
     "text": [
      "True\n"
     ]
    }
   ],
   "source": [
    "# islowe() :- Returns True if all the characters in the string are lower case\n",
    "\n",
    "# Example:\n",
    "\n",
    "txt = \"the harderst! choices requres the strongest wills.\"\n",
    "\n",
    "print(txt.islower())"
   ]
  },
  {
   "cell_type": "code",
   "execution_count": null,
   "metadata": {},
   "outputs": [],
   "source": []
  },
  {
   "cell_type": "code",
   "execution_count": 105,
   "metadata": {},
   "outputs": [
    {
     "name": "stdout",
     "output_type": "stream",
     "text": [
      "False\n",
      "True\n",
      "False\n"
     ]
    }
   ],
   "source": [
    "# Definition and Usage:\n",
    "\n",
    "'''\n",
    "The islower() method returns True if all the characters are in lower case, otherwise False.\n",
    "\n",
    "Numbers, symbols and spaces are not checked, only alphabet characters.\n",
    "\n",
    "'''\n",
    "\n",
    "#Syntax:- string.islower\n",
    "\n",
    "# Example:- Check if all the characters in the string are lower case.\n",
    "\n",
    "a = \"Hello, World!.\"\n",
    "\n",
    "b = \"hello 123.\"\n",
    "\n",
    "c = \"mynameisNaveen.\"\n",
    "\n",
    "print(a.islower())\n",
    "print(b.islower())\n",
    "print(c.islower())\n"
   ]
  },
  {
   "cell_type": "code",
   "execution_count": null,
   "metadata": {},
   "outputs": [],
   "source": []
  },
  {
   "cell_type": "code",
   "execution_count": null,
   "metadata": {},
   "outputs": [],
   "source": []
  },
  {
   "cell_type": "code",
   "execution_count": null,
   "metadata": {},
   "outputs": [],
   "source": []
  },
  {
   "cell_type": "code",
   "execution_count": 107,
   "metadata": {},
   "outputs": [
    {
     "name": "stdout",
     "output_type": "stream",
     "text": [
      "True\n"
     ]
    }
   ],
   "source": [
    "# isnumeric() :- Returns true if all characters in the string are numbers.\n",
    "\n",
    "# Example:\n",
    "\n",
    "txt = \"54540\"\n",
    "\n",
    "print(txt.isnumeric())"
   ]
  },
  {
   "cell_type": "code",
   "execution_count": null,
   "metadata": {},
   "outputs": [],
   "source": []
  },
  {
   "cell_type": "code",
   "execution_count": 108,
   "metadata": {},
   "outputs": [
    {
     "name": "stdout",
     "output_type": "stream",
     "text": [
      "True\n",
      "True\n",
      "False\n",
      "False\n",
      "False\n"
     ]
    }
   ],
   "source": [
    "# Definition and Usage:-\n",
    "\n",
    "'''\n",
    "\n",
    "The isnumeric() method returns True if all the characters are numeric (0-9), otherwise False.\n",
    "\n",
    "Exponents, like ² and ¾ are also considered to be numeric values.\n",
    "\n",
    "\"-1\" and \"1.5\" are NOT considered numeric values, because all the characters in the string must be numeric, \n",
    "and the - and the . are not.\n",
    "\n",
    "'''\n",
    "\n",
    "#Syntax:- string.isnumeric()\n",
    "\n",
    "# Example:- Check if all the character are numeric or not.\n",
    "\n",
    "a = \"\\u0030\" #unicode for 0\n",
    "b = \"\\u00B2\" #unicode for &sup2;\n",
    "c = \"10km2\"\n",
    "d = \"-1\"\n",
    "e = \"1.5\"\n",
    "\n",
    "print(a.isnumeric())\n",
    "print(b.isnumeric())\n",
    "print(c.isnumeric())\n",
    "print(d.isnumeric())\n",
    "print(e.isnumeric())\n"
   ]
  },
  {
   "cell_type": "code",
   "execution_count": null,
   "metadata": {},
   "outputs": [],
   "source": []
  },
  {
   "cell_type": "code",
   "execution_count": null,
   "metadata": {},
   "outputs": [],
   "source": []
  },
  {
   "cell_type": "code",
   "execution_count": null,
   "metadata": {},
   "outputs": [],
   "source": []
  },
  {
   "cell_type": "code",
   "execution_count": 109,
   "metadata": {},
   "outputs": [
    {
     "name": "stdout",
     "output_type": "stream",
     "text": [
      "True\n"
     ]
    }
   ],
   "source": [
    "# isprintable():- Returns true if all the characters in the string are printable.\n",
    "\n",
    "# Example:- Check if all the characters in the string are printable.\n",
    "\n",
    "txt = \"Hello, How are you #1.\"\n",
    "\n",
    "print(txt.isprintable())"
   ]
  },
  {
   "cell_type": "code",
   "execution_count": null,
   "metadata": {},
   "outputs": [],
   "source": []
  },
  {
   "cell_type": "code",
   "execution_count": 110,
   "metadata": {},
   "outputs": [
    {
     "name": "stdout",
     "output_type": "stream",
     "text": [
      "False\n"
     ]
    }
   ],
   "source": [
    "#Definition and Usage:\n",
    "\n",
    "'''\n",
    "\n",
    "The isprintable() method returns True if all the characters are printable, otherwise False.\n",
    "\n",
    "Example of none printable character can be carriage return and line feed.\n",
    "\n",
    "'''\n",
    "\n",
    "# Syntax:- string.isprintable()\n",
    "\n",
    "# Example:- Check if all the characters in the text are printable.\n",
    "\n",
    "\n",
    "txt = \"Hello!\\nAre you #1?\"\n",
    "\n",
    "x = txt.isprintable()\n",
    "\n",
    "print(x)\n"
   ]
  },
  {
   "cell_type": "code",
   "execution_count": null,
   "metadata": {},
   "outputs": [],
   "source": []
  },
  {
   "cell_type": "code",
   "execution_count": null,
   "metadata": {},
   "outputs": [],
   "source": []
  },
  {
   "cell_type": "code",
   "execution_count": null,
   "metadata": {},
   "outputs": [],
   "source": []
  },
  {
   "cell_type": "code",
   "execution_count": 111,
   "metadata": {},
   "outputs": [
    {
     "name": "stdout",
     "output_type": "stream",
     "text": [
      "True\n"
     ]
    }
   ],
   "source": [
    "# isspace() :- Returns true if all the characters in the string are whitespaces.\n",
    "\n",
    "# Example:-\n",
    "\n",
    "txt = \"   \"\n",
    "\n",
    "print(txt.isspace())\n"
   ]
  },
  {
   "cell_type": "code",
   "execution_count": null,
   "metadata": {},
   "outputs": [],
   "source": []
  },
  {
   "cell_type": "code",
   "execution_count": 112,
   "metadata": {},
   "outputs": [
    {
     "name": "stdout",
     "output_type": "stream",
     "text": [
      "True\n"
     ]
    }
   ],
   "source": [
    "#Definition and Usage:-\n",
    "\n",
    "'''\n",
    "\n",
    "The isspace() method returns True if all the characters in a string are whitespaces, otherwise False.\n",
    "\n",
    "'''\n",
    "\n",
    "#Syntax:- string.isspace()\n",
    "\n",
    "\n",
    "#Example:- Check if all the characters in the string are while spaces.\n",
    "\n",
    "txt = \"                  \"\n",
    "\n",
    "x = txt.isspace()\n",
    "\n",
    "print(x)\n",
    "\n",
    "\n"
   ]
  },
  {
   "cell_type": "code",
   "execution_count": null,
   "metadata": {},
   "outputs": [],
   "source": []
  },
  {
   "cell_type": "code",
   "execution_count": null,
   "metadata": {},
   "outputs": [],
   "source": []
  },
  {
   "cell_type": "code",
   "execution_count": null,
   "metadata": {},
   "outputs": [],
   "source": []
  },
  {
   "cell_type": "code",
   "execution_count": 113,
   "metadata": {},
   "outputs": [
    {
     "name": "stdout",
     "output_type": "stream",
     "text": [
      "True\n"
     ]
    }
   ],
   "source": [
    "# istitle() :- Returns true if the string follows the rules of a title.\n",
    "\n",
    "# Example:- \n",
    "\n",
    "txt = \"Hello, And Welcome To My World!.\"\n",
    "\n",
    "print(txt.istitle())"
   ]
  },
  {
   "cell_type": "code",
   "execution_count": null,
   "metadata": {},
   "outputs": [],
   "source": []
  },
  {
   "cell_type": "code",
   "execution_count": 114,
   "metadata": {},
   "outputs": [
    {
     "name": "stdout",
     "output_type": "stream",
     "text": [
      "False\n",
      "True\n",
      "True\n",
      "True\n"
     ]
    }
   ],
   "source": [
    "#Definition and Usage:-\n",
    "\n",
    "'''\n",
    "The istitle() method returns True if all words in a text start with a upper case letter, \n",
    "AND the rest of the word are lower case letters, otherwise False.\n",
    "\n",
    "Symbols and numbers are ignored.\n",
    "\n",
    "'''\n",
    "\n",
    "\n",
    "# Syntax :- string.istitle()\n",
    "\n",
    "# Example :- Check if each word starts with an uppercase letter.\n",
    "\n",
    "\n",
    "a = \"HELLO, AND WELCOME TO MY WORLD\"\n",
    "b = \"Hello\"\n",
    "c = \"22 Names\"\n",
    "d = \"This Is %'!?\"\n",
    "\n",
    "print(a.istitle())\n",
    "print(b.istitle())\n",
    "print(c.istitle())\n",
    "print(d.istitle())\n"
   ]
  },
  {
   "cell_type": "code",
   "execution_count": null,
   "metadata": {},
   "outputs": [],
   "source": []
  },
  {
   "cell_type": "code",
   "execution_count": null,
   "metadata": {},
   "outputs": [],
   "source": []
  },
  {
   "cell_type": "code",
   "execution_count": null,
   "metadata": {},
   "outputs": [],
   "source": []
  },
  {
   "cell_type": "code",
   "execution_count": 115,
   "metadata": {},
   "outputs": [
    {
     "name": "stdout",
     "output_type": "stream",
     "text": [
      "True\n"
     ]
    }
   ],
   "source": [
    "# isupper() :- Returns true if all the characters in the string are upper case.\n",
    "\n",
    "# Example:-  Check if all the characters in the text are upper case.\n",
    "\n",
    "txt = \"THIS IS NOW!.\"\n",
    "\n",
    "print(txt.isupper())"
   ]
  },
  {
   "cell_type": "code",
   "execution_count": null,
   "metadata": {},
   "outputs": [],
   "source": []
  },
  {
   "cell_type": "code",
   "execution_count": 116,
   "metadata": {},
   "outputs": [
    {
     "name": "stdout",
     "output_type": "stream",
     "text": [
      "False\n",
      "False\n",
      "True\n"
     ]
    }
   ],
   "source": [
    "#Definition and Usage:-\n",
    "\n",
    "'''\n",
    "\n",
    "The isupper() method returns True if all the characters are in upper case, otherwise False.\n",
    "\n",
    "Numbers, symbols and spaces are not checked, only alphabet characters.\n",
    "\n",
    "'''\n",
    "\n",
    "# Syntax :- string.isupper()\n",
    "\n",
    "#Example :- Check if all the characters in the text are Upper Case.\n",
    "\n",
    "\n",
    "a = \"Hello World!\"\n",
    "b = \"hello 123\"\n",
    "c = \"MY NAME IS PETER\"\n",
    "\n",
    "print(a.isupper())\n",
    "print(b.isupper())\n",
    "print(c.isupper())\n"
   ]
  },
  {
   "cell_type": "code",
   "execution_count": null,
   "metadata": {},
   "outputs": [],
   "source": []
  },
  {
   "cell_type": "code",
   "execution_count": null,
   "metadata": {},
   "outputs": [],
   "source": []
  },
  {
   "cell_type": "code",
   "execution_count": null,
   "metadata": {},
   "outputs": [],
   "source": []
  },
  {
   "cell_type": "code",
   "execution_count": 118,
   "metadata": {},
   "outputs": [
    {
     "name": "stdout",
     "output_type": "stream",
     "text": [
      "Vamsi#Anvesh#Naveen#Hemanth\n"
     ]
    }
   ],
   "source": [
    "## join() :- Joins the items of an iterable to the end of the strings.\n",
    "\n",
    "# Example:- join all items in a tuple into a string, using an hash character as seperator.\n",
    "\n",
    "myTuple = (\"Vamsi\", \"Anvesh\", \"Naveen\", \"Hemanth\")\n",
    "\n",
    "txt = \"#\".join(myTuple)\n",
    "\n",
    "print(txt)\n",
    "\n"
   ]
  },
  {
   "cell_type": "code",
   "execution_count": null,
   "metadata": {},
   "outputs": [],
   "source": []
  },
  {
   "cell_type": "code",
   "execution_count": 124,
   "metadata": {},
   "outputs": [
    {
     "name": "stdout",
     "output_type": "stream",
     "text": [
      "nameTESTcountry\n"
     ]
    }
   ],
   "source": [
    "# Definition and Usage:-\n",
    "\n",
    "'''\n",
    "\n",
    "The join() method takes all items in an iterable and joins them into one string.\n",
    "\n",
    "A string must be specified as the separator.\n",
    "\n",
    "'''\n",
    "\n",
    "# Syntax:- string.join(iterable)\n",
    "\n",
    "# Parameter Values:\n",
    "\n",
    "'''\n",
    "Parameter           \t     Description\n",
    "\n",
    "iterable            \t     Required. Any iterable object where all the returned values are strings\n",
    "\n",
    "'''\n",
    "\n",
    "\n",
    "# Example :- Join all the items in the dictionary into a list, using the word \"TEST\" as separator.\n",
    "\n",
    "myDict = {\"name\" : \"Naveen\", \"country\" : \"India\"}\n",
    "\n",
    "mySeparator = \"TEST\"\n",
    "\n",
    "x = mySeparator.join(myDict)\n",
    "\n",
    "print(x)\n",
    "\n"
   ]
  },
  {
   "cell_type": "code",
   "execution_count": null,
   "metadata": {},
   "outputs": [],
   "source": [
    "'''Note: When using a dictionary as an iterable, the returned values are the keys, not the values.'''"
   ]
  },
  {
   "cell_type": "code",
   "execution_count": null,
   "metadata": {},
   "outputs": [],
   "source": []
  },
  {
   "cell_type": "code",
   "execution_count": null,
   "metadata": {},
   "outputs": [],
   "source": []
  },
  {
   "cell_type": "code",
   "execution_count": null,
   "metadata": {},
   "outputs": [],
   "source": []
  },
  {
   "cell_type": "code",
   "execution_count": 131,
   "metadata": {},
   "outputs": [
    {
     "name": "stdout",
     "output_type": "stream",
     "text": [
      "banana               is my favorite fruit.\n"
     ]
    }
   ],
   "source": [
    "# ljust() :- Returns a left justified version of the string \n",
    "\n",
    "\n",
    "#Example :- Return a 20 characters long left justified version of the word \"Banana\".\n",
    "\n",
    "txt=\"banana\"\n",
    "\n",
    "x = txt.ljust(20)\n",
    "\n",
    "print(x, \"is my favorite fruit.\")\n"
   ]
  },
  {
   "cell_type": "code",
   "execution_count": null,
   "metadata": {},
   "outputs": [],
   "source": []
  },
  {
   "cell_type": "code",
   "execution_count": null,
   "metadata": {},
   "outputs": [],
   "source": []
  },
  {
   "cell_type": "code",
   "execution_count": 136,
   "metadata": {},
   "outputs": [
    {
     "name": "stdout",
     "output_type": "stream",
     "text": [
      "Hello HI\n",
      "HelloHI\n"
     ]
    }
   ],
   "source": [
    "'''Note: In the result, there are actually 14 whitespaces to the right of the word banana.'''\n",
    "# if you get 15 spaces instead of 14, that is because of print method which adds one more spaces \n",
    "# if we put ',' between 2 strings\n",
    "\n",
    "\n",
    "# Example:- \n",
    "\n",
    "print(\"Hello\",\"HI\")  # so, here print method adding one more space\n",
    "print(\"Hello\"+\"HI\")"
   ]
  },
  {
   "cell_type": "code",
   "execution_count": null,
   "metadata": {},
   "outputs": [],
   "source": []
  },
  {
   "cell_type": "code",
   "execution_count": null,
   "metadata": {},
   "outputs": [],
   "source": []
  },
  {
   "cell_type": "code",
   "execution_count": 138,
   "metadata": {},
   "outputs": [
    {
     "name": "stdout",
     "output_type": "stream",
     "text": [
      "bananaOOOOOOOOOOOOOO\n"
     ]
    }
   ],
   "source": [
    "# Definition and Usage:-\n",
    "\n",
    "'''\n",
    "The ljust() method will left align the string, using a specified character (space is default) as the fill character.\n",
    "\n",
    "'''\n",
    "\n",
    "# Syntax :- string.ljust(length, character)\n",
    "\n",
    "\n",
    "\n",
    "# Parameter Values \n",
    "\n",
    "'''\n",
    "\n",
    "Parameter       \t    Description\n",
    "\n",
    "length          \t   Required. The length of the returned string\n",
    "character       \t   Optional. A character to fill the missing space (to the right of the string). Default is \" \" (space).\n",
    "\n",
    "'''\n",
    "\n",
    "\n",
    "# Example:- Using the 'O' as the filling character.\n",
    "\n",
    "txt = 'banana'\n",
    "\n",
    "x = txt.ljust(20, 'O')\n",
    "\n",
    "print(x)\n"
   ]
  },
  {
   "cell_type": "code",
   "execution_count": null,
   "metadata": {},
   "outputs": [],
   "source": []
  },
  {
   "cell_type": "code",
   "execution_count": null,
   "metadata": {},
   "outputs": [],
   "source": []
  },
  {
   "cell_type": "code",
   "execution_count": null,
   "metadata": {},
   "outputs": [],
   "source": []
  },
  {
   "cell_type": "code",
   "execution_count": 139,
   "metadata": {},
   "outputs": [
    {
     "name": "stdout",
     "output_type": "stream",
     "text": [
      "hello my friends\n"
     ]
    }
   ],
   "source": [
    "# lower() :- Converts a String into lower case.\n",
    "\n",
    "# Example:\n",
    "\n",
    "txt = \"Hello My FRIENDS\"\n",
    "\n",
    "print(txt.lower())"
   ]
  },
  {
   "cell_type": "code",
   "execution_count": null,
   "metadata": {},
   "outputs": [],
   "source": []
  },
  {
   "cell_type": "code",
   "execution_count": 140,
   "metadata": {},
   "outputs": [
    {
     "name": "stdout",
     "output_type": "stream",
     "text": [
      "hello my buddies.!!\n",
      "hi, hello, welcome\n"
     ]
    }
   ],
   "source": [
    "#Definition and Usage:\n",
    "\n",
    "'''\n",
    "The lower() method returns a string where all characters are lower case.\n",
    "\n",
    " Symbols and Numbers are ignored.\n",
    " \n",
    " '''\n",
    "\n",
    "# Syntax :- string.lower()\n",
    "\n",
    "# Example:\n",
    "\n",
    "a = \"hEllO My BuDdIes.!!\"\n",
    "\n",
    "b = \"hI, HeLlO, wElCOme\"\n",
    "\n",
    "print(a.lower())\n",
    "print(b.lower())\n",
    "\n",
    "\n",
    "\n"
   ]
  },
  {
   "cell_type": "code",
   "execution_count": null,
   "metadata": {},
   "outputs": [],
   "source": []
  },
  {
   "cell_type": "code",
   "execution_count": null,
   "metadata": {},
   "outputs": [],
   "source": []
  },
  {
   "cell_type": "code",
   "execution_count": null,
   "metadata": {},
   "outputs": [],
   "source": []
  },
  {
   "cell_type": "code",
   "execution_count": 142,
   "metadata": {},
   "outputs": [
    {
     "name": "stdout",
     "output_type": "stream",
     "text": [
      "all of fruits banana                  is my favorite\n"
     ]
    }
   ],
   "source": [
    "# lstrip() :- Returns a left trimmed version of the String.\n",
    "\n",
    "# Example:- Removes spaces to the left of the string.\n",
    "\n",
    "txt = \"              banana                 \"\n",
    "\n",
    "x = txt.lstrip()\n",
    "\n",
    "print(\"all of fruits\",x,\"is my favorite\")"
   ]
  },
  {
   "cell_type": "code",
   "execution_count": null,
   "metadata": {},
   "outputs": [],
   "source": []
  },
  {
   "cell_type": "code",
   "execution_count": 143,
   "metadata": {},
   "outputs": [
    {
     "name": "stdout",
     "output_type": "stream",
     "text": [
      "banana\n"
     ]
    }
   ],
   "source": [
    "#Definition and Usage:-\n",
    "\n",
    "'''\n",
    "The lstrip() method removes any leading characters (space is the default leading character to remove)\n",
    "\n",
    "'''\n",
    "\n",
    "# Syntax :- string.lstrip(characters)\n",
    "\n",
    "\n",
    "# Parameter Values\n",
    "'''\n",
    "Parameter           \t    Description\n",
    "\n",
    "characters          \t    Optional. A set of characters to remove as leading characters\n",
    "\n",
    "'''\n",
    "\n",
    "txt = \",,,,,,,,,,,ssaaww............banana\"\n",
    "\n",
    "print(txt.lstrip(\",.asw\"))"
   ]
  },
  {
   "cell_type": "code",
   "execution_count": null,
   "metadata": {},
   "outputs": [],
   "source": []
  },
  {
   "cell_type": "code",
   "execution_count": null,
   "metadata": {},
   "outputs": [],
   "source": []
  },
  {
   "cell_type": "code",
   "execution_count": null,
   "metadata": {},
   "outputs": [],
   "source": []
  },
  {
   "cell_type": "code",
   "execution_count": 144,
   "metadata": {},
   "outputs": [
    {
     "name": "stdout",
     "output_type": "stream",
     "text": [
      "VAM\n"
     ]
    }
   ],
   "source": [
    "# maketrans() :- Returns a translation table to be used in translation.\n",
    "\n",
    "# Example :- Create a translation table and using in the 'translate()' methond \n",
    "             # to replace any character 'J' with character 'V'\n",
    "    \n",
    "txt = \"JAM\"\n",
    "\n",
    "mytable = txt.maketrans(\"J\",\"V\")\n",
    "\n",
    "print(txt.translate(mytable))\n",
    "\n"
   ]
  },
  {
   "cell_type": "code",
   "execution_count": null,
   "metadata": {},
   "outputs": [],
   "source": []
  },
  {
   "cell_type": "code",
   "execution_count": 145,
   "metadata": {},
   "outputs": [
    {
     "name": "stdout",
     "output_type": "stream",
     "text": [
      "bamama\n"
     ]
    }
   ],
   "source": [
    "txt = \"banana\"\n",
    "\n",
    "mytable = txt.maketrans('n','m')\n",
    "\n",
    "print(txt.translate(mytable))"
   ]
  },
  {
   "cell_type": "code",
   "execution_count": null,
   "metadata": {},
   "outputs": [],
   "source": []
  },
  {
   "cell_type": "code",
   "execution_count": null,
   "metadata": {},
   "outputs": [],
   "source": []
  },
  {
   "cell_type": "code",
   "execution_count": 161,
   "metadata": {},
   "outputs": [
    {
     "name": "stdout",
     "output_type": "stream",
     "text": [
      "{97: '123', 98: '456', 99: '789'}\n",
      "abc\n"
     ]
    }
   ],
   "source": [
    "# Definition and Usage:-\n",
    "\n",
    "'''\n",
    "The maketrans() method returns a mapping table that can be used with translate() method to replace specified characters.\n",
    "\n",
    "'''\n",
    "\n",
    "\n",
    "# Syntax :- string.maketrans(x, y, z)\n",
    "\n",
    "\n",
    "'''\n",
    "\n",
    "# Parameter Values:\n",
    "\n",
    "Parameter   \t   Description\n",
    "\n",
    "x           \t   Required. If only one parameter is specified, this has to be a dictionary describing how to perform the replace. \n",
    "                   If two or more parameters are specified, this parameter has to be a string specifying the characters you want to replace.\n",
    "                   \n",
    "y           \t   Optional. A string with the same length as parameter x.\n",
    "                   Each character in the first parameter will be replaced with the corresponding character in this string.\n",
    "                   \n",
    "z           \t   Optional. A string describing which characters to remove from the original string.\n",
    "\n",
    "'''\n",
    "\n",
    "# Example :- The maketrans() method itself returns a dictionary describing each replacement, in unicode:\n",
    "\n",
    "dict= {\"a\": \"123\", \"b\": \"456\", \"c\": \"789\"}\n",
    "my_string = \"abc\"\n",
    "print(my_string.maketrans(dict))\n",
    "\n",
    "#print(my_string.translate(dict))\n",
    "\n",
    "\n",
    "\n",
    "\n",
    "\n",
    "\n"
   ]
  },
  {
   "cell_type": "code",
   "execution_count": null,
   "metadata": {},
   "outputs": [],
   "source": []
  },
  {
   "cell_type": "code",
   "execution_count": null,
   "metadata": {},
   "outputs": [],
   "source": []
  },
  {
   "cell_type": "code",
   "execution_count": null,
   "metadata": {},
   "outputs": [],
   "source": []
  },
  {
   "cell_type": "code",
   "execution_count": null,
   "metadata": {},
   "outputs": [],
   "source": []
  },
  {
   "cell_type": "code",
   "execution_count": 147,
   "metadata": {},
   "outputs": [
    {
     "ename": "ValueError",
     "evalue": "the first two maketrans arguments must have equal length",
     "output_type": "error",
     "traceback": [
      "\u001b[1;31m---------------------------------------------------------------------------\u001b[0m",
      "\u001b[1;31mValueError\u001b[0m                                Traceback (most recent call last)",
      "\u001b[1;32m<ipython-input-147-beb2a04ae28d>\u001b[0m in \u001b[0;36m<module>\u001b[1;34m\u001b[0m\n\u001b[0;32m      7\u001b[0m \u001b[0mz\u001b[0m \u001b[1;33m=\u001b[0m \u001b[1;34m\"d\"\u001b[0m     \u001b[1;31m# 3rd parameter is used to remove the specified characters\u001b[0m\u001b[1;33m\u001b[0m\u001b[1;33m\u001b[0m\u001b[0m\n\u001b[0;32m      8\u001b[0m \u001b[1;33m\u001b[0m\u001b[0m\n\u001b[1;32m----> 9\u001b[1;33m \u001b[0mmytable\u001b[0m \u001b[1;33m=\u001b[0m \u001b[0mtxt\u001b[0m\u001b[1;33m.\u001b[0m\u001b[0mmaketrans\u001b[0m\u001b[1;33m(\u001b[0m\u001b[0mx\u001b[0m\u001b[1;33m,\u001b[0m\u001b[0my\u001b[0m\u001b[1;33m,\u001b[0m\u001b[0mz\u001b[0m\u001b[1;33m)\u001b[0m\u001b[1;33m\u001b[0m\u001b[1;33m\u001b[0m\u001b[0m\n\u001b[0m\u001b[0;32m     10\u001b[0m \u001b[1;33m\u001b[0m\u001b[0m\n\u001b[0;32m     11\u001b[0m \u001b[0mprint\u001b[0m\u001b[1;33m(\u001b[0m\u001b[0mtxt\u001b[0m\u001b[1;33m.\u001b[0m\u001b[0mtranslate\u001b[0m\u001b[1;33m(\u001b[0m\u001b[0mmytable\u001b[0m\u001b[1;33m)\u001b[0m\u001b[1;33m)\u001b[0m\u001b[1;33m\u001b[0m\u001b[1;33m\u001b[0m\u001b[0m\n",
      "\u001b[1;31mValueError\u001b[0m: the first two maketrans arguments must have equal length"
     ]
    }
   ],
   "source": [
    "# Exmaple:- Use a mapping table to replace many characters:\n",
    "\n",
    "txt = 'Hello My friend'\n",
    "\n",
    "x = \"friend\"\n",
    "y = \"buddy\"\n",
    "z = \"d\"     # 3rd parameter is used to remove the specified characters\n",
    "\n",
    "mytable = txt.maketrans(x,y,z)\n",
    "\n",
    "print(txt.translate(mytable))"
   ]
  },
  {
   "cell_type": "code",
   "execution_count": 148,
   "metadata": {},
   "outputs": [],
   "source": [
    "# Note: from the above error, we know that both parameters should be of equal length.\n"
   ]
  },
  {
   "cell_type": "code",
   "execution_count": 149,
   "metadata": {},
   "outputs": [
    {
     "name": "stdout",
     "output_type": "stream",
     "text": [
      "Hellu My Buddy\n"
     ]
    }
   ],
   "source": [
    "txt = \"Hello My Dosth!!!!!!!!!!\"\n",
    "\n",
    "x = \"Dosth\"\n",
    "y = \"Buddy\"\n",
    "z = \"!\"\n",
    "\n",
    "mytable = txt.maketrans(x,y,z)\n",
    "\n",
    "print(txt.translate(mytable))"
   ]
  },
  {
   "cell_type": "code",
   "execution_count": null,
   "metadata": {},
   "outputs": [],
   "source": []
  },
  {
   "cell_type": "code",
   "execution_count": null,
   "metadata": {},
   "outputs": [],
   "source": []
  },
  {
   "cell_type": "code",
   "execution_count": 151,
   "metadata": {},
   "outputs": [
    {
     "name": "stdout",
     "output_type": "stream",
     "text": [
      "Heyy! Buddies.\n"
     ]
    }
   ],
   "source": [
    "# Example:- The third parameter in the mapping table describes characters that you want to remove from the string:\n",
    "\n",
    "\n",
    "txt = \"Hello Buddies.@@@@@@@@@\"\n",
    "\n",
    "x = \"Hello\"\n",
    "\n",
    "y = \"Heyy!\"\n",
    "\n",
    "z = \"@\"\n",
    "\n",
    "mytable = txt.maketrans(x,y,z)\n",
    "\n",
    "print(txt.translate(mytable))"
   ]
  },
  {
   "cell_type": "code",
   "execution_count": null,
   "metadata": {},
   "outputs": [],
   "source": []
  },
  {
   "cell_type": "code",
   "execution_count": null,
   "metadata": {},
   "outputs": [],
   "source": []
  },
  {
   "cell_type": "code",
   "execution_count": 159,
   "metadata": {},
   "outputs": [
    {
     "name": "stdout",
     "output_type": "stream",
     "text": [
      "abc mvc Navccn\n",
      "{72: 97, 105: 98, 101: 99, 103: None, 111: None, 100: None}\n"
     ]
    }
   ],
   "source": [
    "# Example :- The maketrans() method itself returns a dictionary describing each replacement, in unicode:\n",
    "\n",
    "txt = \"Hie move Naveen\"\n",
    "\n",
    "x = \"Hie\"\n",
    "\n",
    "y = \"abc\"\n",
    "\n",
    "z = \"good\"\n",
    "\n",
    "x = txt.maketrans(x,y,z)\n",
    "print(txt.translate(x))\n",
    "\n",
    "print(x)\n",
    "\n"
   ]
  },
  {
   "cell_type": "code",
   "execution_count": null,
   "metadata": {},
   "outputs": [],
   "source": []
  },
  {
   "cell_type": "code",
   "execution_count": null,
   "metadata": {},
   "outputs": [],
   "source": []
  },
  {
   "cell_type": "code",
   "execution_count": null,
   "metadata": {},
   "outputs": [],
   "source": []
  },
  {
   "cell_type": "code",
   "execution_count": null,
   "metadata": {},
   "outputs": [],
   "source": []
  },
  {
   "cell_type": "code",
   "execution_count": 162,
   "metadata": {},
   "outputs": [
    {
     "name": "stdout",
     "output_type": "stream",
     "text": [
      "('I could eat ', 'bananas', ' all day')\n"
     ]
    }
   ],
   "source": [
    "# Partition :- Returns a tuple where the string is parted into three parts\n",
    "\n",
    "# Example :- Search for the word \"banana\", and return a tuple with three elements\n",
    "\n",
    "'''\n",
    "1. everything before the 'match'\n",
    "2. the 'match'\n",
    "3. everything after the 'match'\n",
    "\n",
    "'''\n",
    "\n",
    "txt = \"I could eat bananas all day\"\n",
    "\n",
    "print(txt.partition(\"bananas\"))"
   ]
  },
  {
   "cell_type": "code",
   "execution_count": null,
   "metadata": {},
   "outputs": [],
   "source": []
  },
  {
   "cell_type": "code",
   "execution_count": 163,
   "metadata": {},
   "outputs": [
    {
     "name": "stdout",
     "output_type": "stream",
     "text": [
      "('I could eat bananas all day', '', '')\n"
     ]
    }
   ],
   "source": [
    "# Definition and Usage:-\n",
    "\n",
    "'''\n",
    "The partition() method searches for a specified string, and splits the string into a tuple containing three elements.\n",
    "\n",
    "The first element contains the part before the specified string.\n",
    "\n",
    "The second element contains the specified string.\n",
    "\n",
    "The third element contains the part after the string.\n",
    "\n",
    "'''\n",
    "\n",
    "# Note :- This method search for the first occurrence of the specified string.\n",
    "\n",
    "\n",
    "\n",
    "# Syntax :- string.partition(value)\n",
    "\n",
    "\n",
    "# Parameter Values:-\n",
    "'''\n",
    "Parameter        \t    Description\n",
    "\n",
    "value           \t    Required. The string to search for\n",
    "\n",
    "'''\n",
    "\n",
    "# Example:-  If the specified value is not found, the partition() method returns a tuple containing: \n",
    "           # 1 - the whole string, 2 - an empty string, 3 - an empty string:\n",
    "    \n",
    "    \n",
    "    \n",
    "txt = \"I could eat bananas all day\"\n",
    "\n",
    "print(txt.partition(\"apples\"))\n",
    "\n"
   ]
  },
  {
   "cell_type": "code",
   "execution_count": null,
   "metadata": {},
   "outputs": [],
   "source": []
  },
  {
   "cell_type": "code",
   "execution_count": null,
   "metadata": {},
   "outputs": [],
   "source": []
  },
  {
   "cell_type": "code",
   "execution_count": null,
   "metadata": {},
   "outputs": [],
   "source": []
  },
  {
   "cell_type": "code",
   "execution_count": 164,
   "metadata": {},
   "outputs": [
    {
     "name": "stdout",
     "output_type": "stream",
     "text": [
      "I like apples\n"
     ]
    }
   ],
   "source": [
    "# replace :- Returns a String where a specified value is replaced by a specified value.\n",
    "\n",
    "\n",
    "# Example :-Replace the word \"bananas\":\n",
    "\n",
    "txt = \"I like bananas\"\n",
    "\n",
    "print(txt.replace('bananas','apples'))"
   ]
  },
  {
   "cell_type": "code",
   "execution_count": null,
   "metadata": {},
   "outputs": [],
   "source": []
  },
  {
   "cell_type": "code",
   "execution_count": 165,
   "metadata": {},
   "outputs": [
    {
     "name": "stdout",
     "output_type": "stream",
     "text": [
      "three three was a race horse, two two was three too.\n"
     ]
    }
   ],
   "source": [
    "# Definition and Usage:-\n",
    "\n",
    "'''\n",
    "The replace() method replaces a specified phrase with another specified phrase.\n",
    "\n",
    "Note: All occurrences of the specified phrase will be replaced, if nothing else is specified.\n",
    "\n",
    "'''\n",
    "\n",
    "\n",
    "# Syntax :- string.replace(oldvalue, newvalue, count)\n",
    "\n",
    "\n",
    "\n",
    "#Parameter Values:\n",
    "\n",
    "'''\n",
    "\n",
    "Parameter       \t   Description\n",
    "\n",
    "oldvalue        \t  Required. The string to search for\n",
    "\n",
    "newvalue        \t  Required. The string to replace the old value with\n",
    "\n",
    "count           \t  ptional. A number specifying how many occurrences of the old value you want to replace. \n",
    "                      Default is all occurrences\n",
    "\n",
    "'''\n",
    "\n",
    "\n",
    "# Example :- Replace all occurances of the word 'one'.\n",
    "\n",
    "txt = \"one one was a race horse, two two was one too.\"\n",
    "\n",
    "x = txt.replace('one', 'three')\n",
    "\n",
    "print(x)\n",
    "\n",
    "\n",
    "\n",
    "\n"
   ]
  },
  {
   "cell_type": "code",
   "execution_count": null,
   "metadata": {},
   "outputs": [],
   "source": []
  },
  {
   "cell_type": "code",
   "execution_count": 166,
   "metadata": {},
   "outputs": [
    {
     "name": "stdout",
     "output_type": "stream",
     "text": [
      "three three was a race horse, two two was one too.\n"
     ]
    }
   ],
   "source": [
    "# Example :- Replace the firest two occurances of the word 'one'.\n",
    "\n",
    "txt = \"one one was a race horse, two two was one too.\"\n",
    "\n",
    "x = txt .replace('one','three',2)\n",
    "\n",
    "print(x)\n"
   ]
  },
  {
   "cell_type": "code",
   "execution_count": null,
   "metadata": {},
   "outputs": [],
   "source": []
  },
  {
   "cell_type": "code",
   "execution_count": null,
   "metadata": {},
   "outputs": [],
   "source": []
  },
  {
   "cell_type": "code",
   "execution_count": null,
   "metadata": {},
   "outputs": [],
   "source": []
  },
  {
   "cell_type": "code",
   "execution_count": 168,
   "metadata": {},
   "outputs": [
    {
     "name": "stdout",
     "output_type": "stream",
     "text": [
      "12\n"
     ]
    }
   ],
   "source": [
    "# rfind() :- Searches the string for a specified value and returns the last position of where it was found.\n",
    "\n",
    "\n",
    "# Example :- Where in the text is the last occurrence of the string \"casa\"?:\n",
    "\n",
    "txt = \"Mi casa, su casa.\"\n",
    "\n",
    "x = txt.rfind('casa')\n",
    "\n",
    "print(x)"
   ]
  },
  {
   "cell_type": "code",
   "execution_count": null,
   "metadata": {},
   "outputs": [],
   "source": []
  },
  {
   "cell_type": "code",
   "execution_count": 169,
   "metadata": {},
   "outputs": [
    {
     "name": "stdout",
     "output_type": "stream",
     "text": [
      "13\n"
     ]
    }
   ],
   "source": [
    "# Definition and Usage:-\n",
    "\n",
    "'''\n",
    "\n",
    "The rfind() method finds the last occurrence of the specified value.\n",
    "\n",
    "The rfind() method returns -1 if the value is not found.\n",
    "\n",
    "The rfind() method is almost the same as the rindex() method. See example below.\n",
    "\n",
    "'''\n",
    "\n",
    "# Syntax :- string.rfind(value, start, end)\n",
    "\n",
    "\n",
    "# Parameter Values:\n",
    "\n",
    "'''\n",
    "Parameter       \t    Description\n",
    "\n",
    "value           \t    Required. The value to search for\n",
    "start           \t    Optional. Where to start the search. Default is 0\n",
    "end             \t    Optional. Where to end the search. Default is to the end of the string\n",
    "\n",
    "'''\n",
    "\n",
    "\n",
    "# Example :- Where in the text is the last occurrence of the letter \"e\"?:\n",
    "\n",
    "txt = \"Hello, welcome to my world.\"\n",
    "\n",
    "print(txt.rfind(\"e\"))"
   ]
  },
  {
   "cell_type": "code",
   "execution_count": null,
   "metadata": {},
   "outputs": [],
   "source": []
  },
  {
   "cell_type": "code",
   "execution_count": 170,
   "metadata": {},
   "outputs": [
    {
     "name": "stdout",
     "output_type": "stream",
     "text": [
      "8\n"
     ]
    }
   ],
   "source": [
    "# Example:-  Where in the text is the last occurrence of the letter \"e\" when you only search between position 5 and 10?:\n",
    "\n",
    "txt = \"Hello, welcome to my world.\"\n",
    " \n",
    "x = txt.rfind('e',5,10)      # string.rfind(value, start, end)\n",
    "\n",
    "print(x)"
   ]
  },
  {
   "cell_type": "code",
   "execution_count": null,
   "metadata": {},
   "outputs": [],
   "source": []
  },
  {
   "cell_type": "code",
   "execution_count": 171,
   "metadata": {},
   "outputs": [
    {
     "name": "stdout",
     "output_type": "stream",
     "text": [
      "-1\n"
     ]
    },
    {
     "ename": "ValueError",
     "evalue": "substring not found",
     "output_type": "error",
     "traceback": [
      "\u001b[1;31m---------------------------------------------------------------------------\u001b[0m",
      "\u001b[1;31mValueError\u001b[0m                                Traceback (most recent call last)",
      "\u001b[1;32m<ipython-input-171-ca722e814c82>\u001b[0m in \u001b[0;36m<module>\u001b[1;34m\u001b[0m\n\u001b[0;32m      5\u001b[0m \u001b[0mprint\u001b[0m\u001b[1;33m(\u001b[0m\u001b[0mtxt\u001b[0m\u001b[1;33m.\u001b[0m\u001b[0mrfind\u001b[0m\u001b[1;33m(\u001b[0m\u001b[1;34m'q'\u001b[0m\u001b[1;33m)\u001b[0m\u001b[1;33m)\u001b[0m\u001b[1;33m\u001b[0m\u001b[1;33m\u001b[0m\u001b[0m\n\u001b[0;32m      6\u001b[0m \u001b[1;33m\u001b[0m\u001b[0m\n\u001b[1;32m----> 7\u001b[1;33m \u001b[0mprint\u001b[0m\u001b[1;33m(\u001b[0m\u001b[0mtxt\u001b[0m\u001b[1;33m.\u001b[0m\u001b[0mrindex\u001b[0m\u001b[1;33m(\u001b[0m\u001b[1;34m'q'\u001b[0m\u001b[1;33m)\u001b[0m\u001b[1;33m)\u001b[0m\u001b[1;33m\u001b[0m\u001b[1;33m\u001b[0m\u001b[0m\n\u001b[0m",
      "\u001b[1;31mValueError\u001b[0m: substring not found"
     ]
    }
   ],
   "source": [
    "# Example :- If the value is not found, the rfind() method returns -1, but the rindex() method will raise an exception:\n",
    "\n",
    "txt = \"Hello, welcome to my world.\"\n",
    "\n",
    "print(txt.rfind('q'))\n",
    "\n",
    "print(txt.rindex('q'))"
   ]
  },
  {
   "cell_type": "code",
   "execution_count": null,
   "metadata": {},
   "outputs": [],
   "source": []
  },
  {
   "cell_type": "code",
   "execution_count": null,
   "metadata": {},
   "outputs": [],
   "source": []
  },
  {
   "cell_type": "code",
   "execution_count": null,
   "metadata": {},
   "outputs": [],
   "source": []
  },
  {
   "cell_type": "code",
   "execution_count": 172,
   "metadata": {},
   "outputs": [
    {
     "name": "stdout",
     "output_type": "stream",
     "text": [
      "12\n"
     ]
    }
   ],
   "source": [
    "# rindex() :- Searches the string for a specified value and returns the last position where it was found.\n",
    "\n",
    "\n",
    "# Example:- Where in the text is the last occurrence of the string \"casa\"?:\n",
    "\n",
    "txt = \"Mi casa, su casa.\"\n",
    "\n",
    "x = txt.rindex('casa')\n",
    "\n",
    "print(x)"
   ]
  },
  {
   "cell_type": "code",
   "execution_count": null,
   "metadata": {},
   "outputs": [],
   "source": []
  },
  {
   "cell_type": "code",
   "execution_count": 174,
   "metadata": {},
   "outputs": [
    {
     "name": "stdout",
     "output_type": "stream",
     "text": [
      "13\n"
     ]
    }
   ],
   "source": [
    "# Definition and Usage:-\n",
    "\n",
    "'''\n",
    "The rindex() method finds the last occurrence of the specified value.\n",
    "\n",
    "The rindex() method raises an exception if the value is not found.\n",
    "\n",
    "The rindex() method is almost the same as the rfind() method. See example below.\n",
    "\n",
    "'''\n",
    "\n",
    "# Syntax :- string.rindex(value, start, end)\n",
    "\n",
    "\n",
    "# Parameter Values:-\n",
    "\n",
    "'''\n",
    "Parameter       \t   Description\n",
    "\n",
    "value           \t   Required. The value to search for.\n",
    "start           \t   Optional. Where to start the search. Default is 0.\n",
    "end             \t   Optional. Where to end the search. Default is to the end of the .\n",
    "\n",
    "'''\n",
    "\n",
    "# Example :- Where in the text is the last occurrence of the letter \"e\"?:\n",
    "\n",
    "txt = \"Hello, welcome to my world.\"\n",
    "\n",
    "x = txt.rindex('e')\n",
    "\n",
    "print(x)\n"
   ]
  },
  {
   "cell_type": "code",
   "execution_count": null,
   "metadata": {},
   "outputs": [],
   "source": []
  },
  {
   "cell_type": "code",
   "execution_count": 175,
   "metadata": {},
   "outputs": [
    {
     "name": "stdout",
     "output_type": "stream",
     "text": [
      "8\n"
     ]
    }
   ],
   "source": [
    "# Example :- Where in the text is the last occurrence of the letter \"e\" when you only search between position 5 and 10?:\n",
    "\n",
    "txt = 'Hello, welcome to my world'\n",
    "\n",
    "x = txt.rindex('e',5,10)\n",
    "\n",
    "print(x)"
   ]
  },
  {
   "cell_type": "code",
   "execution_count": null,
   "metadata": {},
   "outputs": [],
   "source": []
  },
  {
   "cell_type": "code",
   "execution_count": 176,
   "metadata": {},
   "outputs": [
    {
     "name": "stdout",
     "output_type": "stream",
     "text": [
      "-1\n"
     ]
    },
    {
     "ename": "ValueError",
     "evalue": "substring not found",
     "output_type": "error",
     "traceback": [
      "\u001b[1;31m---------------------------------------------------------------------------\u001b[0m",
      "\u001b[1;31mValueError\u001b[0m                                Traceback (most recent call last)",
      "\u001b[1;32m<ipython-input-176-f8ae74534231>\u001b[0m in \u001b[0;36m<module>\u001b[1;34m\u001b[0m\n\u001b[0;32m      4\u001b[0m \u001b[1;33m\u001b[0m\u001b[0m\n\u001b[0;32m      5\u001b[0m \u001b[0mprint\u001b[0m\u001b[1;33m(\u001b[0m\u001b[0mtxt\u001b[0m\u001b[1;33m.\u001b[0m\u001b[0mrfind\u001b[0m\u001b[1;33m(\u001b[0m\u001b[1;34m'q'\u001b[0m\u001b[1;33m)\u001b[0m\u001b[1;33m)\u001b[0m\u001b[1;33m\u001b[0m\u001b[1;33m\u001b[0m\u001b[0m\n\u001b[1;32m----> 6\u001b[1;33m \u001b[0mprint\u001b[0m\u001b[1;33m(\u001b[0m\u001b[0mtxt\u001b[0m\u001b[1;33m.\u001b[0m\u001b[0mrindex\u001b[0m\u001b[1;33m(\u001b[0m\u001b[1;34m'q'\u001b[0m\u001b[1;33m)\u001b[0m\u001b[1;33m)\u001b[0m\u001b[1;33m\u001b[0m\u001b[1;33m\u001b[0m\u001b[0m\n\u001b[0m",
      "\u001b[1;31mValueError\u001b[0m: substring not found"
     ]
    }
   ],
   "source": [
    "# Example :- If the value is not found, the rfind() method returns -1, but the rindex() method will raise an exception:\n",
    "\n",
    "txt = \"Hello, welcome to my world\"\n",
    "\n",
    "print(txt.rfind('q'))\n",
    "print(txt.rindex('q'))"
   ]
  },
  {
   "cell_type": "code",
   "execution_count": null,
   "metadata": {},
   "outputs": [],
   "source": []
  },
  {
   "cell_type": "code",
   "execution_count": null,
   "metadata": {},
   "outputs": [],
   "source": []
  },
  {
   "cell_type": "code",
   "execution_count": null,
   "metadata": {},
   "outputs": [],
   "source": []
  },
  {
   "cell_type": "code",
   "execution_count": 179,
   "metadata": {},
   "outputs": [
    {
     "name": "stdout",
     "output_type": "stream",
     "text": [
      "              banana is my favorite fruit.\n"
     ]
    }
   ],
   "source": [
    "# rjust() :- Returns a right justified version of the String.\n",
    "\n",
    "\n",
    "# Example :- Return a 20 characters long, right justified version of the word \"banana\":\n",
    "\n",
    "txt ='banana'\n",
    "x = txt.rjust(20)\n",
    "\n",
    "#print(len(x))  # len 20 will be printed\n",
    "\n",
    "print(x,\"is my favorite fruit.\")\n",
    "\n"
   ]
  },
  {
   "cell_type": "code",
   "execution_count": 180,
   "metadata": {},
   "outputs": [
    {
     "name": "stdout",
     "output_type": "stream",
     "text": [
      "14\n"
     ]
    }
   ],
   "source": [
    "# Note: In the result, there are actually 14 whitespaces to the left of the word banana.\n",
    "\n",
    "print(x.count(\" \"))"
   ]
  },
  {
   "cell_type": "code",
   "execution_count": null,
   "metadata": {},
   "outputs": [],
   "source": []
  },
  {
   "cell_type": "code",
   "execution_count": null,
   "metadata": {},
   "outputs": [],
   "source": []
  },
  {
   "cell_type": "code",
   "execution_count": 184,
   "metadata": {},
   "outputs": [
    {
     "name": "stdout",
     "output_type": "stream",
     "text": [
      "OOOOOOOOOOOOOObanana\n"
     ]
    }
   ],
   "source": [
    "# Definition and Usage:- \n",
    "\n",
    "'''\n",
    "The rjust() method will right align the string, using a specified character (space is default) as the fill character.\n",
    "\n",
    "'''\n",
    "\n",
    "\n",
    "# Syntax :- string.rjust(length, character)\n",
    "\n",
    "\n",
    "# Parameter Values\n",
    "\n",
    "'''\n",
    "Parameter   \t  Description\n",
    "\n",
    "length      \t  Required. The length of the returned string\n",
    "character   \t  Optional. A character to fill the missing space (to the left of the string). Default is \" \" (space).\n",
    "\n",
    "'''\n",
    "\n",
    "# Example :- Using the letter \"O\" as the padding(fill) character:\n",
    "\n",
    "txt = \"banana\"\n",
    "\n",
    "print(txt.rjust(20,'O'))\n"
   ]
  },
  {
   "cell_type": "code",
   "execution_count": null,
   "metadata": {},
   "outputs": [],
   "source": []
  },
  {
   "cell_type": "code",
   "execution_count": null,
   "metadata": {},
   "outputs": [],
   "source": []
  },
  {
   "cell_type": "code",
   "execution_count": null,
   "metadata": {},
   "outputs": [],
   "source": []
  },
  {
   "cell_type": "code",
   "execution_count": 187,
   "metadata": {},
   "outputs": [
    {
     "name": "stdout",
     "output_type": "stream",
     "text": [
      "['welcome', 'to', 'python', 'world']\n",
      "<class 'list'>\n"
     ]
    }
   ],
   "source": [
    "# split() :- Splits the String at specified seperator, and returns a list.\n",
    "\n",
    "\n",
    "# Example :- Split a string into a list where each word is a list item:\n",
    "\n",
    "txt = \"welcome to python world\"\n",
    "\n",
    "x = txt.split()\n",
    "\n",
    "print(x)\n",
    "print(type(x))"
   ]
  },
  {
   "cell_type": "code",
   "execution_count": null,
   "metadata": {},
   "outputs": [],
   "source": []
  },
  {
   "cell_type": "code",
   "execution_count": 188,
   "metadata": {},
   "outputs": [
    {
     "name": "stdout",
     "output_type": "stream",
     "text": [
      "['apple', 'banana#cherry#orange']\n"
     ]
    }
   ],
   "source": [
    "# Definition and Usage :-\n",
    "\n",
    "'''\n",
    "The split() method splits a string into a list.\n",
    "\n",
    "You can specify the separator, default separator is any whitespace.\n",
    "\n",
    "'''\n",
    "\n",
    "# Note: When maxsplit is specified, the list will contain the specified number of elements plus one.\n",
    "\n",
    "\n",
    "\n",
    "# Example:- Split the string into a list with max 2 items:\n",
    "\n",
    "\n",
    "txt = \"apple#banana#cherry#orange\"\n",
    "\n",
    "# setting the maxsplit parameter to 1, will return a list with 2 elements!\n",
    "x = txt.split(\"#\", 1)\n",
    "\n",
    "print(x)"
   ]
  },
  {
   "cell_type": "code",
   "execution_count": null,
   "metadata": {},
   "outputs": [],
   "source": []
  },
  {
   "cell_type": "code",
   "execution_count": null,
   "metadata": {},
   "outputs": [],
   "source": []
  },
  {
   "cell_type": "code",
   "execution_count": 189,
   "metadata": {},
   "outputs": [
    {
     "name": "stdout",
     "output_type": "stream",
     "text": [
      "['hello', 'my name is Naveen', 'I am 23 years old']\n"
     ]
    }
   ],
   "source": [
    "# Syntax :- string.split(separator, maxsplit)\n",
    "\n",
    "# Parameter Values:\n",
    "\n",
    "'''\n",
    "Parameter       \t    Description\n",
    "\n",
    "separator       \t    Optional. Specifies the separator to use when splitting the string. \n",
    "                        By default any whitespace is a separator.\n",
    "                        \n",
    "maxsplit        \t    Optional. Specifies how many splits to do. Default value is -1, which is \"all occurrences\"\n",
    "\n",
    "'''\n",
    "\n",
    "\n",
    "# Example :- Split the string, using comma, followed by a space, as a separator:\n",
    "\n",
    "txt = \"hello, my name is Naveen, I am 23 years old\"\n",
    "\n",
    "x = txt.split(\", \")\n",
    "\n",
    "print(x)\n",
    "\n"
   ]
  },
  {
   "cell_type": "code",
   "execution_count": null,
   "metadata": {},
   "outputs": [],
   "source": []
  },
  {
   "cell_type": "code",
   "execution_count": 190,
   "metadata": {},
   "outputs": [
    {
     "name": "stdout",
     "output_type": "stream",
     "text": [
      "['apple', 'banana', 'cherry', 'orange']\n"
     ]
    }
   ],
   "source": [
    "# Use a hash character as a separator:\n",
    "\n",
    "txt = \"apple#banana#cherry#orange\"\n",
    "\n",
    "print(txt.split('#'))"
   ]
  },
  {
   "cell_type": "code",
   "execution_count": null,
   "metadata": {},
   "outputs": [],
   "source": []
  },
  {
   "cell_type": "code",
   "execution_count": null,
   "metadata": {},
   "outputs": [],
   "source": []
  },
  {
   "cell_type": "code",
   "execution_count": null,
   "metadata": {},
   "outputs": [],
   "source": []
  },
  {
   "cell_type": "code",
   "execution_count": 193,
   "metadata": {},
   "outputs": [
    {
     "name": "stdout",
     "output_type": "stream",
     "text": [
      "Thank you for the music\n",
      "Welcome to the jungle\n",
      "['Thank you for the music', 'Welcome to the jungle']\n"
     ]
    }
   ],
   "source": [
    "# splitline() :- Splits the lines at line breaks and returns a list.\n",
    "\n",
    "\n",
    "#Example:- Split a string into a list where each line is a list item:\n",
    "\n",
    "txt = \"Thank you for the music\\nWelcome to the jungle\"\n",
    "\n",
    "x = txt.splitlines()\n",
    "\n",
    "print(txt)\n",
    "\n",
    "print(x)"
   ]
  },
  {
   "cell_type": "code",
   "execution_count": null,
   "metadata": {},
   "outputs": [],
   "source": []
  },
  {
   "cell_type": "code",
   "execution_count": null,
   "metadata": {},
   "outputs": [],
   "source": []
  },
  {
   "cell_type": "code",
   "execution_count": 194,
   "metadata": {},
   "outputs": [
    {
     "name": "stdout",
     "output_type": "stream",
     "text": [
      "['Thank you for the music\\n', 'Welcome to the jungle']\n"
     ]
    }
   ],
   "source": [
    "# Definition and Usage:- The splitlines() method splits a string into a list. The splitting is done at line breaks.\n",
    "\n",
    "\n",
    "# Syntax :- string.splitlines(keeplinebreaks)\n",
    "\n",
    "\n",
    "# Parameter Values\n",
    "\n",
    "'''\n",
    "\n",
    "Parameter       \t  Description\n",
    "\n",
    "keeplinebreaks  \t   Optional. Specifies if the line breaks should be included (True), \n",
    "                       or not (False). Default value is False\n",
    "\n",
    "'''\n",
    "\n",
    "\n",
    "# Example :- Split the string, but keep the line breaks:\n",
    "\n",
    "txt = \"Thank you for the music\\nWelcome to the jungle\"\n",
    "\n",
    "print(txt.splitlines(True))   # if true, line breaks will be kept as it was in the original string\n",
    "\n"
   ]
  },
  {
   "cell_type": "code",
   "execution_count": null,
   "metadata": {},
   "outputs": [],
   "source": []
  },
  {
   "cell_type": "code",
   "execution_count": null,
   "metadata": {},
   "outputs": [],
   "source": []
  },
  {
   "cell_type": "code",
   "execution_count": null,
   "metadata": {},
   "outputs": [],
   "source": []
  },
  {
   "cell_type": "code",
   "execution_count": null,
   "metadata": {},
   "outputs": [],
   "source": []
  },
  {
   "cell_type": "code",
   "execution_count": 195,
   "metadata": {},
   "outputs": [
    {
     "name": "stdout",
     "output_type": "stream",
     "text": [
      "True\n"
     ]
    }
   ],
   "source": [
    "# startswith() :- Returns true if the String starts with the speicified value.\n",
    "\n",
    "\n",
    "# Example :- Check if the string starts with \"Hello\":\n",
    "\n",
    "txt = \"Hello, welcome to my world.\"\n",
    "\n",
    "x = txt.startswith(\"Hello\")\n",
    "\n",
    "print(x)"
   ]
  },
  {
   "cell_type": "code",
   "execution_count": null,
   "metadata": {},
   "outputs": [],
   "source": []
  },
  {
   "cell_type": "code",
   "execution_count": 196,
   "metadata": {},
   "outputs": [
    {
     "name": "stdout",
     "output_type": "stream",
     "text": [
      "True\n"
     ]
    }
   ],
   "source": [
    "# Definition and Usage:-\n",
    "\n",
    "'''\n",
    "The startswith() method returns True if the string starts with the specified value, otherwise False.\n",
    "\n",
    "'''\n",
    "\n",
    "# Syntax :- string.startswith(value, start, end)\n",
    "\n",
    "\n",
    "# Parameter Values:\n",
    "\n",
    "'''\n",
    "Parameter           \t       Description\n",
    "\n",
    "value               \t       Required. The value to check if the string starts with\n",
    "start               \t       Optional. An Integer specifying at which position to start the search\n",
    "end                 \t       Optional. An Integer specifying at which position to end the search\n",
    "\n",
    "'''\n",
    "\n",
    "# Example :- Check if position 7 to 20 starts with the characters \"wel\":\n",
    "\n",
    "\n",
    "txt = \"Hello, welcome to my world.\"\n",
    "\n",
    "print(txt.startswith('wel',7,20))\n"
   ]
  },
  {
   "cell_type": "code",
   "execution_count": null,
   "metadata": {},
   "outputs": [],
   "source": []
  },
  {
   "cell_type": "code",
   "execution_count": null,
   "metadata": {},
   "outputs": [],
   "source": []
  },
  {
   "cell_type": "code",
   "execution_count": null,
   "metadata": {},
   "outputs": [],
   "source": []
  },
  {
   "cell_type": "code",
   "execution_count": 199,
   "metadata": {},
   "outputs": [
    {
     "name": "stdout",
     "output_type": "stream",
     "text": [
      "          banana        \n",
      "banana\n"
     ]
    }
   ],
   "source": [
    "# strip() :- Retuns a trimmed version of the String.\n",
    "\n",
    "\n",
    "# Example :- Remove spaces at the beginning and at the end of the string:\n",
    "\n",
    "txt = \"          banana        \"\n",
    "\n",
    "x = txt.strip()\n",
    "\n",
    "print(txt)\n",
    "print(x)"
   ]
  },
  {
   "cell_type": "code",
   "execution_count": null,
   "metadata": {},
   "outputs": [],
   "source": []
  },
  {
   "cell_type": "code",
   "execution_count": null,
   "metadata": {},
   "outputs": [],
   "source": []
  },
  {
   "cell_type": "code",
   "execution_count": 201,
   "metadata": {},
   "outputs": [
    {
     "name": "stdout",
     "output_type": "stream",
     "text": [
      "banana\n"
     ]
    }
   ],
   "source": [
    "# Definition and Usage:- \n",
    "\n",
    "'''\n",
    "The strip() method removes any leading (spaces at the beginning) and trailing (spaces at the end) characters \n",
    "(space is the default leading character to remove)\n",
    "\n",
    "'''\n",
    "\n",
    "# Syntax :- string.strip(characters)\n",
    "\n",
    "# Parameter Values:\n",
    "\n",
    "'''\n",
    "Parameter    \t   Description\n",
    "characters   \t   Optional. A set of characters to remove as leading/trailing characters\n",
    "\n",
    "'''\n",
    "\n",
    "# Example :- Remove leading or tailing characters\n",
    "\n",
    "\n",
    "txt = ',,,,,,,,,rtgstgs.............,banana........sssgrt'\n",
    "\n",
    "print(txt.strip(\"rtgs.,\"))\n"
   ]
  },
  {
   "cell_type": "code",
   "execution_count": null,
   "metadata": {},
   "outputs": [],
   "source": []
  },
  {
   "cell_type": "code",
   "execution_count": null,
   "metadata": {},
   "outputs": [],
   "source": []
  },
  {
   "cell_type": "code",
   "execution_count": null,
   "metadata": {},
   "outputs": [],
   "source": []
  },
  {
   "cell_type": "code",
   "execution_count": 202,
   "metadata": {},
   "outputs": [
    {
     "name": "stdout",
     "output_type": "stream",
     "text": [
      "hELLO, mY nAME IS naveen.\n"
     ]
    }
   ],
   "source": [
    "# swapcase :- Swaps cases, upper case becomes lower case and vice-versa.\n",
    "\n",
    "# Example :- Make the lower case letters upper case, and uppercase latters lower case.\n",
    "\n",
    "txt = \"Hello, My Name is NAVEEN.\"\n",
    "\n",
    "x = txt.swapcase()\n",
    "\n",
    "print(x)"
   ]
  },
  {
   "cell_type": "code",
   "execution_count": null,
   "metadata": {},
   "outputs": [],
   "source": []
  },
  {
   "cell_type": "code",
   "execution_count": 203,
   "metadata": {},
   "outputs": [],
   "source": [
    "# Definition and Usage:- The swapcase() method returns a string where all the upper case letters are lower case and vice versa.\n",
    "\n",
    "# Syntax :- string.swapcase()\n",
    "\n",
    "\n",
    "\n"
   ]
  },
  {
   "cell_type": "code",
   "execution_count": null,
   "metadata": {},
   "outputs": [],
   "source": []
  },
  {
   "cell_type": "code",
   "execution_count": null,
   "metadata": {},
   "outputs": [],
   "source": []
  },
  {
   "cell_type": "code",
   "execution_count": null,
   "metadata": {},
   "outputs": [],
   "source": []
  },
  {
   "cell_type": "code",
   "execution_count": null,
   "metadata": {},
   "outputs": [],
   "source": []
  },
  {
   "cell_type": "code",
   "execution_count": 206,
   "metadata": {},
   "outputs": [
    {
     "name": "stdout",
     "output_type": "stream",
     "text": [
      "Hello, Welcome To My World.\n"
     ]
    }
   ],
   "source": [
    "# title() :- Coverts the first character of each word to uppercase\n",
    "\n",
    "\n",
    "# Example: - Make the first letter in each word upper case\n",
    "\n",
    "txt = 'hello, welcome to my world.'\n",
    "\n",
    "print(txt.title())\n",
    "\n",
    "\n",
    "\n",
    "\n",
    "\n",
    "\n",
    "\n",
    "\n"
   ]
  },
  {
   "cell_type": "code",
   "execution_count": null,
   "metadata": {},
   "outputs": [],
   "source": []
  },
  {
   "cell_type": "code",
   "execution_count": null,
   "metadata": {},
   "outputs": [],
   "source": []
  },
  {
   "cell_type": "code",
   "execution_count": 207,
   "metadata": {},
   "outputs": [
    {
     "name": "stdout",
     "output_type": "stream",
     "text": [
      "Welcome To My 2Nd World\n"
     ]
    }
   ],
   "source": [
    "# Definition and Usage:-\n",
    "\n",
    "'''\n",
    "The title() method returns a string where the first character in every word is upper case. Like a header, or a title.\n",
    "\n",
    "If the word contains a number or a symbol, the first letter after that will be converted to upper case.\n",
    "\n",
    "'''\n",
    "\n",
    "# Syntax :- string.title()\n",
    "\n",
    "\n",
    "# Example :- Make the first letter in each word upper case:\n",
    "\n",
    "txt = \"Welcome to my 2nd world\"\n",
    "\n",
    "print(txt.title())\n"
   ]
  },
  {
   "cell_type": "code",
   "execution_count": null,
   "metadata": {},
   "outputs": [],
   "source": []
  },
  {
   "cell_type": "code",
   "execution_count": null,
   "metadata": {},
   "outputs": [],
   "source": []
  },
  {
   "cell_type": "code",
   "execution_count": 208,
   "metadata": {},
   "outputs": [
    {
     "name": "stdout",
     "output_type": "stream",
     "text": [
      "Hello B2B2B2 And 3G3G3G\n"
     ]
    }
   ],
   "source": [
    " # Example :- Note that the first letter after a non-alphabet letter is converted into a upper case letter:\n",
    "\n",
    "txt = \"hello b2b2b2 and 3g3g3g\"\n",
    "\n",
    "print(txt.title())"
   ]
  },
  {
   "cell_type": "code",
   "execution_count": null,
   "metadata": {},
   "outputs": [],
   "source": []
  },
  {
   "cell_type": "code",
   "execution_count": null,
   "metadata": {},
   "outputs": [],
   "source": []
  },
  {
   "cell_type": "code",
   "execution_count": null,
   "metadata": {},
   "outputs": [],
   "source": []
  },
  {
   "cell_type": "code",
   "execution_count": 210,
   "metadata": {},
   "outputs": [
    {
     "name": "stdout",
     "output_type": "stream",
     "text": [
      "Hello Pam!\n"
     ]
    }
   ],
   "source": [
    "# translate() :- Returns a translated string.\n",
    "\n",
    "\n",
    "# Example :- Replace any \"V\" characters with a \"P\" character:\n",
    "\n",
    "#use a dictionary with ascii codes to replace 86 (V) with 80 (P):\n",
    "mydict = {86:  80}\n",
    "txt = \"Hello Vam!\"\n",
    "print(txt.translate(mydict))"
   ]
  },
  {
   "cell_type": "code",
   "execution_count": null,
   "metadata": {},
   "outputs": [],
   "source": []
  },
  {
   "cell_type": "code",
   "execution_count": null,
   "metadata": {},
   "outputs": [],
   "source": []
  },
  {
   "cell_type": "code",
   "execution_count": 211,
   "metadata": {},
   "outputs": [
    {
     "name": "stdout",
     "output_type": "stream",
     "text": [
      "Hello Pam!\n"
     ]
    }
   ],
   "source": [
    "# Definition and Usage :\n",
    "\n",
    "'''\n",
    "-> The translate() method returns a string where some specified characters are replaced with the \n",
    "   character described in a dictionary, or in a mapping table.\n",
    "\n",
    "-> Use the maketrans() method to create a mapping table.\n",
    "\n",
    "-> If a character is not specified in the dictionary/table, the character will not be replaced.\n",
    "\n",
    "-> If you use a dictionary, you must use ascii codes instead of characters.\n",
    "\n",
    "'''\n",
    "\n",
    "\n",
    "# Syntax :- string.translate(table)\n",
    "\n",
    "\n",
    "# Parameter Values:\n",
    "\n",
    "'''\n",
    "Parameter       \t   Description\n",
    "table           \t   Required. Either a dictionary, or a mapping table describing how to perform the replace\n",
    "\n",
    "'''\n",
    "\n",
    "\n",
    "\n",
    "# Example :- Use a mapping table to replace \"V\" with \"P\":\n",
    "\n",
    "txt = \"Hello Vam!\"\n",
    "mytable = txt.maketrans(\"V\", \"P\")\n",
    "print(txt.translate(mytable))\n"
   ]
  },
  {
   "cell_type": "code",
   "execution_count": null,
   "metadata": {},
   "outputs": [],
   "source": []
  },
  {
   "cell_type": "code",
   "execution_count": 213,
   "metadata": {},
   "outputs": [
    {
     "name": "stdout",
     "output_type": "stream",
     "text": [
      "Hello peg\n"
     ]
    }
   ],
   "source": [
    "# Example :- Use a mapping table to replace many characters\n",
    "\n",
    "txt = \"Hello Cap\"\n",
    "\n",
    "x = 'paC'\n",
    "\n",
    "y = 'gep'\n",
    "\n",
    "mytable = txt. maketrans(x,y)\n",
    "\n",
    "print(txt.translate(mytable))"
   ]
  },
  {
   "cell_type": "code",
   "execution_count": null,
   "metadata": {},
   "outputs": [],
   "source": []
  },
  {
   "cell_type": "code",
   "execution_count": null,
   "metadata": {},
   "outputs": [],
   "source": []
  },
  {
   "cell_type": "code",
   "execution_count": 214,
   "metadata": {},
   "outputs": [
    {
     "name": "stdout",
     "output_type": "stream",
     "text": [
      "G i Joe!\n"
     ]
    }
   ],
   "source": [
    "# Example :- The third parameter in the mapping table describes characters that you want to remove from the string:\n",
    "\n",
    "txt = \"Good night Vam!\"\n",
    "x = \"mVa\"\n",
    "y = \"eJo\"\n",
    "z = \"odnght\"\n",
    "mytable = txt.maketrans(x, y, z)\n",
    "print(txt.translate(mytable))"
   ]
  },
  {
   "cell_type": "code",
   "execution_count": null,
   "metadata": {},
   "outputs": [],
   "source": []
  },
  {
   "cell_type": "code",
   "execution_count": 215,
   "metadata": {},
   "outputs": [
    {
     "name": "stdout",
     "output_type": "stream",
     "text": [
      "G i Joe!\n"
     ]
    }
   ],
   "source": [
    "# The same example as above, but using a dictionary instead of a mapping table:\n",
    "\n",
    "txt = \"Good night Vam!\"\n",
    "mydict = {109: 101, 86: 74, 97: 111, 111: None, 100: None, 110: None, 103: None, 104: None, 116: None}\n",
    "print(txt.translate(mydict))"
   ]
  },
  {
   "cell_type": "code",
   "execution_count": null,
   "metadata": {},
   "outputs": [],
   "source": []
  },
  {
   "cell_type": "code",
   "execution_count": null,
   "metadata": {},
   "outputs": [],
   "source": []
  },
  {
   "cell_type": "code",
   "execution_count": null,
   "metadata": {},
   "outputs": [],
   "source": []
  },
  {
   "cell_type": "code",
   "execution_count": null,
   "metadata": {},
   "outputs": [],
   "source": []
  },
  {
   "cell_type": "code",
   "execution_count": 217,
   "metadata": {},
   "outputs": [
    {
     "name": "stdout",
     "output_type": "stream",
     "text": [
      "HELLO MY FRIENDS!!!!\n"
     ]
    }
   ],
   "source": [
    "# upper() :- Coverts a string into uppercase()\n",
    "\n",
    "\n",
    "# Definition and Usage:-\n",
    "\n",
    "'''\n",
    " The upper() method returns a string where all characters are in upper case.\n",
    "\n",
    " Symbols and Numbers are ignored.\n",
    "\n",
    "'''\n",
    "\n",
    "# Syntax :- string.upper()\n",
    "\n",
    "\n",
    "# Example :\n",
    "\n",
    "txt = \"Hello My friends!!!!\"\n",
    "\n",
    "print(txt.upper())\n",
    "\n"
   ]
  },
  {
   "cell_type": "code",
   "execution_count": null,
   "metadata": {},
   "outputs": [],
   "source": []
  },
  {
   "cell_type": "code",
   "execution_count": 218,
   "metadata": {},
   "outputs": [
    {
     "name": "stdout",
     "output_type": "stream",
     "text": [
      "277HELLO @MY FRIEND!!!\n"
     ]
    }
   ],
   "source": [
    "# Example :- Symbols and numbers are ignored.\n",
    "\n",
    "txt = \"277Hello @My FriEnd!!!\"\n",
    "\n",
    "print(txt.upper())"
   ]
  },
  {
   "cell_type": "code",
   "execution_count": null,
   "metadata": {},
   "outputs": [],
   "source": []
  },
  {
   "cell_type": "code",
   "execution_count": null,
   "metadata": {},
   "outputs": [],
   "source": []
  },
  {
   "cell_type": "code",
   "execution_count": null,
   "metadata": {},
   "outputs": [],
   "source": []
  },
  {
   "cell_type": "code",
   "execution_count": null,
   "metadata": {},
   "outputs": [],
   "source": []
  },
  {
   "cell_type": "code",
   "execution_count": 226,
   "metadata": {},
   "outputs": [
    {
     "name": "stdout",
     "output_type": "stream",
     "text": [
      "0000000050\n",
      "original string length :  2\n",
      "zfilled string length : 10\n"
     ]
    }
   ],
   "source": [
    "# zfill() :- Fills the string with a specified number of 0 values at the beginning.\n",
    "\n",
    "\n",
    "# Example :- Fill the string with zeros until it is 10 characters long:\n",
    "\n",
    "txt = \"50\"\n",
    "\n",
    "x = txt.zfill(10)\n",
    "\n",
    "print(x)\n",
    "\n",
    "\n",
    "print(\"original string length : \",len(txt))\n",
    "print(\"zfilled string length :\" , len(x))"
   ]
  },
  {
   "cell_type": "code",
   "execution_count": null,
   "metadata": {},
   "outputs": [],
   "source": []
  },
  {
   "cell_type": "code",
   "execution_count": null,
   "metadata": {},
   "outputs": [],
   "source": []
  },
  {
   "cell_type": "code",
   "execution_count": 227,
   "metadata": {},
   "outputs": [
    {
     "name": "stdout",
     "output_type": "stream",
     "text": [
      "00000hello\n",
      "welcome to the jungle\n",
      "000010.000\n"
     ]
    }
   ],
   "source": [
    "# Definition and Usage:- \n",
    "\n",
    "'''\n",
    "The zfill() method adds zeros (0) at the beginning of the string, until it reaches the specified length.\n",
    "\n",
    "If the value of the len parameter is less than the length of the string, no filling is done.\n",
    "\n",
    "'''\n",
    "\n",
    "\n",
    "# Syntax:- string.zfill(len)\n",
    "\n",
    "\n",
    "# Parameter Values:\n",
    "\n",
    "'''\n",
    "Parameter       \t    Description\n",
    "len             \t    Required. A number specifying the desired length of the string\n",
    "\n",
    "'''\n",
    "\n",
    "\n",
    "# Example :- Fill the strings with zeros until they are 10 characters long:\n",
    "\n",
    "a = \"hello\"\n",
    "b = \"welcome to the jungle\"\n",
    "c = \"10.000\"\n",
    "\n",
    "print(a.zfill(10))\n",
    "print(b.zfill(10))\n",
    "print(c.zfill(10))\n"
   ]
  },
  {
   "cell_type": "code",
   "execution_count": null,
   "metadata": {},
   "outputs": [],
   "source": []
  },
  {
   "cell_type": "code",
   "execution_count": null,
   "metadata": {},
   "outputs": [],
   "source": []
  },
  {
   "cell_type": "code",
   "execution_count": null,
   "metadata": {},
   "outputs": [],
   "source": [
    "\"\"\"\n",
    "Note: All string methods returns new values. They do not change the original string.\n",
    "\n",
    "\"\"\""
   ]
  }
 ],
 "metadata": {
  "kernelspec": {
   "display_name": "Python 3",
   "language": "python",
   "name": "python3"
  },
  "language_info": {
   "codemirror_mode": {
    "name": "ipython",
    "version": 3
   },
   "file_extension": ".py",
   "mimetype": "text/x-python",
   "name": "python",
   "nbconvert_exporter": "python",
   "pygments_lexer": "ipython3",
   "version": "3.7.6"
  }
 },
 "nbformat": 4,
 "nbformat_minor": 4
}
