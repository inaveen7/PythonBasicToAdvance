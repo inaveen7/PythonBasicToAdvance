{
 "cells": [
  {
   "cell_type": "code",
   "execution_count": 1,
   "metadata": {},
   "outputs": [
    {
     "name": "stdout",
     "output_type": "stream",
     "text": [
      "Five is grater than two!!\n",
      "Seven is grater than two!!\n"
     ]
    }
   ],
   "source": [
    "#program to understand python indentation\n",
    "\n",
    "'''\n",
    "The number of spaces is upto you as a programmer, but it has to be at least one.\n",
    "'''\n",
    "\n",
    "if 5>2:\n",
    "    print(\"Five is grater than two!!\") #one space\n",
    "if 7>2:\n",
    "      print(\"Seven is grater than two!!\") #Four Spaces\n",
    "\n",
    "\n"
   ]
  },
  {
   "cell_type": "code",
   "execution_count": 2,
   "metadata": {},
   "outputs": [
    {
     "ename": "IndentationError",
     "evalue": "unexpected indent (<ipython-input-2-a0c3a319f45f>, line 8)",
     "output_type": "error",
     "traceback": [
      "\u001b[1;36m  File \u001b[1;32m\"<ipython-input-2-a0c3a319f45f>\"\u001b[1;36m, line \u001b[1;32m8\u001b[0m\n\u001b[1;33m    print(\"Seven is grater than two!!\") #Four Spaces, so execution leads to indentation error\u001b[0m\n\u001b[1;37m    ^\u001b[0m\n\u001b[1;31mIndentationError\u001b[0m\u001b[1;31m:\u001b[0m unexpected indent\n"
     ]
    }
   ],
   "source": [
    "'''\n",
    "You have to use same number of spaces in the same block of code, other wise python will give you an error\n",
    "\n",
    "'''\n",
    "\n",
    "if 5>2:\n",
    "    print(\"Five is grater than two!!\") #one space\n",
    "        print(\"Seven is grater than two!!\") #Four Spaces, so execution leads to indentation error\n",
    "  "
   ]
  },
  {
   "cell_type": "code",
   "execution_count": null,
   "metadata": {},
   "outputs": [],
   "source": []
  }
 ],
 "metadata": {
  "kernelspec": {
   "display_name": "Python 3",
   "language": "python",
   "name": "python3"
  },
  "language_info": {
   "codemirror_mode": {
    "name": "ipython",
    "version": 3
   },
   "file_extension": ".py",
   "mimetype": "text/x-python",
   "name": "python",
   "nbconvert_exporter": "python",
   "pygments_lexer": "ipython3",
   "version": "3.7.6"
  }
 },
 "nbformat": 4,
 "nbformat_minor": 1
}
