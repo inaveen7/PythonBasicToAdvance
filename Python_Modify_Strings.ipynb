{
 "cells": [
  {
   "cell_type": "code",
   "execution_count": 1,
   "metadata": {},
   "outputs": [
    {
     "name": "stdout",
     "output_type": "stream",
     "text": [
      "HELLO, WORLD!\n"
     ]
    }
   ],
   "source": [
    "# Python Modify Strings\n",
    "\n",
    "'''-> Python has lot of built-in method which we can use on strings\n",
    "'''\n",
    "\n",
    "# Upper Case :- The upper() method returns the string in UpperCase\n",
    "\n",
    "a = 'Hello, World!'\n",
    "\n",
    "print(a.upper())"
   ]
  },
  {
   "cell_type": "code",
   "execution_count": null,
   "metadata": {},
   "outputs": [],
   "source": []
  },
  {
   "cell_type": "code",
   "execution_count": 2,
   "metadata": {},
   "outputs": [
    {
     "name": "stdout",
     "output_type": "stream",
     "text": [
      "hello, world!\n"
     ]
    }
   ],
   "source": [
    "# Lower Case:- The lower() method retuns the string in LowerCase\n",
    "\n",
    "a = 'Hello, World!'\n",
    "\n",
    "print(a.lower())"
   ]
  },
  {
   "cell_type": "code",
   "execution_count": null,
   "metadata": {},
   "outputs": [],
   "source": []
  },
  {
   "cell_type": "code",
   "execution_count": 4,
   "metadata": {},
   "outputs": [
    {
     "name": "stdout",
     "output_type": "stream",
     "text": [
      "                  Hello, World!                             \n",
      "Hello, World!\n"
     ]
    }
   ],
   "source": [
    "# Remove WhiteSpace\n",
    "\n",
    "'''-> Whitespaces are the spaces before and/or after the actual text, and very often you want to remove this white space.\n",
    "'''\n",
    "\n",
    "# Example :- The strip() method removes any whitespace from the beginning or the end\n",
    "\n",
    "a = \"                  Hello, World!                             \"\n",
    "print(a)\n",
    "\n",
    "print(a.strip())   # strip() method removed all the white spaces here"
   ]
  },
  {
   "cell_type": "code",
   "execution_count": null,
   "metadata": {},
   "outputs": [],
   "source": []
  },
  {
   "cell_type": "code",
   "execution_count": 5,
   "metadata": {},
   "outputs": [
    {
     "name": "stdout",
     "output_type": "stream",
     "text": [
      "Jello, World!\n"
     ]
    }
   ],
   "source": [
    "# Replace String\n",
    "\n",
    "'''-> The replace() method replaces a string with another string\n",
    "'''\n",
    "\n",
    "a = \"Hello, World!\"\n",
    "\n",
    "print(a.replace('H','J')) # the specified string will be replaced and rest of the string will remain same"
   ]
  },
  {
   "cell_type": "code",
   "execution_count": 11,
   "metadata": {},
   "outputs": [
    {
     "name": "stdout",
     "output_type": "stream",
     "text": [
      "******\n"
     ]
    }
   ],
   "source": [
    "# Replace the '*' in all characters of the given string\n",
    "\n",
    "'''Syntax\n",
    "import re\n",
    "result = re.sub(pattern, repl, string)\n",
    "'''\n",
    "b ='Naveen' \n",
    "\n",
    "import re\n",
    "print(re.sub('\\w', '*' ,b))\n",
    "\n",
    "\n"
   ]
  },
  {
   "cell_type": "code",
   "execution_count": null,
   "metadata": {},
   "outputs": [],
   "source": []
  },
  {
   "cell_type": "code",
   "execution_count": 14,
   "metadata": {},
   "outputs": [
    {
     "name": "stdout",
     "output_type": "stream",
     "text": [
      "Naveen\n",
      "******\n"
     ]
    }
   ],
   "source": [
    "b = \"Naveen\"\n",
    "print(b)\n",
    "\n",
    "b= '*' *len(b)  # Like this also  We can replace all the characters in a string with a single character here, '*'\n",
    "print(b)"
   ]
  },
  {
   "cell_type": "code",
   "execution_count": null,
   "metadata": {},
   "outputs": [],
   "source": []
  },
  {
   "cell_type": "code",
   "execution_count": null,
   "metadata": {},
   "outputs": [],
   "source": []
  },
  {
   "cell_type": "code",
   "execution_count": 16,
   "metadata": {},
   "outputs": [
    {
     "name": "stdout",
     "output_type": "stream",
     "text": [
      "['Hello', ' World!']\n"
     ]
    }
   ],
   "source": [
    "# Split String\n",
    "\n",
    "'''-> The slipt() method returns a list where the text between specified seperator becomes list items\n",
    "\n",
    "    -> The slipt() method slipts the String into Substrings if it finds the instnace of the seperator\n",
    "'''\n",
    "# Example \n",
    "\n",
    "a = \"Hello, World!\"\n",
    "\n",
    "print(a.split(',')) # in the output we will get two substrings in a list as we found the instance of the seperator ','"
   ]
  },
  {
   "cell_type": "code",
   "execution_count": 17,
   "metadata": {},
   "outputs": [
    {
     "name": "stdout",
     "output_type": "stream",
     "text": [
      "['Hello World']\n"
     ]
    }
   ],
   "source": [
    "b = \"Hello World\"\n",
    "print(b.split(',')) # in the output we will get only one strintg in the list as we didn't found the seperator ','"
   ]
  },
  {
   "cell_type": "code",
   "execution_count": null,
   "metadata": {},
   "outputs": [],
   "source": []
  },
  {
   "cell_type": "code",
   "execution_count": 21,
   "metadata": {},
   "outputs": [
    {
     "name": "stdout",
     "output_type": "stream",
     "text": [
      "['Hello', ' World!', 'Welcome']\n"
     ]
    }
   ],
   "source": [
    "b = \"Hello, World!,Welcome\"\n",
    "print(b.split(','))  # We will have 3 substring as we have found instance of the seperator"
   ]
  },
  {
   "cell_type": "code",
   "execution_count": null,
   "metadata": {},
   "outputs": [],
   "source": []
  },
  {
   "cell_type": "code",
   "execution_count": null,
   "metadata": {},
   "outputs": [],
   "source": []
  },
  {
   "cell_type": "code",
   "execution_count": 20,
   "metadata": {},
   "outputs": [
    {
     "name": "stdout",
     "output_type": "stream",
     "text": [
      "['Hello', 'Naveen', 'Welcome']\n"
     ]
    }
   ],
   "source": [
    "string = \"Hello-Naveen-Welcome\"\n",
    "\n",
    "print(string.split('-'))  # We will be having 3 substrings in a list we found the instance of the seperator"
   ]
  },
  {
   "cell_type": "code",
   "execution_count": null,
   "metadata": {},
   "outputs": [],
   "source": [
    "# Learn more about lists in our Python Lists chapter"
   ]
  },
  {
   "cell_type": "code",
   "execution_count": null,
   "metadata": {},
   "outputs": [],
   "source": []
  }
 ],
 "metadata": {
  "kernelspec": {
   "display_name": "Python 3",
   "language": "python",
   "name": "python3"
  },
  "language_info": {
   "codemirror_mode": {
    "name": "ipython",
    "version": 3
   },
   "file_extension": ".py",
   "mimetype": "text/x-python",
   "name": "python",
   "nbconvert_exporter": "python",
   "pygments_lexer": "ipython3",
   "version": "3.7.6"
  }
 },
 "nbformat": 4,
 "nbformat_minor": 4
}
