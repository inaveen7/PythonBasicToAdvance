{
 "cells": [
  {
   "cell_type": "code",
   "execution_count": 1,
   "metadata": {},
   "outputs": [
    {
     "name": "stdout",
     "output_type": "stream",
     "text": [
      "Hello\n",
      "Hello\n"
     ]
    }
   ],
   "source": [
    "# Python Strings:\n",
    "\n",
    "'''\n",
    "Strings in python are surrounded by either 'single quote marks' or \"double quores marks\"\n",
    "\n",
    "-> 'Hello'  is same as \"Hello\"\n",
    "\n",
    "-> You can display the string literal with print function.\n",
    "\n",
    "'''\n",
    "# Example\n",
    "\n",
    "print('Hello')         # string defined in single quotes\n",
    "print(\"Hello\")         # string defined in double quotes"
   ]
  },
  {
   "cell_type": "code",
   "execution_count": null,
   "metadata": {},
   "outputs": [],
   "source": []
  },
  {
   "cell_type": "code",
   "execution_count": 2,
   "metadata": {},
   "outputs": [
    {
     "name": "stdout",
     "output_type": "stream",
     "text": [
      "hello\n"
     ]
    }
   ],
   "source": [
    "# Assign String to a Variable\n",
    "\n",
    "'''\n",
    "-> Assign string to a variable is done with a variable followed by an equal sign and a string \n",
    "\n",
    "'''\n",
    "# Example \n",
    "\n",
    "a= \"hello\"\n",
    "print(a)"
   ]
  },
  {
   "cell_type": "code",
   "execution_count": null,
   "metadata": {},
   "outputs": [],
   "source": []
  },
  {
   "cell_type": "code",
   "execution_count": 10,
   "metadata": {},
   "outputs": [
    {
     "name": "stdout",
     "output_type": "stream",
     "text": [
      " \n",
      "    The Hardest choices\n",
      "    Requies the \n",
      "    Strongest Wills \n",
      "\n"
     ]
    }
   ],
   "source": [
    "# Multiline String \n",
    "\n",
    "'''\n",
    "-> You can assign a multi-line string to a variable by using triple quotes (a string inside three quotes).\n",
    "\n",
    "'''\n",
    "# Example\n",
    "\n",
    "a = \"\"\" \n",
    "    The Hardest choices\n",
    "    Requies the \n",
    "    Strongest Wills \n",
    "\"\"\"\n",
    "\n",
    "\n",
    "print(a)\n",
    "   "
   ]
  },
  {
   "cell_type": "code",
   "execution_count": 11,
   "metadata": {},
   "outputs": [],
   "source": [
    "''' NOTE :- In the Result the line breaks are inserted at the same position in the code.'''"
   ]
  },
  {
   "cell_type": "code",
   "execution_count": 12,
   "metadata": {},
   "outputs": [
    {
     "name": "stdout",
     "output_type": "stream",
     "text": [
      " \n",
      "   The Hardest choices\n",
      "                   Requires the\n",
      "   Strongest Wills\n",
      "\n"
     ]
    }
   ],
   "source": [
    " # Or Three Single Quotes\n",
    "    \n",
    "    \n",
    "# Example    \n",
    "\n",
    "\n",
    "a= ''' \n",
    "    The Hardest choices\n",
    "                    Requires the\n",
    "    Strongest Wills\n",
    "'''\n",
    "\n",
    "print(a)"
   ]
  },
  {
   "cell_type": "code",
   "execution_count": null,
   "metadata": {},
   "outputs": [],
   "source": []
  },
  {
   "cell_type": "code",
   "execution_count": null,
   "metadata": {},
   "outputs": [],
   "source": []
  },
  {
   "cell_type": "code",
   "execution_count": 4,
   "metadata": {},
   "outputs": [
    {
     "name": "stdout",
     "output_type": "stream",
     "text": [
      "e\n"
     ]
    }
   ],
   "source": [
    "# Strings are Arrays\n",
    "\n",
    "'''\n",
    "-> Like many other programming languages, in python Strings are array of bytes representing unicode characters.\n",
    "\n",
    "-> However, python does not have a characeter data type, a single character means simply a string of length '1'\n",
    "\n",
    "-> Square [] brackets are used to access the elemets of a string.\n",
    "\n",
    "'''\n",
    "# Example\n",
    "'''-> get the character at the position 1 '''\n",
    "    \n",
    "a = \"Hello , World\"\n",
    "\n",
    "print(a[1])   # remember the indexing in string starts with '0' as the strings in python are arrays,\n",
    "                  # so, 'e' will be printed as its is stored in the first index.\n",
    "        \n",
    "        "
   ]
  },
  {
   "cell_type": "code",
   "execution_count": null,
   "metadata": {},
   "outputs": [],
   "source": []
  },
  {
   "cell_type": "code",
   "execution_count": null,
   "metadata": {},
   "outputs": [],
   "source": []
  },
  {
   "cell_type": "code",
   "execution_count": 7,
   "metadata": {},
   "outputs": [
    {
     "name": "stdout",
     "output_type": "stream",
     "text": [
      "b\n",
      "a\n",
      "n\n",
      "a\n",
      "n\n",
      "a\n"
     ]
    }
   ],
   "source": [
    "# Looping through a String \n",
    "'''\n",
    "-> Since strings are arrays, we can loop through the characters in a string, with a for loop\n",
    "\n",
    "'''\n",
    "# Example \n",
    "'''-> Loop through the letters in the world \"banana\" '''\n",
    "\n",
    "for c in \"banana\":\n",
    "    print(c)"
   ]
  },
  {
   "cell_type": "code",
   "execution_count": null,
   "metadata": {},
   "outputs": [],
   "source": []
  },
  {
   "cell_type": "code",
   "execution_count": 8,
   "metadata": {},
   "outputs": [
    {
     "name": "stdout",
     "output_type": "stream",
     "text": [
      "13\n"
     ]
    }
   ],
   "source": [
    "# String lenght\n",
    "'''\n",
    "-> To get the length of a string, use len() function \n",
    "\n",
    "'''\n",
    "# Example :- The length function return the length of a strings\n",
    "\n",
    "a = \"Hello, World!\"\n",
    "\n",
    "print(len(a)) # 0-12 = 13"
   ]
  },
  {
   "cell_type": "code",
   "execution_count": null,
   "metadata": {},
   "outputs": [],
   "source": []
  },
  {
   "cell_type": "code",
   "execution_count": 10,
   "metadata": {},
   "outputs": [
    {
     "name": "stdout",
     "output_type": "stream",
     "text": [
      "True\n",
      "True\n"
     ]
    }
   ],
   "source": [
    "# Check String \n",
    "'''\n",
    "-> To check if the certain phrase of characrters are present in a string, we use the keyword 'in'\n",
    "'''\n",
    "\n",
    "# Example :- check if 'free' is present in the following string \n",
    "\n",
    "text = \"the best things in life are free\"\n",
    "\n",
    "print('free' in text)\n",
    "\n",
    "        #or \n",
    "    \n",
    "print(\"free\" in text)    "
   ]
  },
  {
   "cell_type": "code",
   "execution_count": 12,
   "metadata": {},
   "outputs": [
    {
     "name": "stdout",
     "output_type": "stream",
     "text": [
      "Yes, free is present in the text\n"
     ]
    }
   ],
   "source": [
    "# use it in a if statement\n",
    "\n",
    "text = 'the best things in life are free'\n",
    "\n",
    "if 'free' in text :\n",
    "    print(\"Yes, free is present in the text\")"
   ]
  },
  {
   "cell_type": "code",
   "execution_count": null,
   "metadata": {},
   "outputs": [],
   "source": []
  },
  {
   "cell_type": "code",
   "execution_count": 14,
   "metadata": {},
   "outputs": [
    {
     "name": "stdout",
     "output_type": "stream",
     "text": [
      "True\n"
     ]
    }
   ],
   "source": [
    "#check if NOT\n",
    "\n",
    "'''-> To check if certain phrase of characters are NOT present in a string, we use the keyword 'not in'\n",
    "'''\n",
    "# Example :- check if the word 'expensive' is not present in the following string\n",
    "\n",
    "text = \"the best things in life are free\"\n",
    "\n",
    "print('expensive' not in text)  # As we don't have expensive in text, True will be printed"
   ]
  },
  {
   "cell_type": "code",
   "execution_count": 17,
   "metadata": {},
   "outputs": [
    {
     "name": "stdout",
     "output_type": "stream",
     "text": [
      "Yes, expensive is not in present in text\n"
     ]
    }
   ],
   "source": [
    "# Use it in an if :- print only if expensive is not present\n",
    "text = \"the best things in life are free\"\n",
    "\n",
    "if 'expensive' not in text:\n",
    "    print(\"Yes, expensive is not in present in text\")"
   ]
  },
  {
   "cell_type": "code",
   "execution_count": null,
   "metadata": {},
   "outputs": [],
   "source": []
  },
  {
   "cell_type": "code",
   "execution_count": null,
   "metadata": {},
   "outputs": [],
   "source": []
  },
  {
   "cell_type": "code",
   "execution_count": null,
   "metadata": {},
   "outputs": [],
   "source": []
  },
  {
   "cell_type": "code",
   "execution_count": null,
   "metadata": {},
   "outputs": [],
   "source": []
  },
  {
   "cell_type": "code",
   "execution_count": null,
   "metadata": {},
   "outputs": [],
   "source": []
  }
 ],
 "metadata": {
  "kernelspec": {
   "display_name": "Python 3",
   "language": "python",
   "name": "python3"
  },
  "language_info": {
   "codemirror_mode": {
    "name": "ipython",
    "version": 3
   },
   "file_extension": ".py",
   "mimetype": "text/x-python",
   "name": "python",
   "nbconvert_exporter": "python",
   "pygments_lexer": "ipython3",
   "version": "3.7.6"
  }
 },
 "nbformat": 4,
 "nbformat_minor": 4
}
