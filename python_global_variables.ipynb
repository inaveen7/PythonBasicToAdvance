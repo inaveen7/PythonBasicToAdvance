{
 "cells": [
  {
   "cell_type": "code",
   "execution_count": 2,
   "metadata": {},
   "outputs": [
    {
     "name": "stdout",
     "output_type": "stream",
     "text": [
      "Python is Awesome\n"
     ]
    }
   ],
   "source": [
    "#Python Global variables\n",
    "\n",
    "'''\n",
    "-> Variables that are created out side of a function are known as Global variables\n",
    "\n",
    "-:> Global variables can be accessed by by everyone, both inside of a fuction and out side.\n",
    "'''\n",
    "\n",
    "#Example\n",
    "\n",
    "'''\n",
    "-> Create a variable out side of a function and use it inside.\n",
    "'''\n",
    "\n",
    "x='Awesome'\n",
    "def myfunc():\n",
    "    print(\"Python is \"+x)\n",
    "myfunc()\n"
   ]
  },
  {
   "cell_type": "code",
   "execution_count": 6,
   "metadata": {},
   "outputs": [
    {
     "name": "stdout",
     "output_type": "stream",
     "text": [
      "Local variable, inside function : Python is Fantastic\n",
      "\n",
      "Global variable, out side of a function : python is Awesome\n"
     ]
    }
   ],
   "source": [
    "'''\n",
    "--> If you create a variable with the same name inside the fuction,\n",
    "    this variable will be local and can only be accessed inside the fuction.\n",
    "    \n",
    "    The Global variable with same name will remains the same as it was, global and with the same original value.\n",
    "'''\n",
    "\n",
    "#Example\n",
    "\n",
    "x ='Awesome'      # Global variable, out side of a function.\n",
    "def myfunc():\n",
    "    \n",
    "    x = 'Fantastic'\n",
    "    \n",
    "    print(\"Local variable, inside function : \" + \"Python is \" + x)    # local variable will be printed as we are printing inside the function.\n",
    "myfunc()\n",
    "\n",
    "print()                       # printing new line space.\n",
    "\n",
    "print(\"Global variable, out side of a function : \" + \"python is \" + x)       # Global variable will be printed as we are printing out side of a function."
   ]
  },
  {
   "cell_type": "code",
   "execution_count": null,
   "metadata": {},
   "outputs": [],
   "source": []
  }
 ],
 "metadata": {
  "kernelspec": {
   "display_name": "Python 3",
   "language": "python",
   "name": "python3"
  },
  "language_info": {
   "codemirror_mode": {
    "name": "ipython",
    "version": 3
   },
   "file_extension": ".py",
   "mimetype": "text/x-python",
   "name": "python",
   "nbconvert_exporter": "python",
   "pygments_lexer": "ipython3",
   "version": "3.7.6"
  }
 },
 "nbformat": 4,
 "nbformat_minor": 4
}
