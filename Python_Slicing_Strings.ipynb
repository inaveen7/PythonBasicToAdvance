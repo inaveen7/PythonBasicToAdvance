{
 "cells": [
  {
   "cell_type": "code",
   "execution_count": 3,
   "metadata": {},
   "outputs": [
    {
     "name": "stdout",
     "output_type": "stream",
     "text": [
      "llo\n"
     ]
    }
   ],
   "source": [
    "# Python - Slicing Strings\n",
    "'''-> You can return a specific range of characters in a string by using 'slicing syntax'\n",
    "   \n",
    "   -> Specify the 'start' index and 'end' index seperated by a colon to return the specific part of a string. \n",
    "   \n",
    "'''\n",
    "# Example :- get the character from position from index 2 to position 5 (not included)\n",
    "\n",
    "b = \"Hello, World!\"\n",
    "\n",
    "b= b [2 : 5]   # slicing a string and getting the characters for the indexes specified (here, 2 to 5)\n",
    "\n",
    "print(b)      # 2 to 5 means starting from index 2 and upto 5, but not including 5 . This we call exclusiveness in python\n"
   ]
  },
  {
   "cell_type": "code",
   "execution_count": null,
   "metadata": {},
   "outputs": [],
   "source": [
    "# Note :- The first character's index will always be '0'"
   ]
  },
  {
   "cell_type": "code",
   "execution_count": null,
   "metadata": {},
   "outputs": [],
   "source": []
  },
  {
   "cell_type": "code",
   "execution_count": 4,
   "metadata": {},
   "outputs": [
    {
     "name": "stdout",
     "output_type": "stream",
     "text": [
      "Hello\n"
     ]
    }
   ],
   "source": [
    "# Slice from start\n",
    "'''\n",
    "    By leaving out the start index the range will start at the first character\n",
    "'''\n",
    "\n",
    "# Example :- Get the characters from start to position 5 (not include)\n",
    "\n",
    "b = \"Hello, World!\"\n",
    "\n",
    "print(b[:5])   # here, we are not specifying the start index so python will start the index from 0 and go upto 5, \n",
    "               # but not include 5 [this we call exclusive of 5]\n",
    "    \n"
   ]
  },
  {
   "cell_type": "code",
   "execution_count": null,
   "metadata": {},
   "outputs": [],
   "source": []
  },
  {
   "cell_type": "code",
   "execution_count": 5,
   "metadata": {},
   "outputs": [
    {
     "name": "stdout",
     "output_type": "stream",
     "text": [
      "llo, World!\n"
     ]
    }
   ],
   "source": [
    "#Slice to the End\n",
    "'''\n",
    "    By leaving out the End index, the range will go to end.\n",
    "'''\n",
    "\n",
    "# Example :- Get the character from position 2, and all the to the end.\n",
    "\n",
    "b = \"Hello, World!\"\n",
    "\n",
    "print(b[2:])   # here, we are not specifying the end index. So python will start ranging \n",
    "               # from the index 2 and go all the way to the end.\n",
    "    \n",
    "    "
   ]
  },
  {
   "cell_type": "code",
   "execution_count": null,
   "metadata": {},
   "outputs": [],
   "source": []
  },
  {
   "cell_type": "code",
   "execution_count": 14,
   "metadata": {},
   "outputs": [
    {
     "name": "stdout",
     "output_type": "stream",
     "text": [
      "Hlo ol!\n"
     ]
    }
   ],
   "source": [
    "# Slicing by stepping\n",
    "\n",
    "'''\n",
    "    We can get the alternate characters by this\n",
    "    \n",
    "    Syntax :- [start : end : step]\n",
    "'''\n",
    "b = \"Hello, World!\"\n",
    "\n",
    "print(b[0 : :2])      # [start : end : step]\n",
    "                      # Here, srart index we are specifying as 2 and end index we are leaving. \n",
    "                      #Python takes the range all the way to end and increse the indexing value by 2 as we have specified\n",
    "                      # the step size\n",
    "                      # step size 2 means every 2nd characte will be printed by stepping to the specidied size '2'"
   ]
  },
  {
   "cell_type": "code",
   "execution_count": 15,
   "metadata": {},
   "outputs": [
    {
     "name": "stdout",
     "output_type": "stream",
     "text": [
      "Hello, World!\n"
     ]
    }
   ],
   "source": [
    "# if we put step as 1 then each and every character will be printed as we are spetting to everry character by size '1'\n",
    "\n",
    "b = \"Hello, World!\"\n",
    "\n",
    "print(b[0 : :1])"
   ]
  },
  {
   "cell_type": "code",
   "execution_count": null,
   "metadata": {},
   "outputs": [],
   "source": []
  },
  {
   "cell_type": "code",
   "execution_count": 17,
   "metadata": {},
   "outputs": [
    {
     "name": "stdout",
     "output_type": "stream",
     "text": [
      "Hl r!\n"
     ]
    }
   ],
   "source": [
    "# if we put step as 3 then each and every 3rd character will be printed \n",
    "# as we are spetting to every 3rd character with size '3'\n",
    "\n",
    "b = \"Hello, World!\"\n",
    "\n",
    "print(b[0 : :3])"
   ]
  },
  {
   "cell_type": "code",
   "execution_count": null,
   "metadata": {},
   "outputs": [],
   "source": []
  },
  {
   "cell_type": "code",
   "execution_count": null,
   "metadata": {},
   "outputs": [],
   "source": []
  },
  {
   "cell_type": "code",
   "execution_count": null,
   "metadata": {},
   "outputs": [],
   "source": []
  },
  {
   "cell_type": "code",
   "execution_count": 18,
   "metadata": {},
   "outputs": [
    {
     "name": "stdout",
     "output_type": "stream",
     "text": [
      "orl\n"
     ]
    }
   ],
   "source": [
    "# Negative Indexing \n",
    "'''-> use the negative indexes to start the slice from the end of the string \n",
    "'''\n",
    "\n",
    "# Example :- Get the characters from 'O' in \"world!\" (position -5) to, butn ot include 'd' in \"World!\" (position -2)\n",
    "\n",
    "b = \"Hello, World!\"\n",
    "\n",
    "print(b[-5 : -2])  # this range starts from reverse index -5 and go upto -2, but not includes ''-2'"
   ]
  },
  {
   "cell_type": "code",
   "execution_count": 24,
   "metadata": {},
   "outputs": [
    {
     "name": "stdout",
     "output_type": "stream",
     "text": [
      "d!\n"
     ]
    }
   ],
   "source": [
    "b = \"Hello, World!\"\n",
    "print(b[ -2 : ]) # starts from index -2 and go upto index -5, but not include ''-5'"
   ]
  },
  {
   "cell_type": "code",
   "execution_count": 25,
   "metadata": {},
   "outputs": [
    {
     "name": "stdout",
     "output_type": "stream",
     "text": [
      "Hello, Worl\n"
     ]
    }
   ],
   "source": [
    "b = \"Hello, World!\"\n",
    "print(b[ : -2 ]) # "
   ]
  },
  {
   "cell_type": "code",
   "execution_count": 26,
   "metadata": {},
   "outputs": [
    {
     "name": "stdout",
     "output_type": "stream",
     "text": [
      "Hello, Worl\n"
     ]
    }
   ],
   "source": [
    "print(b [-13:-2]) # though the negative index starts from the end of the string, \n",
    "                  # but the string will be printed from Left to Right only"
   ]
  },
  {
   "cell_type": "code",
   "execution_count": 27,
   "metadata": {},
   "outputs": [
    {
     "name": "stdout",
     "output_type": "stream",
     "text": [
      "\n"
     ]
    }
   ],
   "source": [
    "print(b[-2:-13]) # Here, we are trying to print from right to left. So it's working "
   ]
  },
  {
   "cell_type": "code",
   "execution_count": null,
   "metadata": {},
   "outputs": [],
   "source": []
  },
  {
   "cell_type": "code",
   "execution_count": null,
   "metadata": {},
   "outputs": [],
   "source": []
  },
  {
   "cell_type": "code",
   "execution_count": null,
   "metadata": {},
   "outputs": [],
   "source": []
  },
  {
   "cell_type": "code",
   "execution_count": null,
   "metadata": {},
   "outputs": [],
   "source": []
  },
  {
   "cell_type": "code",
   "execution_count": null,
   "metadata": {},
   "outputs": [],
   "source": []
  },
  {
   "cell_type": "code",
   "execution_count": null,
   "metadata": {},
   "outputs": [],
   "source": []
  },
  {
   "cell_type": "code",
   "execution_count": null,
   "metadata": {},
   "outputs": [],
   "source": []
  }
 ],
 "metadata": {
  "kernelspec": {
   "display_name": "Python 3",
   "language": "python",
   "name": "python3"
  },
  "language_info": {
   "codemirror_mode": {
    "name": "ipython",
    "version": 3
   },
   "file_extension": ".py",
   "mimetype": "text/x-python",
   "name": "python",
   "nbconvert_exporter": "python",
   "pygments_lexer": "ipython3",
   "version": "3.7.6"
  }
 },
 "nbformat": 4,
 "nbformat_minor": 4
}
