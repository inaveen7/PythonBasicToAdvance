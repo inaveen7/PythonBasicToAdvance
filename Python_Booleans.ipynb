{
 "cells": [
  {
   "cell_type": "code",
   "execution_count": 1,
   "metadata": {},
   "outputs": [
    {
     "name": "stdout",
     "output_type": "stream",
     "text": [
      "True\n",
      "False\n",
      "False\n"
     ]
    }
   ],
   "source": [
    "# Python Booleans\n",
    "\n",
    "'''\n",
    "-> Booleans represent one of two values: True or False.\n",
    "\n",
    "-> In programming you often need to know if an expression is True or False.\n",
    "\n",
    "-> You can evaluate any expression in python, and get one of two answers, True or False.\n",
    "\n",
    "-> When you compare two values , the expression is evaluated and python returns the Boolean answer:\n",
    "'''\n",
    "\n",
    "# Example:-\n",
    "\n",
    "print(10 > 9)\n",
    "print(10 == 9)\n",
    "print(10<9)"
   ]
  },
  {
   "cell_type": "code",
   "execution_count": null,
   "metadata": {},
   "outputs": [],
   "source": []
  },
  {
   "cell_type": "code",
   "execution_count": 3,
   "metadata": {},
   "outputs": [
    {
     "name": "stdout",
     "output_type": "stream",
     "text": [
      "a is grater than b\n"
     ]
    }
   ],
   "source": [
    "# When you run a condition in an if statement, Python returns 'True' or 'False'\n",
    "\n",
    "\n",
    "# Example :- Print a message based on whether the condition is 'True' or 'False':\n",
    "\n",
    "a = 200\n",
    "b = 37\n",
    "\n",
    "if b>a :\n",
    "    print(\"b is grater than a\")\n",
    "if a >b:\n",
    "    print(\"a is grater than b\")\n"
   ]
  },
  {
   "cell_type": "code",
   "execution_count": null,
   "metadata": {},
   "outputs": [],
   "source": []
  },
  {
   "cell_type": "code",
   "execution_count": null,
   "metadata": {},
   "outputs": [],
   "source": []
  },
  {
   "cell_type": "code",
   "execution_count": null,
   "metadata": {},
   "outputs": [],
   "source": []
  },
  {
   "cell_type": "code",
   "execution_count": 4,
   "metadata": {},
   "outputs": [
    {
     "name": "stdout",
     "output_type": "stream",
     "text": [
      "True\n",
      "True\n"
     ]
    }
   ],
   "source": [
    "# Evaluate Values and Variables\n",
    "\n",
    "'''\n",
    " -> The bool function allows you to evaluate any value, and give you 'True' or 'False', in return.\n",
    "'''\n",
    "\n",
    "# Example:- Evaluate a string and a number\n",
    "\n",
    "print(bool(\"Hello\"))\n",
    "print(bool(5))"
   ]
  },
  {
   "cell_type": "code",
   "execution_count": null,
   "metadata": {},
   "outputs": [],
   "source": []
  },
  {
   "cell_type": "code",
   "execution_count": 5,
   "metadata": {},
   "outputs": [
    {
     "name": "stdout",
     "output_type": "stream",
     "text": [
      "True\n",
      "True\n"
     ]
    }
   ],
   "source": [
    "# Evaluate two variables\n",
    "\n",
    "x = \"hello\"\n",
    "y = 15\n",
    "\n",
    "print(bool(x))\n",
    "print(bool(y))"
   ]
  },
  {
   "cell_type": "code",
   "execution_count": null,
   "metadata": {},
   "outputs": [],
   "source": []
  },
  {
   "cell_type": "code",
   "execution_count": null,
   "metadata": {},
   "outputs": [],
   "source": []
  },
  {
   "cell_type": "code",
   "execution_count": null,
   "metadata": {},
   "outputs": [],
   "source": []
  },
  {
   "cell_type": "code",
   "execution_count": null,
   "metadata": {},
   "outputs": [],
   "source": [
    "# Most Values are True:-\n",
    "\n",
    "'''\n",
    " -> Almost any value is evaluated to 'True' if it has some sort of content.\n",
    " \n",
    " -> Any String is 'True', except empty strings.\n",
    " \n",
    " -> Any Number is 'True', except 0.\n",
    " \n",
    " -> Any list, tuple, set and dictionary are 'True', except empty ones.\n",
    " \n",
    "'''"
   ]
  },
  {
   "cell_type": "code",
   "execution_count": 7,
   "metadata": {},
   "outputs": [
    {
     "name": "stdout",
     "output_type": "stream",
     "text": [
      "True\n",
      "True\n",
      "True\n"
     ]
    }
   ],
   "source": [
    "# The following will return true.\n",
    "\n",
    "print(bool(\"Hello\"))\n",
    "print(bool(15))\n",
    "print(bool(['apple', 'Mango','Banana']))"
   ]
  },
  {
   "cell_type": "code",
   "execution_count": null,
   "metadata": {},
   "outputs": [],
   "source": []
  },
  {
   "cell_type": "code",
   "execution_count": null,
   "metadata": {},
   "outputs": [],
   "source": []
  },
  {
   "cell_type": "code",
   "execution_count": null,
   "metadata": {},
   "outputs": [],
   "source": []
  },
  {
   "cell_type": "code",
   "execution_count": 11,
   "metadata": {},
   "outputs": [
    {
     "name": "stdout",
     "output_type": "stream",
     "text": [
      "False\n",
      "False\n",
      "False\n",
      "False\n",
      "False\n",
      "False\n",
      "False\n"
     ]
    }
   ],
   "source": [
    "# Some Values are False:\n",
    "\n",
    "'''\n",
    "In fact, there are not many values that evaluate to False, except empty values, such as (), [], {}, \"\",\n",
    "the number 0, and the value None. And of course the value False evaluates to False.\n",
    "\n",
    "'''\n",
    "\n",
    "# Example :- The following will return False.\n",
    "\n",
    "print(bool(False))\n",
    "print(bool(0))\n",
    "print(bool(None))\n",
    "print(bool(\"\"))\n",
    "print(bool([]))\n",
    "print(bool(()))\n",
    "print(bool({}))\n",
    "\n"
   ]
  },
  {
   "cell_type": "code",
   "execution_count": null,
   "metadata": {},
   "outputs": [],
   "source": []
  },
  {
   "cell_type": "code",
   "execution_count": null,
   "metadata": {},
   "outputs": [],
   "source": []
  },
  {
   "cell_type": "code",
   "execution_count": 12,
   "metadata": {},
   "outputs": [
    {
     "name": "stdout",
     "output_type": "stream",
     "text": [
      "False\n"
     ]
    }
   ],
   "source": [
    "'''\n",
    "One more value, or object in this case, evaluates to False, and that is if you have an object that is made from \n",
    "a class with a __len__ function that returns 0 or False:\n",
    "\n",
    "'''\n",
    "\n",
    "# Example:-\n",
    "\n",
    "class myclass():\n",
    "    def __len__(self):\n",
    "        return 0\n",
    "    \n",
    "    \n",
    "    \n",
    "myobj = myclass()\n",
    "print(bool(myobj))\n",
    "\n"
   ]
  },
  {
   "cell_type": "code",
   "execution_count": null,
   "metadata": {},
   "outputs": [],
   "source": []
  },
  {
   "cell_type": "code",
   "execution_count": null,
   "metadata": {},
   "outputs": [],
   "source": []
  },
  {
   "cell_type": "code",
   "execution_count": null,
   "metadata": {},
   "outputs": [],
   "source": []
  },
  {
   "cell_type": "code",
   "execution_count": 14,
   "metadata": {},
   "outputs": [
    {
     "name": "stdout",
     "output_type": "stream",
     "text": [
      "True\n"
     ]
    }
   ],
   "source": [
    "# Functions can Return a Boolean:- You can create a function that creates a Boolean value.\n",
    "\n",
    "# Example:- Print the Answer of a funtion\n",
    "\n",
    "def myFunction():\n",
    "    return True\n",
    "\n",
    "print(myFunction())"
   ]
  },
  {
   "cell_type": "code",
   "execution_count": null,
   "metadata": {},
   "outputs": [],
   "source": []
  },
  {
   "cell_type": "code",
   "execution_count": null,
   "metadata": {},
   "outputs": [],
   "source": []
  },
  {
   "cell_type": "code",
   "execution_count": 15,
   "metadata": {},
   "outputs": [
    {
     "name": "stdout",
     "output_type": "stream",
     "text": [
      "YES\n"
     ]
    }
   ],
   "source": [
    "# You can Execute the code based on the Boolean answer of a function:\n",
    "\n",
    "# Example :- Print \"YES\" if the function returns True, otherwise print \"NO!\"\n",
    "\n",
    "def myFunction():\n",
    "    \n",
    "    return True\n",
    "\n",
    "if myFunction():\n",
    "    \n",
    "    print(\"YES\")\n",
    "    \n",
    "else:\n",
    "    print(\"NO!\")\n",
    "\n"
   ]
  },
  {
   "cell_type": "code",
   "execution_count": null,
   "metadata": {},
   "outputs": [],
   "source": []
  },
  {
   "cell_type": "code",
   "execution_count": null,
   "metadata": {},
   "outputs": [],
   "source": []
  },
  {
   "cell_type": "code",
   "execution_count": 19,
   "metadata": {},
   "outputs": [
    {
     "name": "stdout",
     "output_type": "stream",
     "text": [
      "True\n"
     ]
    }
   ],
   "source": [
    "'''\n",
    "Python also has many built-in functions that return a boolean value, like the isinstance() function, \n",
    "which can be used to determine if an object is of a certain data type:\n",
    "\n",
    "'''\n",
    "\n",
    "# Example:-\n",
    "\n",
    "x = 200\n",
    "print(isinstance(x, int))"
   ]
  },
  {
   "cell_type": "code",
   "execution_count": null,
   "metadata": {},
   "outputs": [],
   "source": []
  },
  {
   "cell_type": "code",
   "execution_count": null,
   "metadata": {},
   "outputs": [],
   "source": []
  },
  {
   "cell_type": "code",
   "execution_count": null,
   "metadata": {},
   "outputs": [],
   "source": []
  },
  {
   "cell_type": "code",
   "execution_count": null,
   "metadata": {},
   "outputs": [],
   "source": []
  },
  {
   "cell_type": "code",
   "execution_count": null,
   "metadata": {},
   "outputs": [],
   "source": []
  }
 ],
 "metadata": {
  "kernelspec": {
   "display_name": "Python 3",
   "language": "python",
   "name": "python3"
  },
  "language_info": {
   "codemirror_mode": {
    "name": "ipython",
    "version": 3
   },
   "file_extension": ".py",
   "mimetype": "text/x-python",
   "name": "python",
   "nbconvert_exporter": "python",
   "pygments_lexer": "ipython3",
   "version": "3.7.6"
  }
 },
 "nbformat": 4,
 "nbformat_minor": 4
}
