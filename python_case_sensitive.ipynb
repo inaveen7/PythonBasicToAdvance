{
 "cells": [
  {
   "cell_type": "code",
   "execution_count": 1,
   "metadata": {},
   "outputs": [
    {
     "name": "stdout",
     "output_type": "stream",
     "text": [
      "4\n",
      "Stark\n"
     ]
    }
   ],
   "source": [
    "'''\n",
    "In python, Variable names are case sensitive\n",
    "'''\n",
    "#below program creates two variables\n",
    "a=4\n",
    "A='Stark'\n",
    "\n",
    "#Displaying values\n",
    "print(a)\n",
    "print(A)   # 'A' will not override 'a'"
   ]
  },
  {
   "cell_type": "code",
   "execution_count": 2,
   "metadata": {},
   "outputs": [
    {
     "name": "stdout",
     "output_type": "stream",
     "text": [
      " Steve Steve\n"
     ]
    }
   ],
   "source": [
    "'''\n",
    "variables can have short names (x and y ) \n",
    "\n",
    "          or\n",
    "          \n",
    "variables can have more descriptive names (age, name, carname, total_volume)\n",
    "'''\n",
    "\n",
    "'''\n",
    "Rules for python vaiables:\n",
    "--------------------------\n",
    "\n",
    "1. A variable name must start with a letter or an underscore\n",
    "\n",
    "2. A variable name cannot start with a number \n",
    "\n",
    "3. A variable name can only contains Alpha-numeric characters and underscrores [a-z 0-9 A-Z _]\n",
    "\n",
    "4. variable names are case sensative in python\n",
    "\n",
    "For example,\n",
    "\n",
    "[age, Age and AGE are three different variables]\n",
    "'''\n",
    "    \n",
    "    \n",
    "'''\n",
    "Legal variables:\n",
    "-----------------\n",
    "'''\n",
    "myvar       ='Steve'\n",
    "my_var      ='Steve'\n",
    "_my_var     ='Steve'\n",
    "myVar       ='Steve'\n",
    "MYVAR       ='Steve'\n",
    "myvar2      ='Steve'\n",
    "\n",
    "print(\" {} {}\".format(myvar, my_var))\n",
    "#print('First line \\n Second line') \n",
    "\n",
    "\n"
   ]
  },
  {
   "cell_type": "code",
   "execution_count": 3,
   "metadata": {},
   "outputs": [
    {
     "ename": "SyntaxError",
     "evalue": "invalid syntax (<ipython-input-3-e3083a54b8c1>, line 4)",
     "output_type": "error",
     "traceback": [
      "\u001b[1;36m  File \u001b[1;32m\"<ipython-input-3-e3083a54b8c1>\"\u001b[1;36m, line \u001b[1;32m4\u001b[0m\n\u001b[1;33m    2myvar\u001b[0m\n\u001b[1;37m         ^\u001b[0m\n\u001b[1;31mSyntaxError\u001b[0m\u001b[1;31m:\u001b[0m invalid syntax\n"
     ]
    }
   ],
   "source": [
    "'''\n",
    "illegal variables\n",
    "'''\n",
    "2myvar\n",
    "my-var\n",
    "my var"
   ]
  },
  {
   "cell_type": "code",
   "execution_count": 4,
   "metadata": {},
   "outputs": [
    {
     "ename": "NameError",
     "evalue": "name 'my' is not defined",
     "output_type": "error",
     "traceback": [
      "\u001b[1;31m---------------------------------------------------------------------------\u001b[0m",
      "\u001b[1;31mNameError\u001b[0m                                 Traceback (most recent call last)",
      "\u001b[1;32m<ipython-input-4-ee82282c8dc1>\u001b[0m in \u001b[0;36m<module>\u001b[1;34m\u001b[0m\n\u001b[0;32m      2\u001b[0m \u001b[0millegal\u001b[0m \u001b[0mvariables\u001b[0m\u001b[1;33m\u001b[0m\u001b[1;33m\u001b[0m\u001b[0m\n\u001b[0;32m      3\u001b[0m '''\n\u001b[1;32m----> 4\u001b[1;33m \u001b[0mmy\u001b[0m\u001b[1;33m-\u001b[0m\u001b[0mvar\u001b[0m\u001b[1;33m\u001b[0m\u001b[1;33m\u001b[0m\u001b[0m\n\u001b[0m",
      "\u001b[1;31mNameError\u001b[0m: name 'my' is not defined"
     ]
    }
   ],
   "source": [
    "'''\n",
    "illegal variables\n",
    "'''\n",
    "my-var"
   ]
  },
  {
   "cell_type": "code",
   "execution_count": null,
   "metadata": {},
   "outputs": [],
   "source": []
  },
  {
   "cell_type": "code",
   "execution_count": 5,
   "metadata": {},
   "outputs": [
    {
     "ename": "SyntaxError",
     "evalue": "invalid syntax (<ipython-input-5-3b88c6d533b4>, line 4)",
     "output_type": "error",
     "traceback": [
      "\u001b[1;36m  File \u001b[1;32m\"<ipython-input-5-3b88c6d533b4>\"\u001b[1;36m, line \u001b[1;32m4\u001b[0m\n\u001b[1;33m    my var\u001b[0m\n\u001b[1;37m         ^\u001b[0m\n\u001b[1;31mSyntaxError\u001b[0m\u001b[1;31m:\u001b[0m invalid syntax\n"
     ]
    }
   ],
   "source": [
    "'''\n",
    "illegal variables\n",
    "'''\n",
    "my var"
   ]
  },
  {
   "cell_type": "code",
   "execution_count": 6,
   "metadata": {},
   "outputs": [
    {
     "name": "stdout",
     "output_type": "stream",
     "text": [
      "Naveen\n",
      "Steve\n",
      "Stark\n"
     ]
    }
   ],
   "source": [
    "'''\n",
    "Multi-word variable names:\n",
    "-------------------------\n",
    "\n",
    "-> variable names with more than one world can be difficult to read.\n",
    "\n",
    "-> There are several thechniques which we can use to make variable names more readable.\n",
    "'''\n",
    "\n",
    "\n",
    "#Camel Case:\n",
    "#each word, except the first starts with a captal letter\n",
    "\n",
    "myVariableName = 'Naveen'\n",
    "\n",
    "print(myVariableName)\n",
    "\n",
    "\n",
    "\n",
    "\n",
    "#Pascal Case:\n",
    "#Each word starts with a Capital letter\n",
    "\n",
    "MyVariableName = 'Steve'\n",
    "\n",
    "print(MyVariableName)\n",
    "\n",
    "\n",
    "\n",
    "\n",
    "#Snake Case\n",
    "#Each word is seperated by an underscore\n",
    "\n",
    "my_varible_name = 'Stark'\n",
    "\n",
    "print(my_varible_name)"
   ]
  },
  {
   "cell_type": "code",
   "execution_count": 7,
   "metadata": {},
   "outputs": [
    {
     "name": "stdout",
     "output_type": "stream",
     "text": [
      "Apple\n",
      "Mango\n",
      "Banana\n"
     ]
    }
   ],
   "source": [
    "'''\n",
    "Assign Multiple values to multiple variables;\n",
    "============================================\n",
    "\n",
    "Many values to multiple variables:\n",
    "-----------------------------------\n",
    "\n",
    "'''\n",
    "\n",
    "#python allows you to assign values to multiple variables in one line\n",
    "\n",
    "x,y,z = 'Apple', 'Mango', 'Banana'\n",
    "\n",
    "\n",
    "#Displayin values\n",
    "\n",
    "print(x)\n",
    "print(y)\n",
    "print(z)\n"
   ]
  },
  {
   "cell_type": "code",
   "execution_count": 9,
   "metadata": {},
   "outputs": [
    {
     "name": "stdout",
     "output_type": "stream",
     "text": [
      "Mango\n",
      "Mango\n",
      "Mango\n"
     ]
    }
   ],
   "source": [
    "'''\n",
    "One value to multiple variables:\n",
    "=================================\n",
    "'''\n",
    "\n",
    "# You can assign same value to multiple variables in line\n",
    "\n",
    "x=y=z = \"Mango\"\n",
    "\n",
    "print(x)\n",
    "print(y)\n",
    "print(z)\n"
   ]
  },
  {
   "cell_type": "code",
   "execution_count": null,
   "metadata": {},
   "outputs": [],
   "source": []
  }
 ],
 "metadata": {
  "kernelspec": {
   "display_name": "Python 3",
   "language": "python",
   "name": "python3"
  },
  "language_info": {
   "codemirror_mode": {
    "name": "ipython",
    "version": 3
   },
   "file_extension": ".py",
   "mimetype": "text/x-python",
   "name": "python",
   "nbconvert_exporter": "python",
   "pygments_lexer": "ipython3",
   "version": "3.7.6"
  }
 },
 "nbformat": 4,
 "nbformat_minor": 4
}
