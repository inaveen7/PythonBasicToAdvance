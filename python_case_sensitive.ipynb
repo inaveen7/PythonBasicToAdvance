{
 "cells": [
  {
   "cell_type": "code",
   "execution_count": 1,
   "metadata": {},
   "outputs": [
    {
     "name": "stdout",
     "output_type": "stream",
     "text": [
      "4\n",
      "Stark\n"
     ]
    }
   ],
   "source": [
    "'''\n",
    "In python, Variable names are case sensitive\n",
    "'''\n",
    "#below program creates two variables\n",
    "a=4\n",
    "A='Stark'\n",
    "\n",
    "#Displaying values\n",
    "print(a)\n",
    "print(A)   # 'A' will not override 'a'"
   ]
  },
  {
   "cell_type": "code",
   "execution_count": null,
   "metadata": {},
   "outputs": [],
   "source": []
  }
 ],
 "metadata": {
  "kernelspec": {
   "display_name": "Python 3",
   "language": "python",
   "name": "python3"
  },
  "language_info": {
   "codemirror_mode": {
    "name": "ipython",
    "version": 3
   },
   "file_extension": ".py",
   "mimetype": "text/x-python",
   "name": "python",
   "nbconvert_exporter": "python",
   "pygments_lexer": "ipython3",
   "version": "3.7.6"
  }
 },
 "nbformat": 4,
 "nbformat_minor": 4
}
