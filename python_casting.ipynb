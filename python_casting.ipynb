{
 "cells": [
  {
   "cell_type": "code",
   "execution_count": null,
   "metadata": {},
   "outputs": [],
   "source": [
    "# Python Casting (Specify a variable type)\n",
    "\n",
    "'''\n",
    "There may be times when you want to specify type on to a variable. This can be done with 'casting'.\n",
    "Python is an object-oriented language, and as such it uses classes to define data types, including its primitive types.\n",
    "\n",
    "Casting in python is therefore done by using constructor functions.\n",
    "\n",
    "'''"
   ]
  },
  {
   "cell_type": "code",
   "execution_count": 2,
   "metadata": {},
   "outputs": [
    {
     "name": "stdout",
     "output_type": "stream",
     "text": [
      "1\n",
      "2\n",
      "3\n"
     ]
    }
   ],
   "source": [
    "# Integers\n",
    "\n",
    "'''\n",
    "int() - constructs an integer number from an integer literal, a float literal (by removing all decimals), \n",
    "or a string literal (providing the string represents a whole number).\n",
    "\n",
    "\n",
    "'''\n",
    "# Example\n",
    "\n",
    "x = int(1)   # x will be 1\n",
    "y = int(2.8) # y will be 2\n",
    "z = int(\"3\") # z will be \n",
    "\n",
    "# Displaying after casting into int\n",
    "\n",
    "print(x)\n",
    "print(y)\n",
    "print(z)\n"
   ]
  },
  {
   "cell_type": "code",
   "execution_count": null,
   "metadata": {},
   "outputs": [],
   "source": []
  },
  {
   "cell_type": "code",
   "execution_count": 4,
   "metadata": {},
   "outputs": [
    {
     "name": "stdout",
     "output_type": "stream",
     "text": [
      "1.0\n",
      "2.8\n",
      "3.0\n",
      "4.2\n"
     ]
    }
   ],
   "source": [
    "# Floats\n",
    "\n",
    "'''\n",
    "float() - constructs a float number from an integer literal, a float literal, \n",
    "or a string literal (providing a string representing a float or an integer).\n",
    "\n",
    "'''\n",
    "#example\n",
    "\n",
    "x = float(1)     # x will be 1.0\n",
    "y = float(2.8)   # y will be 2.8\n",
    "z = float(\"3\")   # z will be 3.0\n",
    "w = float(\"4.2\") # w will be 4.2\n",
    "\n",
    "#Disapying after casting into float\n",
    "\n",
    "print(x)\n",
    "print(y)\n",
    "print(z)\n",
    "print(w)\n"
   ]
  },
  {
   "cell_type": "code",
   "execution_count": null,
   "metadata": {},
   "outputs": [],
   "source": []
  },
  {
   "cell_type": "code",
   "execution_count": 5,
   "metadata": {},
   "outputs": [
    {
     "name": "stdout",
     "output_type": "stream",
     "text": [
      "s1\n",
      "2\n",
      "3.0\n"
     ]
    }
   ],
   "source": [
    "# Strings\n",
    "\n",
    "'''\n",
    "str() - constructs a string from wide verity of data types, including strings, integer literals and float literals.\n",
    "\n",
    "'''\n",
    "# Example \n",
    "\n",
    "x = str(\"s1\") # x will be 's1'\n",
    "y = str(2)    # y will be '2'\n",
    "z = str(3.0)  # z will be '3.0'\n",
    "\n",
    "# Displaying after casting into str\n",
    "\n",
    "print(x)\n",
    "print(y)\n",
    "print(z)"
   ]
  },
  {
   "cell_type": "code",
   "execution_count": null,
   "metadata": {},
   "outputs": [],
   "source": []
  }
 ],
 "metadata": {
  "kernelspec": {
   "display_name": "Python 3",
   "language": "python",
   "name": "python3"
  },
  "language_info": {
   "codemirror_mode": {
    "name": "ipython",
    "version": 3
   },
   "file_extension": ".py",
   "mimetype": "text/x-python",
   "name": "python",
   "nbconvert_exporter": "python",
   "pygments_lexer": "ipython3",
   "version": "3.7.6"
  }
 },
 "nbformat": 4,
 "nbformat_minor": 4
}
