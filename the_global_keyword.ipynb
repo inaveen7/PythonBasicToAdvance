{
 "cells": [
  {
   "cell_type": "code",
   "execution_count": 5,
   "metadata": {},
   "outputs": [
    {
     "name": "stdout",
     "output_type": "stream",
     "text": [
      "out side of a function : Python is Fantastic\n"
     ]
    }
   ],
   "source": [
    "#The Global Keyword\n",
    "\n",
    "'''\n",
    "-> Normally when we create a variable inside a function, that is local and can only be accessed inside that function.\n",
    "\n",
    "-> To create a global varibale inside a function, we can use 'global' variable.\n",
    "\n",
    "'''\n",
    "\n",
    "#Example\n",
    "\n",
    "'''\n",
    "If you use the global keyword, the varibale belongs to global scope.\n",
    "'''\n",
    "\n",
    "def myfunc():\n",
    "    global x\n",
    "    x=\"Fantastic\"\n",
    "myfunc()    \n",
    "print(\"out side of a function : \"+ \"Python is \"+x)   # calling x from out side of a function.\n"
   ]
  },
  {
   "cell_type": "code",
   "execution_count": 8,
   "metadata": {},
   "outputs": [
    {
     "name": "stdout",
     "output_type": "stream",
     "text": [
      "Python is Fantastic\n"
     ]
    }
   ],
   "source": [
    "'''\n",
    "Also, we use the 'global' keyword if we want to change the global variable inside a function.\n",
    "'''\n",
    "\n",
    "#Example \n",
    "'''\n",
    "To change the value of a global variable inside a function, refer to the variable by using 'gloabl' keyword.\n",
    "\n",
    "'''\n",
    "x='Awesome'\n",
    "def myfunc():\n",
    "    global x\n",
    "    x='Fantastic'    # We have changed the global variable value.\n",
    "myfunc()\n",
    "print(\"Python is \"+x)  # The global variable value is got override by local variable value since we have used the 'global' keyword. \n",
    "    "
   ]
  },
  {
   "cell_type": "code",
   "execution_count": null,
   "metadata": {},
   "outputs": [],
   "source": []
  }
 ],
 "metadata": {
  "kernelspec": {
   "display_name": "Python 3",
   "language": "python",
   "name": "python3"
  },
  "language_info": {
   "codemirror_mode": {
    "name": "ipython",
    "version": 3
   },
   "file_extension": ".py",
   "mimetype": "text/x-python",
   "name": "python",
   "nbconvert_exporter": "python",
   "pygments_lexer": "ipython3",
   "version": "3.7.6"
  }
 },
 "nbformat": 4,
 "nbformat_minor": 4
}
